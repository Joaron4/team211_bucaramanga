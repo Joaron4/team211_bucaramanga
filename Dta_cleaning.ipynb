{
 "cells": [
  {
   "cell_type": "markdown",
   "id": "02113645",
   "metadata": {},
   "source": [
    "<h1 align=center style=\"font-size:2vw\"><span style=\"color:#2EA18C\">Proyecto alcaldía de Bucaramanga - Team 211</span></h1>\n",
    "\n",
    "<h2 align=left ><span style=\"color:#A12E43\">Members:</span></h2>\n",
    "\n",
    "- Cesar Marín\n",
    "- Angie Nicole Hernández\n",
    "- Giovanny De La Cruz\n",
    "- Jairo David Chia Bejarano\n",
    "- Juan Sebastian Rojas Sabogal\n",
    "- Michael Leonardo Gómez Gómez\n",
    "- José Joaquín Rondón Rubiano"
   ]
  },
  {
   "cell_type": "code",
   "execution_count": 1,
   "id": "88fb1e44",
   "metadata": {
    "id": "88fb1e44"
   },
   "outputs": [],
   "source": [
    "import pandas as pd\n",
    "import numpy as np\n",
    "import re\n",
    "from matplotlib import pyplot as plt\n",
    "import seaborn as sns"
   ]
  },
  {
   "cell_type": "markdown",
   "id": "22da8953",
   "metadata": {},
   "source": [
    "<h1 align=left style=\"font-size:1.5vw\"><span style=\"color:#2EA18C\">1. Dataset: Gender and domestic violence </span></h1>"
   ]
  },
  {
   "cell_type": "markdown",
   "id": "8a99cd66",
   "metadata": {},
   "source": [
    "<h3 align=left style=\"font-size:1.5vw\"><span style=\"color:#2E7DA1\">A) Importing the dataset:</span></h3>"
   ]
  },
  {
   "cell_type": "code",
   "execution_count": 2,
   "id": "af8eb3e8",
   "metadata": {
    "colab": {
     "base_uri": "https://localhost:8080/",
     "height": 330
    },
    "id": "af8eb3e8",
    "outputId": "dc2fde00-1b25-40fd-d821-0556aee40c78",
    "scrolled": true
   },
   "outputs": [
    {
     "data": {
      "text/html": [
       "<div>\n",
       "<style scoped>\n",
       "    .dataframe tbody tr th:only-of-type {\n",
       "        vertical-align: middle;\n",
       "    }\n",
       "\n",
       "    .dataframe tbody tr th {\n",
       "        vertical-align: top;\n",
       "    }\n",
       "\n",
       "    .dataframe thead th {\n",
       "        text-align: right;\n",
       "    }\n",
       "</style>\n",
       "<table border=\"1\" class=\"dataframe\">\n",
       "  <thead>\n",
       "    <tr style=\"text-align: right;\">\n",
       "      <th></th>\n",
       "      <th>Orden</th>\n",
       "      <th>Departamento</th>\n",
       "      <th>Municipio</th>\n",
       "      <th>semana</th>\n",
       "      <th>año</th>\n",
       "      <th>Grupo edad</th>\n",
       "      <th>Ciclo de vida</th>\n",
       "      <th>sexo_</th>\n",
       "      <th>area_</th>\n",
       "      <th>Barrio</th>\n",
       "      <th>...</th>\n",
       "      <th>sust_vict</th>\n",
       "      <th>fec_hecho</th>\n",
       "      <th>hora_hecho</th>\n",
       "      <th>escenario</th>\n",
       "      <th>zona_conf</th>\n",
       "      <th>nom_eve</th>\n",
       "      <th>nom_upgd</th>\n",
       "      <th>ndep_resi</th>\n",
       "      <th>nmun_resi</th>\n",
       "      <th>MES</th>\n",
       "    </tr>\n",
       "  </thead>\n",
       "  <tbody>\n",
       "    <tr>\n",
       "      <th>0</th>\n",
       "      <td>1</td>\n",
       "      <td>SANTANDER</td>\n",
       "      <td>BUCARAMANGA</td>\n",
       "      <td>23</td>\n",
       "      <td>2015</td>\n",
       "      <td>12 a 17</td>\n",
       "      <td>Adolescencia</td>\n",
       "      <td>Masculino</td>\n",
       "      <td>CABECERA MUNICIPAL</td>\n",
       "      <td>Transición</td>\n",
       "      <td>...</td>\n",
       "      <td>2</td>\n",
       "      <td>2015-06-12T00:00:00.000</td>\n",
       "      <td>06:30</td>\n",
       "      <td>1.0</td>\n",
       "      <td>2</td>\n",
       "      <td>VIGILANCIA EN SALUD PÚBLICA DE LAS VIOLENCIAS ...</td>\n",
       "      <td>SERVICLINICOS DROMEDICA SA</td>\n",
       "      <td>SANTANDER</td>\n",
       "      <td>BUCARAMANGA</td>\n",
       "      <td>06. Junio</td>\n",
       "    </tr>\n",
       "  </tbody>\n",
       "</table>\n",
       "<p>1 rows × 32 columns</p>\n",
       "</div>"
      ],
      "text/plain": [
       "   Orden Departamento    Municipio  semana   año Grupo edad Ciclo de vida  \\\n",
       "0      1    SANTANDER  BUCARAMANGA      23  2015    12 a 17  Adolescencia   \n",
       "\n",
       "       sexo_               area_      Barrio  ... sust_vict  \\\n",
       "0  Masculino  CABECERA MUNICIPAL  Transición  ...         2   \n",
       "\n",
       "                 fec_hecho  hora_hecho  escenario zona_conf  \\\n",
       "0  2015-06-12T00:00:00.000       06:30        1.0         2   \n",
       "\n",
       "                                             nom_eve  \\\n",
       "0  VIGILANCIA EN SALUD PÚBLICA DE LAS VIOLENCIAS ...   \n",
       "\n",
       "                     nom_upgd  ndep_resi    nmun_resi        MES  \n",
       "0  SERVICLINICOS DROMEDICA SA  SANTANDER  BUCARAMANGA  06. Junio  \n",
       "\n",
       "[1 rows x 32 columns]"
      ]
     },
     "execution_count": 2,
     "metadata": {},
     "output_type": "execute_result"
    }
   ],
   "source": [
    "violencia = pd.read_csv('Violenciager.csv',encoding=\"utf-8\")\n",
    "violencia.head(1)"
   ]
  },
  {
   "cell_type": "markdown",
   "id": "d55a4753",
   "metadata": {
    "id": "d55a4753"
   },
   "source": [
    "<h3 align=left style=\"font-size:1.5vw\"><span style=\"color:#2E7DA1\">B) Exploring our Dataset:</span></h3>"
   ]
  },
  {
   "cell_type": "markdown",
   "id": "3a9e7f47",
   "metadata": {},
   "source": [
    "## - Dataset columns:"
   ]
  },
  {
   "cell_type": "code",
   "execution_count": 3,
   "id": "9577199e",
   "metadata": {
    "id": "9577199e",
    "outputId": "eb0888f5-4ac5-489d-d123-e6fdc9745e49"
   },
   "outputs": [
    {
     "data": {
      "text/plain": [
       "Index(['Orden', 'Departamento', 'Municipio', 'semana', 'año', 'Grupo edad',\n",
       "       'Ciclo de vida', 'sexo_', 'area_', 'Barrio', 'Comuna',\n",
       "       'Tipo de Seguridad Social', 'pac_hos_', 'con_fin_', 'version',\n",
       "       'naturaleza', 'def_naturaleza', 'actividad', 'nom_actividad',\n",
       "       'edad_agre', 'sexo_agre', 'parentezco_vict', 'sust_vict', 'fec_hecho',\n",
       "       'hora_hecho', 'escenario', 'zona_conf', 'nom_eve', 'nom_upgd',\n",
       "       'ndep_resi', 'nmun_resi', 'MES'],\n",
       "      dtype='object')"
      ]
     },
     "execution_count": 3,
     "metadata": {},
     "output_type": "execute_result"
    }
   ],
   "source": [
    "violencia.columns"
   ]
  },
  {
   "cell_type": "markdown",
   "id": "ba76eed8",
   "metadata": {
    "id": "ba76eed8"
   },
   "source": [
    "## - Filtering by deparment: Santander"
   ]
  },
  {
   "cell_type": "markdown",
   "id": "67fe5471",
   "metadata": {
    "id": "67fe5471"
   },
   "source": [
    "We chose the deparment of santander instead of just the city of Bucaramanga aiming to complete the missing values"
   ]
  },
  {
   "cell_type": "code",
   "execution_count": 4,
   "id": "7a135dea",
   "metadata": {
    "id": "7a135dea"
   },
   "outputs": [],
   "source": [
    "violencia = violencia[violencia['Departamento'] == 'SANTANDER']\n",
    "violencia['Departamento'] = violencia['Departamento'].str.lower()\n",
    "violencia['Municipio'] =violencia['Municipio'].str.lower()"
   ]
  },
  {
   "cell_type": "code",
   "execution_count": 5,
   "id": "ff8bf012",
   "metadata": {},
   "outputs": [],
   "source": [
    "violencia.columns= violencia.columns.str.lower()"
   ]
  },
  {
   "cell_type": "markdown",
   "id": "50c79744",
   "metadata": {
    "id": "50c79744"
   },
   "source": [
    "## - Missing Values"
   ]
  },
  {
   "cell_type": "code",
   "execution_count": 6,
   "id": "36067c72",
   "metadata": {
    "id": "36067c72",
    "outputId": "70f03f83-ddfd-4577-93a2-597329d469a0",
    "scrolled": true
   },
   "outputs": [
    {
     "data": {
      "text/html": [
       "<div>\n",
       "<style scoped>\n",
       "    .dataframe tbody tr th:only-of-type {\n",
       "        vertical-align: middle;\n",
       "    }\n",
       "\n",
       "    .dataframe tbody tr th {\n",
       "        vertical-align: top;\n",
       "    }\n",
       "\n",
       "    .dataframe thead th {\n",
       "        text-align: right;\n",
       "    }\n",
       "</style>\n",
       "<table border=\"1\" class=\"dataframe\">\n",
       "  <thead>\n",
       "    <tr style=\"text-align: right;\">\n",
       "      <th></th>\n",
       "      <th>label</th>\n",
       "      <th>missing</th>\n",
       "    </tr>\n",
       "  </thead>\n",
       "  <tbody>\n",
       "    <tr>\n",
       "      <th>naturaleza</th>\n",
       "      <td>naturaleza</td>\n",
       "      <td>1.445030</td>\n",
       "    </tr>\n",
       "    <tr>\n",
       "      <th>def_naturaleza</th>\n",
       "      <td>def_naturaleza</td>\n",
       "      <td>1.445030</td>\n",
       "    </tr>\n",
       "    <tr>\n",
       "      <th>edad_agre</th>\n",
       "      <td>edad_agre</td>\n",
       "      <td>24.585042</td>\n",
       "    </tr>\n",
       "    <tr>\n",
       "      <th>sexo_agre</th>\n",
       "      <td>sexo_agre</td>\n",
       "      <td>0.068346</td>\n",
       "    </tr>\n",
       "    <tr>\n",
       "      <th>fec_hecho</th>\n",
       "      <td>fec_hecho</td>\n",
       "      <td>0.048819</td>\n",
       "    </tr>\n",
       "    <tr>\n",
       "      <th>hora_hecho</th>\n",
       "      <td>hora_hecho</td>\n",
       "      <td>44.727592</td>\n",
       "    </tr>\n",
       "    <tr>\n",
       "      <th>escenario</th>\n",
       "      <td>escenario</td>\n",
       "      <td>0.029291</td>\n",
       "    </tr>\n",
       "  </tbody>\n",
       "</table>\n",
       "</div>"
      ],
      "text/plain": [
       "                         label    missing\n",
       "naturaleza          naturaleza   1.445030\n",
       "def_naturaleza  def_naturaleza   1.445030\n",
       "edad_agre            edad_agre  24.585042\n",
       "sexo_agre            sexo_agre   0.068346\n",
       "fec_hecho            fec_hecho   0.048819\n",
       "hora_hecho          hora_hecho  44.727592\n",
       "escenario            escenario   0.029291"
      ]
     },
     "execution_count": 6,
     "metadata": {},
     "output_type": "execute_result"
    }
   ],
   "source": [
    "percent_missing = violencia.isnull().sum() * 100 / len(violencia)\n",
    "miss_values = pd.DataFrame({'label': violencia.columns,\n",
    "                            'missing': percent_missing})\n",
    "miss_values[miss_values['missing']> 0]"
   ]
  },
  {
   "cell_type": "markdown",
   "id": "c647c934",
   "metadata": {
    "id": "c647c934"
   },
   "source": [
    "<h3 align=left style=\"font-size:1.5vw\"><span style=\"color:#2E7DA1\">C) Giving consistency to our dataset and data cleaning:</span></h3>"
   ]
  },
  {
   "cell_type": "markdown",
   "id": "2442d451",
   "metadata": {},
   "source": [
    "Firstly, These are the colums and their data type:"
   ]
  },
  {
   "cell_type": "code",
   "execution_count": 7,
   "id": "9c5ab5f4",
   "metadata": {
    "id": "9c5ab5f4",
    "outputId": "09982ff2-96dc-4d3d-c13d-0bd4d19ac1cc",
    "scrolled": false
   },
   "outputs": [
    {
     "name": "stdout",
     "output_type": "stream",
     "text": [
      "<class 'pandas.core.frame.DataFrame'>\n",
      "Int64Index: 10242 entries, 0 to 10334\n",
      "Data columns (total 32 columns):\n",
      " #   Column                    Non-Null Count  Dtype  \n",
      "---  ------                    --------------  -----  \n",
      " 0   orden                     10242 non-null  int64  \n",
      " 1   departamento              10242 non-null  object \n",
      " 2   municipio                 10242 non-null  object \n",
      " 3   semana                    10242 non-null  int64  \n",
      " 4   año                       10242 non-null  int64  \n",
      " 5   grupo edad                10242 non-null  object \n",
      " 6   ciclo de vida             10242 non-null  object \n",
      " 7   sexo_                     10242 non-null  object \n",
      " 8   area_                     10242 non-null  object \n",
      " 9   barrio                    10242 non-null  object \n",
      " 10  comuna                    10242 non-null  object \n",
      " 11  tipo de seguridad social  10242 non-null  object \n",
      " 12  pac_hos_                  10242 non-null  int64  \n",
      " 13  con_fin_                  10242 non-null  int64  \n",
      " 14  version                   10242 non-null  object \n",
      " 15  naturaleza                10094 non-null  float64\n",
      " 16  def_naturaleza            10094 non-null  object \n",
      " 17  actividad                 10242 non-null  int64  \n",
      " 18  nom_actividad             10242 non-null  object \n",
      " 19  edad_agre                 7724 non-null   float64\n",
      " 20  sexo_agre                 10235 non-null  object \n",
      " 21  parentezco_vict           10242 non-null  object \n",
      " 22  sust_vict                 10242 non-null  int64  \n",
      " 23  fec_hecho                 10237 non-null  object \n",
      " 24  hora_hecho                5661 non-null   object \n",
      " 25  escenario                 10239 non-null  float64\n",
      " 26  zona_conf                 10242 non-null  int64  \n",
      " 27  nom_eve                   10242 non-null  object \n",
      " 28  nom_upgd                  10242 non-null  object \n",
      " 29  ndep_resi                 10242 non-null  object \n",
      " 30  nmun_resi                 10242 non-null  object \n",
      " 31  mes                       10242 non-null  object \n",
      "dtypes: float64(3), int64(8), object(21)\n",
      "memory usage: 2.6+ MB\n"
     ]
    }
   ],
   "source": [
    "violencia.info()"
   ]
  },
  {
   "cell_type": "markdown",
   "id": "9f737951",
   "metadata": {},
   "source": [
    "## - Year and week"
   ]
  },
  {
   "cell_type": "markdown",
   "id": "50dd8afc",
   "metadata": {
    "id": "50dd8afc"
   },
   "source": [
    "We'll convert the week and Year int 64 columns to date time"
   ]
  },
  {
   "cell_type": "code",
   "execution_count": 8,
   "id": "4052cd26",
   "metadata": {
    "id": "4052cd26"
   },
   "outputs": [],
   "source": [
    "violencia['semana'] = pd.to_datetime(violencia['semana'], format=\"%w\",errors='ignore')"
   ]
  },
  {
   "cell_type": "markdown",
   "id": "201366c1",
   "metadata": {},
   "source": [
    "- there are 3 unconvertable week values, so for the time being we'll ignore it"
   ]
  },
  {
   "cell_type": "code",
   "execution_count": 9,
   "id": "8155247a",
   "metadata": {
    "id": "8155247a"
   },
   "outputs": [],
   "source": [
    "\n",
    "violencia['año'] = pd.to_datetime(violencia['año'], format=\"%Y\")"
   ]
  },
  {
   "cell_type": "markdown",
   "id": "894ed5a6",
   "metadata": {},
   "source": [
    "## - Age group and lifecycle"
   ]
  },
  {
   "cell_type": "markdown",
   "id": "2f408d17",
   "metadata": {
    "id": "2f408d17"
   },
   "source": [
    "We converted these two data objects to categories, Also we change some error excel values to np.nan "
   ]
  },
  {
   "cell_type": "code",
   "execution_count": 10,
   "id": "e04bde70",
   "metadata": {
    "id": "e04bde70"
   },
   "outputs": [
    {
     "ename": "KeyError",
     "evalue": "'Grupo edad'",
     "output_type": "error",
     "traceback": [
      "\u001b[1;31m---------------------------------------------------------------------------\u001b[0m",
      "\u001b[1;31mKeyError\u001b[0m                                  Traceback (most recent call last)",
      "\u001b[1;32m~\\anaconda3\\lib\\site-packages\\pandas\\core\\indexes\\base.py\u001b[0m in \u001b[0;36mget_loc\u001b[1;34m(self, key, method, tolerance)\u001b[0m\n\u001b[0;32m   3080\u001b[0m             \u001b[1;32mtry\u001b[0m\u001b[1;33m:\u001b[0m\u001b[1;33m\u001b[0m\u001b[1;33m\u001b[0m\u001b[0m\n\u001b[1;32m-> 3081\u001b[1;33m                 \u001b[1;32mreturn\u001b[0m \u001b[0mself\u001b[0m\u001b[1;33m.\u001b[0m\u001b[0m_engine\u001b[0m\u001b[1;33m.\u001b[0m\u001b[0mget_loc\u001b[0m\u001b[1;33m(\u001b[0m\u001b[0mcasted_key\u001b[0m\u001b[1;33m)\u001b[0m\u001b[1;33m\u001b[0m\u001b[1;33m\u001b[0m\u001b[0m\n\u001b[0m\u001b[0;32m   3082\u001b[0m             \u001b[1;32mexcept\u001b[0m \u001b[0mKeyError\u001b[0m \u001b[1;32mas\u001b[0m \u001b[0merr\u001b[0m\u001b[1;33m:\u001b[0m\u001b[1;33m\u001b[0m\u001b[1;33m\u001b[0m\u001b[0m\n",
      "\u001b[1;32mpandas\\_libs\\index.pyx\u001b[0m in \u001b[0;36mpandas._libs.index.IndexEngine.get_loc\u001b[1;34m()\u001b[0m\n",
      "\u001b[1;32mpandas\\_libs\\index.pyx\u001b[0m in \u001b[0;36mpandas._libs.index.IndexEngine.get_loc\u001b[1;34m()\u001b[0m\n",
      "\u001b[1;32mpandas\\_libs\\hashtable_class_helper.pxi\u001b[0m in \u001b[0;36mpandas._libs.hashtable.PyObjectHashTable.get_item\u001b[1;34m()\u001b[0m\n",
      "\u001b[1;32mpandas\\_libs\\hashtable_class_helper.pxi\u001b[0m in \u001b[0;36mpandas._libs.hashtable.PyObjectHashTable.get_item\u001b[1;34m()\u001b[0m\n",
      "\u001b[1;31mKeyError\u001b[0m: 'Grupo edad'",
      "\nThe above exception was the direct cause of the following exception:\n",
      "\u001b[1;31mKeyError\u001b[0m                                  Traceback (most recent call last)",
      "\u001b[1;32m<ipython-input-10-cfc4edffaa1b>\u001b[0m in \u001b[0;36m<module>\u001b[1;34m\u001b[0m\n\u001b[1;32m----> 1\u001b[1;33m \u001b[0mviolencia\u001b[0m\u001b[1;33m[\u001b[0m\u001b[1;34m'Grupo edad'\u001b[0m\u001b[1;33m]\u001b[0m \u001b[1;33m=\u001b[0m\u001b[0mviolencia\u001b[0m\u001b[1;33m[\u001b[0m\u001b[1;34m'Grupo edad'\u001b[0m\u001b[1;33m]\u001b[0m\u001b[1;33m.\u001b[0m\u001b[0mreplace\u001b[0m\u001b[1;33m(\u001b[0m\u001b[1;34m'ERROR: #N/A'\u001b[0m\u001b[1;33m,\u001b[0m\u001b[0mnp\u001b[0m\u001b[1;33m.\u001b[0m\u001b[0mnan\u001b[0m\u001b[1;33m)\u001b[0m\u001b[1;33m.\u001b[0m\u001b[0mastype\u001b[0m\u001b[1;33m(\u001b[0m\u001b[1;34m'category'\u001b[0m\u001b[1;33m)\u001b[0m\u001b[1;33m\u001b[0m\u001b[1;33m\u001b[0m\u001b[0m\n\u001b[0m",
      "\u001b[1;32m~\\anaconda3\\lib\\site-packages\\pandas\\core\\frame.py\u001b[0m in \u001b[0;36m__getitem__\u001b[1;34m(self, key)\u001b[0m\n\u001b[0;32m   3022\u001b[0m             \u001b[1;32mif\u001b[0m \u001b[0mself\u001b[0m\u001b[1;33m.\u001b[0m\u001b[0mcolumns\u001b[0m\u001b[1;33m.\u001b[0m\u001b[0mnlevels\u001b[0m \u001b[1;33m>\u001b[0m \u001b[1;36m1\u001b[0m\u001b[1;33m:\u001b[0m\u001b[1;33m\u001b[0m\u001b[1;33m\u001b[0m\u001b[0m\n\u001b[0;32m   3023\u001b[0m                 \u001b[1;32mreturn\u001b[0m \u001b[0mself\u001b[0m\u001b[1;33m.\u001b[0m\u001b[0m_getitem_multilevel\u001b[0m\u001b[1;33m(\u001b[0m\u001b[0mkey\u001b[0m\u001b[1;33m)\u001b[0m\u001b[1;33m\u001b[0m\u001b[1;33m\u001b[0m\u001b[0m\n\u001b[1;32m-> 3024\u001b[1;33m             \u001b[0mindexer\u001b[0m \u001b[1;33m=\u001b[0m \u001b[0mself\u001b[0m\u001b[1;33m.\u001b[0m\u001b[0mcolumns\u001b[0m\u001b[1;33m.\u001b[0m\u001b[0mget_loc\u001b[0m\u001b[1;33m(\u001b[0m\u001b[0mkey\u001b[0m\u001b[1;33m)\u001b[0m\u001b[1;33m\u001b[0m\u001b[1;33m\u001b[0m\u001b[0m\n\u001b[0m\u001b[0;32m   3025\u001b[0m             \u001b[1;32mif\u001b[0m \u001b[0mis_integer\u001b[0m\u001b[1;33m(\u001b[0m\u001b[0mindexer\u001b[0m\u001b[1;33m)\u001b[0m\u001b[1;33m:\u001b[0m\u001b[1;33m\u001b[0m\u001b[1;33m\u001b[0m\u001b[0m\n\u001b[0;32m   3026\u001b[0m                 \u001b[0mindexer\u001b[0m \u001b[1;33m=\u001b[0m \u001b[1;33m[\u001b[0m\u001b[0mindexer\u001b[0m\u001b[1;33m]\u001b[0m\u001b[1;33m\u001b[0m\u001b[1;33m\u001b[0m\u001b[0m\n",
      "\u001b[1;32m~\\anaconda3\\lib\\site-packages\\pandas\\core\\indexes\\base.py\u001b[0m in \u001b[0;36mget_loc\u001b[1;34m(self, key, method, tolerance)\u001b[0m\n\u001b[0;32m   3081\u001b[0m                 \u001b[1;32mreturn\u001b[0m \u001b[0mself\u001b[0m\u001b[1;33m.\u001b[0m\u001b[0m_engine\u001b[0m\u001b[1;33m.\u001b[0m\u001b[0mget_loc\u001b[0m\u001b[1;33m(\u001b[0m\u001b[0mcasted_key\u001b[0m\u001b[1;33m)\u001b[0m\u001b[1;33m\u001b[0m\u001b[1;33m\u001b[0m\u001b[0m\n\u001b[0;32m   3082\u001b[0m             \u001b[1;32mexcept\u001b[0m \u001b[0mKeyError\u001b[0m \u001b[1;32mas\u001b[0m \u001b[0merr\u001b[0m\u001b[1;33m:\u001b[0m\u001b[1;33m\u001b[0m\u001b[1;33m\u001b[0m\u001b[0m\n\u001b[1;32m-> 3083\u001b[1;33m                 \u001b[1;32mraise\u001b[0m \u001b[0mKeyError\u001b[0m\u001b[1;33m(\u001b[0m\u001b[0mkey\u001b[0m\u001b[1;33m)\u001b[0m \u001b[1;32mfrom\u001b[0m \u001b[0merr\u001b[0m\u001b[1;33m\u001b[0m\u001b[1;33m\u001b[0m\u001b[0m\n\u001b[0m\u001b[0;32m   3084\u001b[0m \u001b[1;33m\u001b[0m\u001b[0m\n\u001b[0;32m   3085\u001b[0m         \u001b[1;32mif\u001b[0m \u001b[0mtolerance\u001b[0m \u001b[1;32mis\u001b[0m \u001b[1;32mnot\u001b[0m \u001b[1;32mNone\u001b[0m\u001b[1;33m:\u001b[0m\u001b[1;33m\u001b[0m\u001b[1;33m\u001b[0m\u001b[0m\n",
      "\u001b[1;31mKeyError\u001b[0m: 'Grupo edad'"
     ]
    }
   ],
   "source": [
    "violencia['Grupo edad'] =violencia['Grupo edad'].replace('ERROR: #N/A',np.nan).astype('category') "
   ]
  },
  {
   "cell_type": "code",
   "execution_count": null,
   "id": "bdda0cba",
   "metadata": {
    "id": "bdda0cba",
    "scrolled": false
   },
   "outputs": [],
   "source": [
    "violencia['Ciclo de vida']= violencia['Ciclo de vida'].replace('ERROR: #N/A',np.nan).str.lower()"
   ]
  },
  {
   "cell_type": "markdown",
   "id": "96dfaf2c",
   "metadata": {},
   "source": [
    "## - Sex"
   ]
  },
  {
   "cell_type": "markdown",
   "id": "6e109338",
   "metadata": {},
   "source": [
    "There are only two values F and M, so we coverted it to two categories, and lowered their case"
   ]
  },
  {
   "cell_type": "code",
   "execution_count": null,
   "id": "a5fbc515",
   "metadata": {
    "id": "a5fbc515"
   },
   "outputs": [],
   "source": [
    "violencia['sexo_'] = violencia['sexo_'].astype('category').str.lower()"
   ]
  },
  {
   "cell_type": "markdown",
   "id": "1b5bc0c7",
   "metadata": {},
   "source": [
    "## - Neighboorhoods"
   ]
  },
  {
   "cell_type": "markdown",
   "id": "8f99cb3b",
   "metadata": {
    "id": "8f99cb3b"
   },
   "source": [
    "We lowered the case of the neighboorhoods "
   ]
  },
  {
   "cell_type": "code",
   "execution_count": null,
   "id": "da90f9e7",
   "metadata": {
    "id": "da90f9e7"
   },
   "outputs": [],
   "source": [
    "violencia['Barrio'] = violencia['Barrio'].str.lower()"
   ]
  },
  {
   "cell_type": "markdown",
   "id": "3215f0e7",
   "metadata": {},
   "source": [
    "## - Boroughs"
   ]
  },
  {
   "cell_type": "markdown",
   "id": "cf0ba8e9",
   "metadata": {},
   "source": [
    "The boroughs were quite a challenge as they had points and numbers in each entry.\n",
    "\n",
    "- First we lowered the case"
   ]
  },
  {
   "cell_type": "code",
   "execution_count": null,
   "id": "36fff568",
   "metadata": {
    "id": "36fff568"
   },
   "outputs": [],
   "source": [
    "violencia['Comuna']= violencia['Comuna'].str.lower()"
   ]
  },
  {
   "cell_type": "markdown",
   "id": "b3879c65",
   "metadata": {
    "id": "b3879c65"
   },
   "source": [
    "- Then ussing re we got rid of those points and numbers, and appended it to a list"
   ]
  },
  {
   "cell_type": "code",
   "execution_count": null,
   "id": "8e6173ce",
   "metadata": {
    "id": "8e6173ce"
   },
   "outputs": [],
   "source": [
    "\n",
    "order = r'[0-9,.]'\n",
    "comunas = list(violencia['Comuna'].str.lower())\n",
    "comunas_clean = []\n",
    "for i in range(len(comunas)):\n",
    "    \n",
    "    filtered_string = re.sub(order,'',comunas[i])\n",
    "    comunas_clean.append(filtered_string.lstrip())        \n",
    "\n",
    "comunas_clean = pd.Series(comunas_clean)"
   ]
  },
  {
   "cell_type": "markdown",
   "id": "51ab05bd",
   "metadata": {
    "id": "51ab05bd"
   },
   "source": [
    "- Finally we replace the *Comuna* colums with our cleaned list "
   ]
  },
  {
   "cell_type": "code",
   "execution_count": null,
   "id": "b0d795fe",
   "metadata": {
    "id": "b0d795fe"
   },
   "outputs": [],
   "source": [
    "violencia['Comuna'] =comunas_clean"
   ]
  },
  {
   "cell_type": "markdown",
   "id": "15f82250",
   "metadata": {},
   "source": [
    "## - Social security"
   ]
  },
  {
   "cell_type": "markdown",
   "id": "1e4a7a48",
   "metadata": {
    "id": "1e4a7a48"
   },
   "source": [
    "We only lowered its case"
   ]
  },
  {
   "cell_type": "code",
   "execution_count": null,
   "id": "e05f3be3",
   "metadata": {
    "id": "e05f3be3"
   },
   "outputs": [],
   "source": [
    "violencia['Tipo de Seguridad Social']=violencia['Tipo de Seguridad Social'].str.lower()"
   ]
  },
  {
   "cell_type": "markdown",
   "id": "0a4d910e",
   "metadata": {},
   "source": [
    "## - Death or alive arrival state"
   ]
  },
  {
   "cell_type": "markdown",
   "id": "2c2f7377",
   "metadata": {
    "id": "2c2f7377"
   },
   "source": [
    "CoWe converted it to a category, but there was a strange categoy '0' which din´t corresponded to death or alive so we replaced it with nan values"
   ]
  },
  {
   "cell_type": "code",
   "execution_count": null,
   "id": "e93d585e",
   "metadata": {},
   "outputs": [],
   "source": [
    "violencia[violencia['con_fin_']==0].count()"
   ]
  },
  {
   "cell_type": "code",
   "execution_count": null,
   "id": "07f972ee",
   "metadata": {
    "id": "07f972ee"
   },
   "outputs": [],
   "source": [
    "violencia['con_fin_'] = violencia['con_fin_'].astype('category').replace(0,np.nan)"
   ]
  },
  {
   "cell_type": "markdown",
   "id": "33d2d7ee",
   "metadata": {},
   "source": [
    "## - Type of violence and description"
   ]
  },
  {
   "cell_type": "markdown",
   "id": "9c15fe24",
   "metadata": {
    "id": "9c15fe24"
   },
   "source": [
    "There was a category ('99') that meant 'no information', so we converted it to a nan to perform interpolation in this column, then it was categorized"
   ]
  },
  {
   "cell_type": "code",
   "execution_count": null,
   "id": "45af2d44",
   "metadata": {
    "id": "45af2d44"
   },
   "outputs": [],
   "source": [
    "violencia['naturaleza'] = violencia['naturaleza'].replace(99.0,np.nan)\n",
    "violencia['naturaleza']=violencia['naturaleza'].astype('category')"
   ]
  },
  {
   "cell_type": "markdown",
   "id": "e17a384a",
   "metadata": {
    "id": "e17a384a"
   },
   "source": [
    "'no information' was replaced by a nan"
   ]
  },
  {
   "cell_type": "code",
   "execution_count": null,
   "id": "538cc38c",
   "metadata": {
    "id": "538cc38c"
   },
   "outputs": [],
   "source": [
    "\n",
    "\n",
    "violencia['def_naturaleza'] =violencia['def_naturaleza'].replace('Sin información',np.nan)\n",
    "violencia['def_naturaleza']=violencia['def_naturaleza'].str.lower().astype('category')"
   ]
  },
  {
   "cell_type": "markdown",
   "id": "36c9774e",
   "metadata": {},
   "source": [
    "## - Type of activity and description"
   ]
  },
  {
   "cell_type": "markdown",
   "id": "d20bc4a7",
   "metadata": {
    "id": "d20bc4a7"
   },
   "source": [
    "we categorized the activities"
   ]
  },
  {
   "cell_type": "code",
   "execution_count": null,
   "id": "003819f5",
   "metadata": {
    "id": "003819f5"
   },
   "outputs": [],
   "source": [
    "violencia['actividad']\n",
    "violencia['actividad'] =violencia['actividad'].astype('category')"
   ]
  },
  {
   "cell_type": "markdown",
   "id": "cf6fb248",
   "metadata": {
    "id": "cf6fb248"
   },
   "source": [
    "there was what seemend to be a excel error we changed it to a nan value"
   ]
  },
  {
   "cell_type": "code",
   "execution_count": null,
   "id": "56f20f2e",
   "metadata": {
    "id": "56f20f2e",
    "scrolled": false
   },
   "outputs": [],
   "source": [
    "violencia['nom_actividad']= violencia['nom_actividad'].replace('ERROR: #N/A',np.nan).str.lower()\n",
    "violencia['nom_actividad'] =violencia['nom_actividad'].astype('category')"
   ]
  },
  {
   "cell_type": "code",
   "execution_count": null,
   "id": "ffc1f6f6",
   "metadata": {
    "id": "ffc1f6f6",
    "outputId": "de8b47bf-65be-47c9-caaa-f066a34262c0",
    "scrolled": true
   },
   "outputs": [],
   "source": [
    "violencia['nom_actividad'].unique()"
   ]
  },
  {
   "cell_type": "markdown",
   "id": "7a75f296",
   "metadata": {},
   "source": [
    "## - Agressor age"
   ]
  },
  {
   "cell_type": "markdown",
   "id": "57c332a5",
   "metadata": {},
   "source": [
    "We change this float64 to a category in order to replace its missing values (which were around 24%), also it seemed a little nonsensical that that there were 2000 agressors with age 0 so we remplaced those values with a nan.\n",
    "\n",
    "This provoked that the missing values skyrocketed from 24% to 50%"
   ]
  },
  {
   "cell_type": "code",
   "execution_count": null,
   "id": "b10a1f9d",
   "metadata": {
    "id": "b10a1f9d",
    "scrolled": false
   },
   "outputs": [],
   "source": [
    "\n",
    "violencia['edad_agre']=violencia['edad_agre'].astype('category')\n"
   ]
  },
  {
   "cell_type": "code",
   "execution_count": null,
   "id": "909aab6b",
   "metadata": {
    "id": "909aab6b"
   },
   "outputs": [],
   "source": [
    "violencia['edad_agre'] = violencia['edad_agre'].replace(0.0,np.nan)"
   ]
  },
  {
   "cell_type": "code",
   "execution_count": null,
   "id": "54b9b5b2",
   "metadata": {},
   "outputs": [],
   "source": [
    "violencia['edad_agre']=violencia['edad_agre'].astype('float64')"
   ]
  },
  {
   "cell_type": "markdown",
   "id": "ea9d8122",
   "metadata": {},
   "source": [
    "## - Agressor sex"
   ]
  },
  {
   "cell_type": "markdown",
   "id": "fe017324",
   "metadata": {
    "id": "fe017324"
   },
   "source": [
    "It has 4 categories M,MF SD e I"
   ]
  },
  {
   "cell_type": "code",
   "execution_count": null,
   "id": "2e0ec82e",
   "metadata": {
    "id": "2e0ec82e"
   },
   "outputs": [],
   "source": [
    "violencia['sexo_agre'] =violencia['sexo_agre'].astype('category')"
   ]
  },
  {
   "cell_type": "markdown",
   "id": "09c9a28e",
   "metadata": {},
   "source": [
    "## - Victim kinship"
   ]
  },
  {
   "cell_type": "markdown",
   "id": "854d3dee",
   "metadata": {
    "id": "854d3dee"
   },
   "source": [
    "we lowered its case"
   ]
  },
  {
   "cell_type": "code",
   "execution_count": null,
   "id": "dae5f8a7",
   "metadata": {
    "id": "dae5f8a7"
   },
   "outputs": [],
   "source": [
    "violencia['parentezco_vict'] = violencia['parentezco_vict'].str.lower()\n"
   ]
  },
  {
   "cell_type": "markdown",
   "id": "69d38174",
   "metadata": {},
   "source": [
    "## - Ocurrence date"
   ]
  },
  {
   "cell_type": "markdown",
   "id": "db209eae",
   "metadata": {
    "id": "db209eae"
   },
   "source": [
    "We changed the ocurrence date to date time, we had to split the original object date\n"
   ]
  },
  {
   "cell_type": "code",
   "execution_count": null,
   "id": "aa43560d",
   "metadata": {
    "id": "aa43560d"
   },
   "outputs": [],
   "source": [
    "violencia['fec_hecho']=pd.to_datetime(violencia['fec_hecho'].str.split('T00').str[0],format='%Y-%m-%d')"
   ]
  },
  {
   "cell_type": "markdown",
   "id": "b2a6d504",
   "metadata": {},
   "source": [
    "## - Ocurrence Hour"
   ]
  },
  {
   "cell_type": "markdown",
   "id": "3e518020",
   "metadata": {
    "id": "3e518020"
   },
   "source": [
    "We are missing 44% of hour data but we hadn´t any feasible way of interpolating these valeus so we had to only convert the complete values that we had to date time.\n"
   ]
  },
  {
   "cell_type": "code",
   "execution_count": null,
   "id": "19181739",
   "metadata": {
    "id": "19181739"
   },
   "outputs": [],
   "source": [
    "violencia['hora_hecho'] = pd.to_datetime(violencia['hora_hecho'],format='%H:%M',errors= 'ignore')"
   ]
  },
  {
   "cell_type": "markdown",
   "id": "0e337d36",
   "metadata": {
    "id": "0e337d36"
   },
   "source": [
    "## - Residence deparment"
   ]
  },
  {
   "cell_type": "markdown",
   "id": "e08d8c01",
   "metadata": {},
   "source": [
    "We lowered its case"
   ]
  },
  {
   "cell_type": "code",
   "execution_count": null,
   "id": "ff7b9419",
   "metadata": {
    "id": "ff7b9419"
   },
   "outputs": [],
   "source": [
    "violencia['ndep_resi'] = violencia['ndep_resi'].str.lower()"
   ]
  },
  {
   "cell_type": "markdown",
   "id": "ceea6831",
   "metadata": {
    "id": "ceea6831"
   },
   "source": [
    "## - Month"
   ]
  },
  {
   "cell_type": "markdown",
   "id": "df6ea396",
   "metadata": {},
   "source": [
    "We changed the month to datetime"
   ]
  },
  {
   "cell_type": "code",
   "execution_count": null,
   "id": "f1b05092",
   "metadata": {
    "id": "f1b05092"
   },
   "outputs": [],
   "source": [
    "violencia['MES'] = pd.to_datetime(violencia['MES'].str.split('.').str[0],format='%m').dt.month"
   ]
  },
  {
   "cell_type": "markdown",
   "id": "07104ac5",
   "metadata": {
    "id": "07104ac5"
   },
   "source": [
    "# Final result"
   ]
  },
  {
   "cell_type": "code",
   "execution_count": null,
   "id": "28ccbdeb",
   "metadata": {
    "id": "28ccbdeb",
    "outputId": "237fc752-495b-4494-b6ae-ac069c1c9ce5",
    "scrolled": false
   },
   "outputs": [],
   "source": [
    "violencia.info()"
   ]
  },
  {
   "cell_type": "markdown",
   "id": "80fa4902",
   "metadata": {
    "id": "80fa4902"
   },
   "source": [
    "<h3 align=left style=\"font-size:1.5vw\"><span style=\"color:#2E7DA1\">D) Interpolating missing values:</span></h3>"
   ]
  },
  {
   "cell_type": "markdown",
   "id": "74a94f58",
   "metadata": {},
   "source": [
    "## New missing values percentage:"
   ]
  },
  {
   "cell_type": "code",
   "execution_count": null,
   "id": "2620a0a8",
   "metadata": {
    "id": "2620a0a8",
    "outputId": "01c7f786-e93a-43cb-8693-ea2dd181b2fd",
    "scrolled": false
   },
   "outputs": [],
   "source": [
    "percent_missing = violencia.isnull().sum() * 100 / len(violencia)\n",
    "miss_values = pd.DataFrame({'label': violencia.columns,\n",
    "                            'missing': percent_missing})\n",
    "miss_values[miss_values['missing']> 0]"
   ]
  },
  {
   "cell_type": "markdown",
   "id": "1d5390b7",
   "metadata": {},
   "source": [
    "## -Type of violence"
   ]
  },
  {
   "cell_type": "markdown",
   "id": "3df46ad8",
   "metadata": {
    "id": "3df46ad8"
   },
   "source": [
    "Firstly we interpolated the ktypes of violence"
   ]
  },
  {
   "cell_type": "code",
   "execution_count": null,
   "id": "8e25bbaa",
   "metadata": {
    "id": "8e25bbaa"
   },
   "outputs": [],
   "source": [
    "cat_codes_num = violencia['naturaleza'].cat.codes.replace(-1, np.nan)\n",
    "cat_codes_num = cat_codes_num.interpolate()\n",
    "cat_codes_num = cat_codes_num.astype(int).astype('category')\n",
    "#-------------------------------\n",
    "violencia['naturaleza'] = cat_codes_num"
   ]
  },
  {
   "cell_type": "markdown",
   "id": "b65d918c",
   "metadata": {},
   "source": [
    "As the 'naturaleza' categories correspond to a code of type of violence, we took the name of the violent act and assinged it to its  interpolated category value."
   ]
  },
  {
   "cell_type": "code",
   "execution_count": null,
   "id": "42b968a8",
   "metadata": {
    "id": "42b968a8"
   },
   "outputs": [],
   "source": [
    "dicnat = {0:'violencia fisica',\n",
    "          1:'violencia psicologica',\n",
    "          2:'negligencia y abandono',\n",
    "          3:'abuso sexual',\n",
    "          4:'acoso sexual',\n",
    "          5:'violacion',\n",
    "          6:'explotacion sexual, comercial niños, adolescentes',\n",
    "          7:'actos sexuales violencia',\n",
    "          8:'otros actos sexuales'    \n",
    "}\n",
    "numbers = list(violencia[violencia['def_naturaleza'].isna()].index)\n",
    "for i in range(len(numbers)):\n",
    "    violencia['def_naturaleza'].loc[numbers[i]] = dicnat[violencia['naturaleza'].loc[i] ]"
   ]
  },
  {
   "cell_type": "markdown",
   "id": "c6db5c02",
   "metadata": {},
   "source": [
    "## - Agressor age"
   ]
  },
  {
   "cell_type": "markdown",
   "id": "480b2617",
   "metadata": {
    "id": "480b2617"
   },
   "source": [
    "We had about a 50% missing values, regardless of this we proceeded to interpolating this value"
   ]
  },
  {
   "cell_type": "code",
   "execution_count": null,
   "id": "fac4615c",
   "metadata": {
    "id": "fac4615c"
   },
   "outputs": [],
   "source": [
    "\n",
    "cat_codes_age= violencia['edad_agre'].interpolate()\n",
    "cat_codes_age = round(cat_codes_age.astype(float),1)\n",
    "#--------------\n",
    "violencia['edad_agre'] = cat_codes_age"
   ]
  },
  {
   "cell_type": "code",
   "execution_count": null,
   "id": "537390e6",
   "metadata": {},
   "outputs": [],
   "source": []
  },
  {
   "cell_type": "markdown",
   "id": "59d56bae",
   "metadata": {},
   "source": [
    "## - Activities"
   ]
  },
  {
   "cell_type": "markdown",
   "id": "d8d3c334",
   "metadata": {
    "id": "d8d3c334"
   },
   "source": [
    "We did the same as in type of violence"
   ]
  },
  {
   "cell_type": "code",
   "execution_count": null,
   "id": "2f78536c",
   "metadata": {
    "id": "2f78536c"
   },
   "outputs": [],
   "source": [
    "cat_codes_act = violencia['actividad'].cat.codes.replace(-1, np.nan)\n",
    "cat_codes_act= cat_codes_act.interpolate()\n",
    "cat_codes_act=cat_codes_act.astype(int).astype('category')\n",
    "# #--------------\n",
    "violencia['actividad'] = cat_codes_act"
   ]
  },
  {
   "cell_type": "markdown",
   "id": "2b803124",
   "metadata": {
    "id": "2b803124"
   },
   "source": [
    "This colums were mostly complete it only missed a few 9 category = nan values, we chose to replace thes values to ninguno and its corresponding category '12'\n"
   ]
  },
  {
   "cell_type": "code",
   "execution_count": null,
   "id": "2b0d4b22",
   "metadata": {
    "id": "2b0d4b22"
   },
   "outputs": [],
   "source": [
    "dicact = {9: 'ninguna'   \n",
    "}\n",
    "#12\n",
    "numbers_act = list(violencia[violencia['nom_actividad'].isna()].index)\n",
    "for i in range(len(numbers_act)):\n",
    "   \n",
    "    violencia['nom_actividad'].loc[numbers_act[i]] = dicact[9]\n",
    "    violencia['actividad'].loc[numbers_act[i]] = 12"
   ]
  },
  {
   "cell_type": "markdown",
   "id": "530e82db",
   "metadata": {},
   "source": [
    "# Final result"
   ]
  },
  {
   "cell_type": "code",
   "execution_count": null,
   "id": "1f4ba0af",
   "metadata": {
    "id": "1f4ba0af",
    "outputId": "6e437969-8105-43df-96e9-55203dba4bcd",
    "scrolled": false
   },
   "outputs": [],
   "source": [
    "percent_missing = violencia.isnull().sum() * 100 / len(violencia)\n",
    "miss_values = pd.DataFrame({'label': violencia.columns,\n",
    "                            'missing': percent_missing})\n",
    "miss_values[miss_values['missing']> 0]"
   ]
  },
  {
   "cell_type": "markdown",
   "id": "30e8f062",
   "metadata": {},
   "source": [
    "<h3 align=left style=\"font-size:1.5vw\"><span style=\"color:#2E7DA1\">E) EDA:</span></h3>"
   ]
  },
  {
   "cell_type": "markdown",
   "id": "fd74e1ac",
   "metadata": {},
   "source": [
    "We comenced our EDA by describing some values of our dataset"
   ]
  },
  {
   "cell_type": "code",
   "execution_count": null,
   "id": "8f6c3c93",
   "metadata": {
    "scrolled": true
   },
   "outputs": [],
   "source": [
    "violencia['edad_agre'].describe()"
   ]
  },
  {
   "cell_type": "code",
   "execution_count": null,
   "id": "d071ff71",
   "metadata": {
    "scrolled": false
   },
   "outputs": [],
   "source": [
    "violencia['semana'].describe()"
   ]
  },
  {
   "cell_type": "code",
   "execution_count": null,
   "id": "9890ac65",
   "metadata": {
    "scrolled": true
   },
   "outputs": [],
   "source": [
    "violencia['grupo edad'].describe()"
   ]
  },
  {
   "cell_type": "code",
   "execution_count": null,
   "id": "e7d70158",
   "metadata": {
    "scrolled": true
   },
   "outputs": [],
   "source": [
    "violencia['ciclo de vida'].describe()"
   ]
  },
  {
   "cell_type": "code",
   "execution_count": null,
   "id": "d84e4910",
   "metadata": {
    "scrolled": true
   },
   "outputs": [],
   "source": [
    "violencia['comuna'].describe()"
   ]
  },
  {
   "cell_type": "code",
   "execution_count": null,
   "id": "ab64368c",
   "metadata": {
    "scrolled": true
   },
   "outputs": [],
   "source": [
    "violencia['nom_actividad'].describe()"
   ]
  },
  {
   "cell_type": "code",
   "execution_count": null,
   "id": "f78a4d32",
   "metadata": {
    "scrolled": false
   },
   "outputs": [],
   "source": [
    "violencia['parentezco_vict'].describe()"
   ]
  },
  {
   "cell_type": "markdown",
   "id": "2bf3ae20",
   "metadata": {},
   "source": [
    "## - Searching for correlation"
   ]
  },
  {
   "cell_type": "markdown",
   "id": "21a38243",
   "metadata": {},
   "source": [
    "We tried to find some correlation between our variables"
   ]
  },
  {
   "cell_type": "code",
   "execution_count": null,
   "id": "e39cfbdf",
   "metadata": {
    "scrolled": true
   },
   "outputs": [],
   "source": [
    "violencia.corr()"
   ]
  },
  {
   "cell_type": "code",
   "execution_count": null,
   "id": "c559eb27",
   "metadata": {
    "scrolled": false
   },
   "outputs": [],
   "source": [
    "sns.heatmap(violencia.corr());"
   ]
  },
  {
   "cell_type": "markdown",
   "id": "01244849",
   "metadata": {},
   "source": [
    "As we can see there aren't many strongly correlated values, excepting the week and month variables"
   ]
  },
  {
   "cell_type": "markdown",
   "id": "5dd44a95",
   "metadata": {},
   "source": [
    "## - Plotting the data"
   ]
  },
  {
   "cell_type": "markdown",
   "id": "e8e3d520",
   "metadata": {},
   "source": [
    "First we'll plot the municipality with more ocurrences"
   ]
  },
  {
   "cell_type": "code",
   "execution_count": null,
   "id": "6660f2bd",
   "metadata": {},
   "outputs": [],
   "source": [
    "violencia_ocurrences= violencia.groupby('municipio').count().reset_index().sort_values('naturaleza',ascending=False)"
   ]
  },
  {
   "cell_type": "code",
   "execution_count": null,
   "id": "5eeea1a7",
   "metadata": {
    "scrolled": false
   },
   "outputs": [],
   "source": [
    "sns.barplot(y='municipio',x='naturaleza',data = violencia_ocurrences, orient = 'h').set(xlabel='ocurrences')"
   ]
  },
  {
   "cell_type": "markdown",
   "id": "38d86244",
   "metadata": {},
   "source": [
    "Even though we use The Santander's cases, we still find that the majority of cases concurr in Bucaramanga"
   ]
  },
  {
   "cell_type": "code",
   "execution_count": null,
   "id": "75b53c18",
   "metadata": {},
   "outputs": [],
   "source": [
    "voilencia_ocurrences_outside_buc = violencia_ocurrences[violencia_ocurrences['municipio'] != 'bucaramanga']"
   ]
  },
  {
   "cell_type": "code",
   "execution_count": null,
   "id": "3987e581",
   "metadata": {
    "scrolled": false
   },
   "outputs": [],
   "source": [
    "sns.barplot(y='municipio',x='naturaleza',data = voilencia_ocurrences_outside_buc, orient = 'h').set(xlabel='ocurrences')"
   ]
  },
  {
   "cell_type": "code",
   "execution_count": null,
   "id": "f1a6eb5d",
   "metadata": {},
   "outputs": [],
   "source": [
    "violencia_comuna= violencia.groupby('comuna').count().reset_index().sort_values('naturaleza',ascending=False)"
   ]
  },
  {
   "cell_type": "markdown",
   "id": "38b978ae",
   "metadata": {},
   "source": [
    "Then we plotted the number of ocurrences per borough"
   ]
  },
  {
   "cell_type": "code",
   "execution_count": null,
   "id": "20ebfd5a",
   "metadata": {
    "scrolled": false
   },
   "outputs": [],
   "source": [
    "violencia_ocurrences_bucaramanga = violencia[violencia['municipio'] == 'bucaramanga']\n",
    "#violencia_ocurrences_bucaramanga =violencia.groupby('orden').count().reset_index().sort_values('naturaleza',ascending=False).head(10)\n",
    "\n",
    "\n",
    "ax= sns.boxplot(y='comuna',x='orden',data = violencia_ocurrences_bucaramanga,orient='h',palette='husl').set(xlabel='domestic and gender violence ocurrences',title='Gender and domestic violence ocurrences per borough\\n');\n",
    "plt.figure(figsize=(100,20))\n"
   ]
  },
  {
   "cell_type": "code",
   "execution_count": null,
   "id": "74de6565",
   "metadata": {
    "scrolled": true
   },
   "outputs": [],
   "source": [
    "violencia_nat= violencia.groupby('def_naturaleza').count().reset_index().sort_values('orden',ascending=False)"
   ]
  },
  {
   "cell_type": "markdown",
   "id": "42387a16",
   "metadata": {},
   "source": [
    "Then we plotted the number of kinds of violence"
   ]
  },
  {
   "cell_type": "code",
   "execution_count": null,
   "id": "1b8eece1",
   "metadata": {},
   "outputs": [],
   "source": [
    "sns.barplot(x='def_naturaleza',y='orden',data = violencia_nat).set(xlabel='ocurrences')"
   ]
  },
  {
   "cell_type": "markdown",
   "id": "ffca40c0",
   "metadata": {},
   "source": [
    "Finally, we plotted the ocurrences by year"
   ]
  },
  {
   "cell_type": "code",
   "execution_count": null,
   "id": "1482c315",
   "metadata": {},
   "outputs": [],
   "source": [
    "violencia_año= violencia.groupby('año').count().reset_index().sort_values('orden',ascending=False)"
   ]
  },
  {
   "cell_type": "code",
   "execution_count": null,
   "id": "14e1c60d",
   "metadata": {
    "scrolled": false
   },
   "outputs": [],
   "source": [
    "sns.lineplot(x='año',y= 'naturaleza',data = violencia_año)"
   ]
  },
  {
   "cell_type": "markdown",
   "id": "f2c9d369",
   "metadata": {
    "id": "962603d5"
   },
   "source": [
    "<h1 align=left style=\"font-size:1.5vw\"><span style=\"color:#2EA18C\">2. Dataset: Censo de Habitantes de Calle </span></h1> "
   ]
  },
  {
   "cell_type": "markdown",
   "id": "b8d2bd39",
   "metadata": {},
   "source": [
    "<h3 align=left style=\"font-size:1.5vw\"><span style=\"color:#2E7DA1\">A) Importing the dataset:</span></h3>"
   ]
  },
  {
   "cell_type": "code",
   "execution_count": null,
   "id": "9bY9YOlNN3Kr",
   "metadata": {
    "id": "9bY9YOlNN3Kr"
   },
   "outputs": [],
   "source": [
    "#dataset Censo de habitantes de calle\n",
    "chc    = pd.read_excel(\"Base_Datos_Anonimizada_CHC_Bucaramanga (3)v1.xlsx\").drop(0)\n",
    "chc.head(2)"
   ]
  },
  {
   "cell_type": "markdown",
   "id": "357f6c49",
   "metadata": {},
   "source": [
    "## - Dataset columns"
   ]
  },
  {
   "cell_type": "code",
   "execution_count": null,
   "id": "T3zebtluOhFg",
   "metadata": {
    "colab": {
     "base_uri": "https://localhost:8080/",
     "height": 167
    },
    "id": "T3zebtluOhFg",
    "outputId": "bfe02f3d-360d-4b4f-ead5-f06a2f1b5f74"
   },
   "outputs": [],
   "source": [
    "#columns of chc\n",
    "columns_chc    = chc.dtypes\n",
    "print(\"The column values of the dataset 'Censo de habitantes de calle (chc)' is: \\n\\n\", columns_chc)"
   ]
  },
  {
   "cell_type": "markdown",
   "id": "00f424c1",
   "metadata": {},
   "source": [
    "<h3 align=left style=\"font-size:1.5vw\"><span style=\"color:#2E7DA1\">B) Missing values:</span></h3>"
   ]
  },
  {
   "cell_type": "code",
   "execution_count": null,
   "id": "4eLTIvV7QCtp",
   "metadata": {
    "id": "4eLTIvV7QCtp"
   },
   "outputs": [],
   "source": [
    "#the columns with missing values\n",
    "chc.isna().sum()[chc.isna().sum() > 0]"
   ]
  },
  {
   "cell_type": "markdown",
   "id": "9VHLT_GSPoyg",
   "metadata": {
    "id": "9VHLT_GSPoyg"
   },
   "source": [
    "The chc dataset has a lot of rows (about 130), and some of missing values. The missing value have to be handled carfully, however, because some correspond to data that was supposed to be boolean, but not all of the missing values correspond to zero.\n",
    "\n",
    "The data types are all of the object type, which does not mach the real data type.\n",
    "\n",
    "We need to highlight that a lot of the numerical values in the colums correspond to qualitative data of both ordinal and nominal type. This categorical data, as well, represents more complex answers. For example, for one question, the anser 1 can represent \"cédula de ciudadanía\" and the answer 2 can mean \"registr civil de nacimiento\".\n",
    "\n",
    "Some numerical values are discrete (age of the interviewed, years they have been living on the streets, age of onset of substances consumption, etc).\n"
   ]
  },
  {
   "cell_type": "markdown",
   "id": "1b7231b1",
   "metadata": {},
   "source": [
    "<h3 align=left style=\"font-size:1.5vw\"><span style=\"color:#2E7DA1\">C) Giving consistency to our dataset and data cleaning:</span></h3>"
   ]
  },
  {
   "cell_type": "code",
   "execution_count": null,
   "id": "ornw4rUuO_dh",
   "metadata": {
    "id": "ornw4rUuO_dh"
   },
   "outputs": [],
   "source": [
    "#changing data types of chc to numerical\n",
    "\n",
    "chc_cols = list(chc.columns)\n",
    "\n",
    "for colname in chc_cols:\n",
    "    chc[str(colname)] = pd.to_numeric(chc[str(colname)])\n",
    "\n",
    "#Renaming the columns of chc datset\n",
    "\n",
    "chc_cols = list(chc.columns)\n",
    "chc_ = [i.strip() for i in chc_cols]\n",
    "chc.columns = chc_"
   ]
  },
  {
   "cell_type": "markdown",
   "id": "c4822296",
   "metadata": {},
   "source": [
    "<h3 align=left style=\"font-size:1.5vw\"><span style=\"color:#2E7DA1\">D) EDA:</span></h3>"
   ]
  },
  {
   "cell_type": "markdown",
   "id": "b5dedfc8",
   "metadata": {},
   "source": [
    "## - Describing our dataset:"
   ]
  },
  {
   "cell_type": "code",
   "execution_count": null,
   "id": "SIGIuWXJQ28s",
   "metadata": {
    "id": "SIGIuWXJQ28s"
   },
   "outputs": [],
   "source": [
    "#some of the oclumns that we can analyze numerically in the chc dataset are the following\n",
    "\n",
    "chc[[\"8. ¿Cuántos años cumplidos tiene usted?\",\n",
    "    \"Años\",\n",
    "    \"Edad inicio del consumo    \\n 1. cigarrillo\",\n",
    "    \"Edad inicio del consumo    \\n 3. marihuana\",\n",
    "    \"Edad inicio del consumo           \\n 5. cocaína\"]].describe()"
   ]
  },
  {
   "cell_type": "markdown",
   "id": "wBFJDFYKRBVe",
   "metadata": {
    "id": "wBFJDFYKRBVe"
   },
   "source": [
    "The age distributin of the people interviewed is right skewed, with a mean of 39.8 years. The average years the interviewed peole had spent on the streets is 13, this distribution is also left skewed. We can also see that the onset of consumption fo the substances showed is concerningly early.\n",
    "\n",
    "The data in the chc dataset is better described using plots like the following:\n",
    "\n",
    "First, lets do some examples with the categorical data."
   ]
  },
  {
   "cell_type": "markdown",
   "id": "31b5932d",
   "metadata": {},
   "source": [
    "## - Ploting the data"
   ]
  },
  {
   "cell_type": "code",
   "execution_count": null,
   "id": "xuxDzDkfQ-MN",
   "metadata": {
    "id": "xuxDzDkfQ-MN"
   },
   "outputs": [],
   "source": [
    "#bar plots for some of the variables that provide information about the physica state of the person interviewed\n",
    "\n",
    "plt.figure(figsize=(7,5))\n",
    "\n",
    "q16a = chc[\"16. Dada su condición física y mental, y sin ningún tipo de ayuda, ¿usted puede: \\n 1. oír la voz o los sonidos?\"].value_counts().sort_index()\n",
    "q16b = chc[\"16. Dada su condición física y mental, y sin ningún tipo de ayuda, ¿usted puede: \\n 3. ver de cerca, de lejos o alrededor?\"].value_counts().sort_index()\n",
    "q16c = chc[\"16. Dada su condición física y mental, y sin ningún tipo de ayuda, ¿usted puede: \\n 4. mover el cuerpo, caminar?\"].value_counts().sort_index()\n",
    "\n",
    "plt.title(\"Indicadores de la condición física de los entrevistados\")\n",
    "plt.bar(q16a.index - 0.2, q16a,  width=0.2, label = '¿Puede usted oír la voz o los sonidos?')\n",
    "plt.bar(q16b.index, q16b,  width=0.2, label = '¿Puede usted ver de cerca, de lejos o alrededor?')\n",
    "plt.bar(q16c.index + 0.2, q16c,  width=0.2, label = '¿Puede usted mover el cuerpo, caminar?')\n",
    "\n",
    "plt.xticks([1,2,3,4], \n",
    "           [\"No puede hacerlo\", \"Sí, con mucha dificultad\", \"Sí, con alguna dificultad\", \"Sin dificultad\"],\n",
    "          rotation=45, ha=\"right\");\n",
    "\n",
    "plt.legend()\n",
    "plt.show()"
   ]
  },
  {
   "cell_type": "code",
   "execution_count": null,
   "id": "fjy8n8-bRuAI",
   "metadata": {
    "id": "fjy8n8-bRuAI"
   },
   "outputs": [],
   "source": [
    "plt.figure(figsize=(7,5))\n",
    "\n",
    "q26a = chc[\"1. De algún familiar?\"].value_counts().sort_index()\n",
    "q26b = chc[\"2. De amigos?\"].value_counts().sort_index()\n",
    "q26c = chc[\"3. De instituciones oficiales?\"].value_counts().sort_index()\n",
    "\n",
    "plt.title(\"¿Usted recibe algún tipo de ayuda?\")\n",
    "plt.bar(q26a.index - 0.2, q26a,  width=0.2, label = 'De un familiar')\n",
    "plt.bar(q26b.index, q26b,  width=0.2, label = 'De un amigo')\n",
    "plt.bar(q26c.index + 0.2, q26c,  width=0.2, label = 'De instituciones oficiales')\n",
    "\n",
    "plt.xticks([1,2],[\"Sí\",\"No\"])\n",
    "\n",
    "plt.legend();"
   ]
  },
  {
   "cell_type": "markdown",
   "id": "RLb-DSt2RyU-",
   "metadata": {
    "id": "RLb-DSt2RyU-"
   },
   "source": [
    "Some of the numerical variables."
   ]
  },
  {
   "cell_type": "code",
   "execution_count": null,
   "id": "uZcY2-Z8R6Xx",
   "metadata": {
    "id": "uZcY2-Z8R6Xx"
   },
   "outputs": [],
   "source": [
    "plt.figure(figsize=(7,5))\n",
    "\n",
    "plt.hist([chc[\"Edad inicio del consumo    \\n 1. cigarrillo\"],\n",
    "         chc[\"Edad inicio del consumo    \\n 3. marihuana\"],\n",
    "         chc[\"Edad inicio del consumo           \\n 5. cocaína\"]], \n",
    "           label = [\"Cigarrillo\",\"Marihuana\",\"Cocaína\"])\n",
    "plt.title(\"Histograma para la edad inicial del consumo de sustancias\")\n",
    "plt.xlabel(\"Edad (años)\")\n",
    "plt.legend();"
   ]
  },
  {
   "cell_type": "markdown",
   "id": "a691a37a",
   "metadata": {},
   "source": [
    "<h1 align=left style=\"font-size:1.5vw\"><span style=\"color:#2EA18C\">3. Información de medidas correctivas enero 2017 a febrero 2022 </span></h1>  "
   ]
  },
  {
   "cell_type": "markdown",
   "id": "7c470b71",
   "metadata": {},
   "source": [
    "<h3 align=left style=\"font-size:1.5vw\"><span style=\"color:#2E7DA1\">A) Importing the dataset:</span></h3>"
   ]
  },
  {
   "cell_type": "code",
   "execution_count": null,
   "id": "bIdclVf0OeGG",
   "metadata": {
    "id": "bIdclVf0OeGG",
    "scrolled": true
   },
   "outputs": [],
   "source": [
    "#datset Información de medidas correctivas enero 2017 a febrero 2022\n",
    "correc = pd.read_csv(\"93._Informaci_n_de_medidas_correctivas_enero_2017_a_febrero_2022.csv\")\n",
    "correc.head(2)"
   ]
  },
  {
   "cell_type": "markdown",
   "id": "899fb359",
   "metadata": {},
   "source": [
    "## - Columns"
   ]
  },
  {
   "cell_type": "code",
   "execution_count": null,
   "id": "7SSP1DyIO1PU",
   "metadata": {
    "colab": {
     "base_uri": "https://localhost:8080/",
     "height": 167
    },
    "id": "7SSP1DyIO1PU",
    "outputId": "945ee956-694f-4788-808d-a87fc190e777"
   },
   "outputs": [],
   "source": [
    "correc.info()"
   ]
  },
  {
   "cell_type": "markdown",
   "id": "e2d25987",
   "metadata": {},
   "source": [
    "<h3 align=left style=\"font-size:1.5vw\"><span style=\"color:#2E7DA1\">B) Missing values:</span></h3>"
   ]
  },
  {
   "cell_type": "code",
   "execution_count": null,
   "id": "VaifbQLIQIX-",
   "metadata": {
    "id": "VaifbQLIQIX-"
   },
   "outputs": [],
   "source": [
    "#the columns with missing values\n",
    "correc.isna().sum()[correc.isna().sum() > 0]"
   ]
  },
  {
   "cell_type": "markdown",
   "id": "vn_nxXPyP5LJ",
   "metadata": {
    "id": "vn_nxXPyP5LJ"
   },
   "source": [
    "This dataset has far less missing values than the previous one, and the data type seems to be correct. A lot of data is of the type string. Some columns are numerical but most are categoricl (represent a day of the week, for example).\n",
    "\n"
   ]
  },
  {
   "cell_type": "markdown",
   "id": "3af7d451",
   "metadata": {},
   "source": [
    "<h3 align=left style=\"font-size:1.5vw\"><span style=\"color:#2E7DA1\">C) Giving consistency to our dataset and data cleaning:</span></h3>"
   ]
  },
  {
   "cell_type": "code",
   "execution_count": null,
   "id": "wJ--UFHXP2jH",
   "metadata": {
    "id": "wJ--UFHXP2jH"
   },
   "outputs": [],
   "source": [
    "#making the respective columns into datetime type\n",
    "\n",
    "correc[\"FECHA_HECHOS\"]= pd.to_datetime(correc[\"FECHA_HECHOS\"],  format='%dd/%mm/%YYYY', errors='ignore')\n",
    "correc[\"HORA_HECHOS\"]= pd.to_datetime(correc[\"HORA_HECHOS\"])"
   ]
  },
  {
   "cell_type": "markdown",
   "id": "3c746fdc",
   "metadata": {},
   "source": [
    "<h3 align=left style=\"font-size:1.5vw\"><span style=\"color:#2E7DA1\">D) EDA:</span></h3>"
   ]
  },
  {
   "cell_type": "code",
   "execution_count": null,
   "id": "gM2VMRgbRNgW",
   "metadata": {
    "id": "gM2VMRgbRNgW"
   },
   "outputs": [],
   "source": [
    "#describng some of the numerical columns\n",
    "\n",
    "correc[[\"EDAD\",\"CURSO VIDA ORDEN\",\"RANGO_HORARIO_ORDEN\"]].describe()"
   ]
  },
  {
   "cell_type": "markdown",
   "id": "4PNawtvbRV32",
   "metadata": {
    "id": "4PNawtvbRV32"
   },
   "source": [
    "In the correc dataset we can see that the mean age of the people on this dataset is 28.3 years. We see, though, that thre must be some incorrect data, since the minimum age of one of the people in this dataset is 1 yer old. Thi dataset is \"Georreferenciación de las medidas correctivas impuestas en el municipio según los comportamientos contrarios a la convivencia estipulados en la Ley 1801 de 2016, según el capítulo, artículo, numeral, curso de vida, etc.\", a one year old data point is missplaced here. \n",
    "\n",
    "CURSO_VIDA_ORDEN o the category five represents the age group 25-29, the mos common one among the subjects on the dataset. This column is a little right skewed.\n",
    "\n",
    "Finally, the hour where most of the correctiv measurements are executed is 1pm.\n",
    "\n",
    "Now, showing the daily aomunt of correctional measures imposed:"
   ]
  },
  {
   "cell_type": "markdown",
   "id": "564bfaf1",
   "metadata": {},
   "source": [
    "## -Plotting the data"
   ]
  },
  {
   "cell_type": "code",
   "execution_count": null,
   "id": "OYxHLLMSSJM0",
   "metadata": {
    "id": "OYxHLLMSSJM0"
   },
   "outputs": [],
   "source": [
    "def plot_time( df, time_var, title, rot = 0):\n",
    "    \n",
    "    res = df.groupby([time_var])['ID'].count().reset_index(name=\"count\")\n",
    "    p = res.plot(x = time_var, y = \"count\", title = title, rot = rot)\n",
    "    return p"
   ]
  },
  {
   "cell_type": "code",
   "execution_count": null,
   "id": "xuOSQuT3SUdF",
   "metadata": {
    "id": "xuOSQuT3SUdF"
   },
   "outputs": [],
   "source": [
    "p_daily = plot_time( correc, \"FECHA_HECHOS\", \"Daily amount of crimes 2019\", rot = 45)\n",
    "_ = plt.ylabel(\"Daily total incidents\")"
   ]
  },
  {
   "cell_type": "code",
   "execution_count": null,
   "id": "b2787df0",
   "metadata": {},
   "outputs": [],
   "source": []
  },
  {
   "cell_type": "code",
   "execution_count": null,
   "id": "4a16d960",
   "metadata": {},
   "outputs": [],
   "source": []
  },
  {
   "cell_type": "code",
   "execution_count": null,
   "id": "c4519b40",
   "metadata": {},
   "outputs": [],
   "source": []
  },
  {
   "cell_type": "code",
   "execution_count": null,
   "id": "16a85630",
   "metadata": {},
   "outputs": [],
   "source": []
  },
  {
   "cell_type": "code",
   "execution_count": null,
   "id": "c98d8202",
   "metadata": {},
   "outputs": [],
   "source": []
  },
  {
   "cell_type": "code",
   "execution_count": null,
   "id": "435ebf8e",
   "metadata": {},
   "outputs": [],
   "source": []
  },
  {
   "cell_type": "code",
   "execution_count": null,
   "id": "4628b4f0",
   "metadata": {},
   "outputs": [],
   "source": []
  }
 ],
 "metadata": {
  "colab": {
   "name": "Untitled.ipynb",
   "provenance": []
  },
  "kernelspec": {
   "display_name": "Python 3",
   "language": "python",
   "name": "python3"
  },
  "language_info": {
   "codemirror_mode": {
    "name": "ipython",
    "version": 3
   },
   "file_extension": ".py",
   "mimetype": "text/x-python",
   "name": "python",
   "nbconvert_exporter": "python",
   "pygments_lexer": "ipython3",
   "version": "3.8.8"
  }
 },
 "nbformat": 4,
 "nbformat_minor": 5
}
