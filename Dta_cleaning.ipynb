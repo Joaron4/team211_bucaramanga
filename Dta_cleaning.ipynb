{
 "cells": [
  {
   "cell_type": "markdown",
   "id": "02113645",
   "metadata": {},
   "source": [
    "<h1 align=center style=\"font-size:2vw\"><span style=\"color:#2EA18C\">Proyecto alcaldía de Bucaramanga - Team 211</span></h1>\n",
    "\n",
    "<h2 align=left ><span style=\"color:#A12E43\">Members:</span></h2>\n",
    "\n",
    "- Cesar Marín\n",
    "- Angie Nicole Hernández\n",
    "- Giovanny De La Cruz\n",
    "- Jairo David Chia Bejarano\n",
    "- Juan Sebastian Rojas Sabogal\n",
    "- Michael Leonardo Gómez Gómez\n",
    "- José Joaquín Rondón Rubiano"
   ]
  },
  {
   "cell_type": "code",
   "execution_count": 3,
   "id": "88fb1e44",
   "metadata": {
    "id": "88fb1e44"
   },
   "outputs": [],
   "source": [
    "import pandas as pd\n",
    "import numpy as np\n",
    "import re\n",
    "from matplotlib import pyplot as plt\n",
    "import seaborn as sns"
   ]
  },
  {
   "cell_type": "markdown",
   "id": "22da8953",
   "metadata": {},
   "source": [
    "<h1 align=left style=\"font-size:1.5vw\"><span style=\"color:#2EA18C\">1. Dataset: Gender and domestic violence </span></h1>"
   ]
  },
  {
   "cell_type": "markdown",
   "id": "8a99cd66",
   "metadata": {},
   "source": [
    "<h3 align=left style=\"font-size:1.5vw\"><span style=\"color:#2E7DA1\">A) Importing the dataset:</span></h3>"
   ]
  },
  {
   "cell_type": "code",
   "execution_count": 81,
   "id": "af8eb3e8",
   "metadata": {
    "colab": {
     "base_uri": "https://localhost:8080/",
     "height": 330
    },
    "id": "af8eb3e8",
    "outputId": "dc2fde00-1b25-40fd-d821-0556aee40c78",
    "scrolled": true
   },
   "outputs": [
    {
     "ename": "HTTPError",
     "evalue": "HTTP Error 404: Not Found",
     "output_type": "error",
     "traceback": [
      "\u001b[1;31m---------------------------------------------------------------------------\u001b[0m",
      "\u001b[1;31mHTTPError\u001b[0m                                 Traceback (most recent call last)",
      "\u001b[1;32m<ipython-input-81-338462f67397>\u001b[0m in \u001b[0;36m<module>\u001b[1;34m\u001b[0m\n\u001b[1;32m----> 1\u001b[1;33m \u001b[0mviolencia\u001b[0m \u001b[1;33m=\u001b[0m \u001b[0mpd\u001b[0m\u001b[1;33m.\u001b[0m\u001b[0mread_csv\u001b[0m\u001b[1;33m(\u001b[0m\u001b[1;34m'https://github.com/Joaron4/team211_bucaramanga/blob/main/Violenciager.csv?raw=true'\u001b[0m\u001b[1;33m,\u001b[0m\u001b[0mencoding\u001b[0m\u001b[1;33m=\u001b[0m\u001b[1;34m\"utf-8\"\u001b[0m\u001b[1;33m)\u001b[0m\u001b[1;33m\u001b[0m\u001b[1;33m\u001b[0m\u001b[0m\n\u001b[0m\u001b[0;32m      2\u001b[0m \u001b[0mviolencia\u001b[0m\u001b[1;33m.\u001b[0m\u001b[0mhead\u001b[0m\u001b[1;33m(\u001b[0m\u001b[1;36m1\u001b[0m\u001b[1;33m)\u001b[0m\u001b[1;33m\u001b[0m\u001b[1;33m\u001b[0m\u001b[0m\n",
      "\u001b[1;32m~\\anaconda3\\lib\\site-packages\\pandas\\io\\parsers.py\u001b[0m in \u001b[0;36mread_csv\u001b[1;34m(filepath_or_buffer, sep, delimiter, header, names, index_col, usecols, squeeze, prefix, mangle_dupe_cols, dtype, engine, converters, true_values, false_values, skipinitialspace, skiprows, skipfooter, nrows, na_values, keep_default_na, na_filter, verbose, skip_blank_lines, parse_dates, infer_datetime_format, keep_date_col, date_parser, dayfirst, cache_dates, iterator, chunksize, compression, thousands, decimal, lineterminator, quotechar, quoting, doublequote, escapechar, comment, encoding, dialect, error_bad_lines, warn_bad_lines, delim_whitespace, low_memory, memory_map, float_precision, storage_options)\u001b[0m\n\u001b[0;32m    608\u001b[0m     \u001b[0mkwds\u001b[0m\u001b[1;33m.\u001b[0m\u001b[0mupdate\u001b[0m\u001b[1;33m(\u001b[0m\u001b[0mkwds_defaults\u001b[0m\u001b[1;33m)\u001b[0m\u001b[1;33m\u001b[0m\u001b[1;33m\u001b[0m\u001b[0m\n\u001b[0;32m    609\u001b[0m \u001b[1;33m\u001b[0m\u001b[0m\n\u001b[1;32m--> 610\u001b[1;33m     \u001b[1;32mreturn\u001b[0m \u001b[0m_read\u001b[0m\u001b[1;33m(\u001b[0m\u001b[0mfilepath_or_buffer\u001b[0m\u001b[1;33m,\u001b[0m \u001b[0mkwds\u001b[0m\u001b[1;33m)\u001b[0m\u001b[1;33m\u001b[0m\u001b[1;33m\u001b[0m\u001b[0m\n\u001b[0m\u001b[0;32m    611\u001b[0m \u001b[1;33m\u001b[0m\u001b[0m\n\u001b[0;32m    612\u001b[0m \u001b[1;33m\u001b[0m\u001b[0m\n",
      "\u001b[1;32m~\\anaconda3\\lib\\site-packages\\pandas\\io\\parsers.py\u001b[0m in \u001b[0;36m_read\u001b[1;34m(filepath_or_buffer, kwds)\u001b[0m\n\u001b[0;32m    460\u001b[0m \u001b[1;33m\u001b[0m\u001b[0m\n\u001b[0;32m    461\u001b[0m     \u001b[1;31m# Create the parser.\u001b[0m\u001b[1;33m\u001b[0m\u001b[1;33m\u001b[0m\u001b[1;33m\u001b[0m\u001b[0m\n\u001b[1;32m--> 462\u001b[1;33m     \u001b[0mparser\u001b[0m \u001b[1;33m=\u001b[0m \u001b[0mTextFileReader\u001b[0m\u001b[1;33m(\u001b[0m\u001b[0mfilepath_or_buffer\u001b[0m\u001b[1;33m,\u001b[0m \u001b[1;33m**\u001b[0m\u001b[0mkwds\u001b[0m\u001b[1;33m)\u001b[0m\u001b[1;33m\u001b[0m\u001b[1;33m\u001b[0m\u001b[0m\n\u001b[0m\u001b[0;32m    463\u001b[0m \u001b[1;33m\u001b[0m\u001b[0m\n\u001b[0;32m    464\u001b[0m     \u001b[1;32mif\u001b[0m \u001b[0mchunksize\u001b[0m \u001b[1;32mor\u001b[0m \u001b[0miterator\u001b[0m\u001b[1;33m:\u001b[0m\u001b[1;33m\u001b[0m\u001b[1;33m\u001b[0m\u001b[0m\n",
      "\u001b[1;32m~\\anaconda3\\lib\\site-packages\\pandas\\io\\parsers.py\u001b[0m in \u001b[0;36m__init__\u001b[1;34m(self, f, engine, **kwds)\u001b[0m\n\u001b[0;32m    817\u001b[0m             \u001b[0mself\u001b[0m\u001b[1;33m.\u001b[0m\u001b[0moptions\u001b[0m\u001b[1;33m[\u001b[0m\u001b[1;34m\"has_index_names\"\u001b[0m\u001b[1;33m]\u001b[0m \u001b[1;33m=\u001b[0m \u001b[0mkwds\u001b[0m\u001b[1;33m[\u001b[0m\u001b[1;34m\"has_index_names\"\u001b[0m\u001b[1;33m]\u001b[0m\u001b[1;33m\u001b[0m\u001b[1;33m\u001b[0m\u001b[0m\n\u001b[0;32m    818\u001b[0m \u001b[1;33m\u001b[0m\u001b[0m\n\u001b[1;32m--> 819\u001b[1;33m         \u001b[0mself\u001b[0m\u001b[1;33m.\u001b[0m\u001b[0m_engine\u001b[0m \u001b[1;33m=\u001b[0m \u001b[0mself\u001b[0m\u001b[1;33m.\u001b[0m\u001b[0m_make_engine\u001b[0m\u001b[1;33m(\u001b[0m\u001b[0mself\u001b[0m\u001b[1;33m.\u001b[0m\u001b[0mengine\u001b[0m\u001b[1;33m)\u001b[0m\u001b[1;33m\u001b[0m\u001b[1;33m\u001b[0m\u001b[0m\n\u001b[0m\u001b[0;32m    820\u001b[0m \u001b[1;33m\u001b[0m\u001b[0m\n\u001b[0;32m    821\u001b[0m     \u001b[1;32mdef\u001b[0m \u001b[0mclose\u001b[0m\u001b[1;33m(\u001b[0m\u001b[0mself\u001b[0m\u001b[1;33m)\u001b[0m\u001b[1;33m:\u001b[0m\u001b[1;33m\u001b[0m\u001b[1;33m\u001b[0m\u001b[0m\n",
      "\u001b[1;32m~\\anaconda3\\lib\\site-packages\\pandas\\io\\parsers.py\u001b[0m in \u001b[0;36m_make_engine\u001b[1;34m(self, engine)\u001b[0m\n\u001b[0;32m   1048\u001b[0m             )\n\u001b[0;32m   1049\u001b[0m         \u001b[1;31m# error: Too many arguments for \"ParserBase\"\u001b[0m\u001b[1;33m\u001b[0m\u001b[1;33m\u001b[0m\u001b[1;33m\u001b[0m\u001b[0m\n\u001b[1;32m-> 1050\u001b[1;33m         \u001b[1;32mreturn\u001b[0m \u001b[0mmapping\u001b[0m\u001b[1;33m[\u001b[0m\u001b[0mengine\u001b[0m\u001b[1;33m]\u001b[0m\u001b[1;33m(\u001b[0m\u001b[0mself\u001b[0m\u001b[1;33m.\u001b[0m\u001b[0mf\u001b[0m\u001b[1;33m,\u001b[0m \u001b[1;33m**\u001b[0m\u001b[0mself\u001b[0m\u001b[1;33m.\u001b[0m\u001b[0moptions\u001b[0m\u001b[1;33m)\u001b[0m  \u001b[1;31m# type: ignore[call-arg]\u001b[0m\u001b[1;33m\u001b[0m\u001b[1;33m\u001b[0m\u001b[0m\n\u001b[0m\u001b[0;32m   1051\u001b[0m \u001b[1;33m\u001b[0m\u001b[0m\n\u001b[0;32m   1052\u001b[0m     \u001b[1;32mdef\u001b[0m \u001b[0m_failover_to_python\u001b[0m\u001b[1;33m(\u001b[0m\u001b[0mself\u001b[0m\u001b[1;33m)\u001b[0m\u001b[1;33m:\u001b[0m\u001b[1;33m\u001b[0m\u001b[1;33m\u001b[0m\u001b[0m\n",
      "\u001b[1;32m~\\anaconda3\\lib\\site-packages\\pandas\\io\\parsers.py\u001b[0m in \u001b[0;36m__init__\u001b[1;34m(self, src, **kwds)\u001b[0m\n\u001b[0;32m   1865\u001b[0m \u001b[1;33m\u001b[0m\u001b[0m\n\u001b[0;32m   1866\u001b[0m         \u001b[1;31m# open handles\u001b[0m\u001b[1;33m\u001b[0m\u001b[1;33m\u001b[0m\u001b[1;33m\u001b[0m\u001b[0m\n\u001b[1;32m-> 1867\u001b[1;33m         \u001b[0mself\u001b[0m\u001b[1;33m.\u001b[0m\u001b[0m_open_handles\u001b[0m\u001b[1;33m(\u001b[0m\u001b[0msrc\u001b[0m\u001b[1;33m,\u001b[0m \u001b[0mkwds\u001b[0m\u001b[1;33m)\u001b[0m\u001b[1;33m\u001b[0m\u001b[1;33m\u001b[0m\u001b[0m\n\u001b[0m\u001b[0;32m   1868\u001b[0m         \u001b[1;32massert\u001b[0m \u001b[0mself\u001b[0m\u001b[1;33m.\u001b[0m\u001b[0mhandles\u001b[0m \u001b[1;32mis\u001b[0m \u001b[1;32mnot\u001b[0m \u001b[1;32mNone\u001b[0m\u001b[1;33m\u001b[0m\u001b[1;33m\u001b[0m\u001b[0m\n\u001b[0;32m   1869\u001b[0m         \u001b[1;32mfor\u001b[0m \u001b[0mkey\u001b[0m \u001b[1;32min\u001b[0m \u001b[1;33m(\u001b[0m\u001b[1;34m\"storage_options\"\u001b[0m\u001b[1;33m,\u001b[0m \u001b[1;34m\"encoding\"\u001b[0m\u001b[1;33m,\u001b[0m \u001b[1;34m\"memory_map\"\u001b[0m\u001b[1;33m,\u001b[0m \u001b[1;34m\"compression\"\u001b[0m\u001b[1;33m)\u001b[0m\u001b[1;33m:\u001b[0m\u001b[1;33m\u001b[0m\u001b[1;33m\u001b[0m\u001b[0m\n",
      "\u001b[1;32m~\\anaconda3\\lib\\site-packages\\pandas\\io\\parsers.py\u001b[0m in \u001b[0;36m_open_handles\u001b[1;34m(self, src, kwds)\u001b[0m\n\u001b[0;32m   1360\u001b[0m         \u001b[0mLet\u001b[0m \u001b[0mthe\u001b[0m \u001b[0mreaders\u001b[0m \u001b[0mopen\u001b[0m \u001b[0mIOHanldes\u001b[0m \u001b[0mafter\u001b[0m \u001b[0mthey\u001b[0m \u001b[0mare\u001b[0m \u001b[0mdone\u001b[0m \u001b[1;32mwith\u001b[0m \u001b[0mtheir\u001b[0m \u001b[0mpotential\u001b[0m \u001b[0mraises\u001b[0m\u001b[1;33m.\u001b[0m\u001b[1;33m\u001b[0m\u001b[1;33m\u001b[0m\u001b[0m\n\u001b[0;32m   1361\u001b[0m         \"\"\"\n\u001b[1;32m-> 1362\u001b[1;33m         self.handles = get_handle(\n\u001b[0m\u001b[0;32m   1363\u001b[0m             \u001b[0msrc\u001b[0m\u001b[1;33m,\u001b[0m\u001b[1;33m\u001b[0m\u001b[1;33m\u001b[0m\u001b[0m\n\u001b[0;32m   1364\u001b[0m             \u001b[1;34m\"r\"\u001b[0m\u001b[1;33m,\u001b[0m\u001b[1;33m\u001b[0m\u001b[1;33m\u001b[0m\u001b[0m\n",
      "\u001b[1;32m~\\anaconda3\\lib\\site-packages\\pandas\\io\\common.py\u001b[0m in \u001b[0;36mget_handle\u001b[1;34m(path_or_buf, mode, encoding, compression, memory_map, is_text, errors, storage_options)\u001b[0m\n\u001b[0;32m    556\u001b[0m \u001b[1;33m\u001b[0m\u001b[0m\n\u001b[0;32m    557\u001b[0m     \u001b[1;31m# open URLs\u001b[0m\u001b[1;33m\u001b[0m\u001b[1;33m\u001b[0m\u001b[1;33m\u001b[0m\u001b[0m\n\u001b[1;32m--> 558\u001b[1;33m     ioargs = _get_filepath_or_buffer(\n\u001b[0m\u001b[0;32m    559\u001b[0m         \u001b[0mpath_or_buf\u001b[0m\u001b[1;33m,\u001b[0m\u001b[1;33m\u001b[0m\u001b[1;33m\u001b[0m\u001b[0m\n\u001b[0;32m    560\u001b[0m         \u001b[0mencoding\u001b[0m\u001b[1;33m=\u001b[0m\u001b[0mencoding\u001b[0m\u001b[1;33m,\u001b[0m\u001b[1;33m\u001b[0m\u001b[1;33m\u001b[0m\u001b[0m\n",
      "\u001b[1;32m~\\anaconda3\\lib\\site-packages\\pandas\\io\\common.py\u001b[0m in \u001b[0;36m_get_filepath_or_buffer\u001b[1;34m(filepath_or_buffer, encoding, compression, mode, storage_options)\u001b[0m\n\u001b[0;32m    287\u001b[0m                 \u001b[1;34m\"storage_options passed with file object or non-fsspec file path\"\u001b[0m\u001b[1;33m\u001b[0m\u001b[1;33m\u001b[0m\u001b[0m\n\u001b[0;32m    288\u001b[0m             )\n\u001b[1;32m--> 289\u001b[1;33m         \u001b[0mreq\u001b[0m \u001b[1;33m=\u001b[0m \u001b[0murlopen\u001b[0m\u001b[1;33m(\u001b[0m\u001b[0mfilepath_or_buffer\u001b[0m\u001b[1;33m)\u001b[0m\u001b[1;33m\u001b[0m\u001b[1;33m\u001b[0m\u001b[0m\n\u001b[0m\u001b[0;32m    290\u001b[0m         \u001b[0mcontent_encoding\u001b[0m \u001b[1;33m=\u001b[0m \u001b[0mreq\u001b[0m\u001b[1;33m.\u001b[0m\u001b[0mheaders\u001b[0m\u001b[1;33m.\u001b[0m\u001b[0mget\u001b[0m\u001b[1;33m(\u001b[0m\u001b[1;34m\"Content-Encoding\"\u001b[0m\u001b[1;33m,\u001b[0m \u001b[1;32mNone\u001b[0m\u001b[1;33m)\u001b[0m\u001b[1;33m\u001b[0m\u001b[1;33m\u001b[0m\u001b[0m\n\u001b[0;32m    291\u001b[0m         \u001b[1;32mif\u001b[0m \u001b[0mcontent_encoding\u001b[0m \u001b[1;33m==\u001b[0m \u001b[1;34m\"gzip\"\u001b[0m\u001b[1;33m:\u001b[0m\u001b[1;33m\u001b[0m\u001b[1;33m\u001b[0m\u001b[0m\n",
      "\u001b[1;32m~\\anaconda3\\lib\\site-packages\\pandas\\io\\common.py\u001b[0m in \u001b[0;36murlopen\u001b[1;34m(*args, **kwargs)\u001b[0m\n\u001b[0;32m    193\u001b[0m     \u001b[1;32mimport\u001b[0m \u001b[0murllib\u001b[0m\u001b[1;33m.\u001b[0m\u001b[0mrequest\u001b[0m\u001b[1;33m\u001b[0m\u001b[1;33m\u001b[0m\u001b[0m\n\u001b[0;32m    194\u001b[0m \u001b[1;33m\u001b[0m\u001b[0m\n\u001b[1;32m--> 195\u001b[1;33m     \u001b[1;32mreturn\u001b[0m \u001b[0murllib\u001b[0m\u001b[1;33m.\u001b[0m\u001b[0mrequest\u001b[0m\u001b[1;33m.\u001b[0m\u001b[0murlopen\u001b[0m\u001b[1;33m(\u001b[0m\u001b[1;33m*\u001b[0m\u001b[0margs\u001b[0m\u001b[1;33m,\u001b[0m \u001b[1;33m**\u001b[0m\u001b[0mkwargs\u001b[0m\u001b[1;33m)\u001b[0m\u001b[1;33m\u001b[0m\u001b[1;33m\u001b[0m\u001b[0m\n\u001b[0m\u001b[0;32m    196\u001b[0m \u001b[1;33m\u001b[0m\u001b[0m\n\u001b[0;32m    197\u001b[0m \u001b[1;33m\u001b[0m\u001b[0m\n",
      "\u001b[1;32m~\\anaconda3\\lib\\urllib\\request.py\u001b[0m in \u001b[0;36murlopen\u001b[1;34m(url, data, timeout, cafile, capath, cadefault, context)\u001b[0m\n\u001b[0;32m    220\u001b[0m     \u001b[1;32melse\u001b[0m\u001b[1;33m:\u001b[0m\u001b[1;33m\u001b[0m\u001b[1;33m\u001b[0m\u001b[0m\n\u001b[0;32m    221\u001b[0m         \u001b[0mopener\u001b[0m \u001b[1;33m=\u001b[0m \u001b[0m_opener\u001b[0m\u001b[1;33m\u001b[0m\u001b[1;33m\u001b[0m\u001b[0m\n\u001b[1;32m--> 222\u001b[1;33m     \u001b[1;32mreturn\u001b[0m \u001b[0mopener\u001b[0m\u001b[1;33m.\u001b[0m\u001b[0mopen\u001b[0m\u001b[1;33m(\u001b[0m\u001b[0murl\u001b[0m\u001b[1;33m,\u001b[0m \u001b[0mdata\u001b[0m\u001b[1;33m,\u001b[0m \u001b[0mtimeout\u001b[0m\u001b[1;33m)\u001b[0m\u001b[1;33m\u001b[0m\u001b[1;33m\u001b[0m\u001b[0m\n\u001b[0m\u001b[0;32m    223\u001b[0m \u001b[1;33m\u001b[0m\u001b[0m\n\u001b[0;32m    224\u001b[0m \u001b[1;32mdef\u001b[0m \u001b[0minstall_opener\u001b[0m\u001b[1;33m(\u001b[0m\u001b[0mopener\u001b[0m\u001b[1;33m)\u001b[0m\u001b[1;33m:\u001b[0m\u001b[1;33m\u001b[0m\u001b[1;33m\u001b[0m\u001b[0m\n",
      "\u001b[1;32m~\\anaconda3\\lib\\urllib\\request.py\u001b[0m in \u001b[0;36mopen\u001b[1;34m(self, fullurl, data, timeout)\u001b[0m\n\u001b[0;32m    529\u001b[0m         \u001b[1;32mfor\u001b[0m \u001b[0mprocessor\u001b[0m \u001b[1;32min\u001b[0m \u001b[0mself\u001b[0m\u001b[1;33m.\u001b[0m\u001b[0mprocess_response\u001b[0m\u001b[1;33m.\u001b[0m\u001b[0mget\u001b[0m\u001b[1;33m(\u001b[0m\u001b[0mprotocol\u001b[0m\u001b[1;33m,\u001b[0m \u001b[1;33m[\u001b[0m\u001b[1;33m]\u001b[0m\u001b[1;33m)\u001b[0m\u001b[1;33m:\u001b[0m\u001b[1;33m\u001b[0m\u001b[1;33m\u001b[0m\u001b[0m\n\u001b[0;32m    530\u001b[0m             \u001b[0mmeth\u001b[0m \u001b[1;33m=\u001b[0m \u001b[0mgetattr\u001b[0m\u001b[1;33m(\u001b[0m\u001b[0mprocessor\u001b[0m\u001b[1;33m,\u001b[0m \u001b[0mmeth_name\u001b[0m\u001b[1;33m)\u001b[0m\u001b[1;33m\u001b[0m\u001b[1;33m\u001b[0m\u001b[0m\n\u001b[1;32m--> 531\u001b[1;33m             \u001b[0mresponse\u001b[0m \u001b[1;33m=\u001b[0m \u001b[0mmeth\u001b[0m\u001b[1;33m(\u001b[0m\u001b[0mreq\u001b[0m\u001b[1;33m,\u001b[0m \u001b[0mresponse\u001b[0m\u001b[1;33m)\u001b[0m\u001b[1;33m\u001b[0m\u001b[1;33m\u001b[0m\u001b[0m\n\u001b[0m\u001b[0;32m    532\u001b[0m \u001b[1;33m\u001b[0m\u001b[0m\n\u001b[0;32m    533\u001b[0m         \u001b[1;32mreturn\u001b[0m \u001b[0mresponse\u001b[0m\u001b[1;33m\u001b[0m\u001b[1;33m\u001b[0m\u001b[0m\n",
      "\u001b[1;32m~\\anaconda3\\lib\\urllib\\request.py\u001b[0m in \u001b[0;36mhttp_response\u001b[1;34m(self, request, response)\u001b[0m\n\u001b[0;32m    638\u001b[0m         \u001b[1;31m# request was successfully received, understood, and accepted.\u001b[0m\u001b[1;33m\u001b[0m\u001b[1;33m\u001b[0m\u001b[1;33m\u001b[0m\u001b[0m\n\u001b[0;32m    639\u001b[0m         \u001b[1;32mif\u001b[0m \u001b[1;32mnot\u001b[0m \u001b[1;33m(\u001b[0m\u001b[1;36m200\u001b[0m \u001b[1;33m<=\u001b[0m \u001b[0mcode\u001b[0m \u001b[1;33m<\u001b[0m \u001b[1;36m300\u001b[0m\u001b[1;33m)\u001b[0m\u001b[1;33m:\u001b[0m\u001b[1;33m\u001b[0m\u001b[1;33m\u001b[0m\u001b[0m\n\u001b[1;32m--> 640\u001b[1;33m             response = self.parent.error(\n\u001b[0m\u001b[0;32m    641\u001b[0m                 'http', request, response, code, msg, hdrs)\n\u001b[0;32m    642\u001b[0m \u001b[1;33m\u001b[0m\u001b[0m\n",
      "\u001b[1;32m~\\anaconda3\\lib\\urllib\\request.py\u001b[0m in \u001b[0;36merror\u001b[1;34m(self, proto, *args)\u001b[0m\n\u001b[0;32m    567\u001b[0m         \u001b[1;32mif\u001b[0m \u001b[0mhttp_err\u001b[0m\u001b[1;33m:\u001b[0m\u001b[1;33m\u001b[0m\u001b[1;33m\u001b[0m\u001b[0m\n\u001b[0;32m    568\u001b[0m             \u001b[0margs\u001b[0m \u001b[1;33m=\u001b[0m \u001b[1;33m(\u001b[0m\u001b[0mdict\u001b[0m\u001b[1;33m,\u001b[0m \u001b[1;34m'default'\u001b[0m\u001b[1;33m,\u001b[0m \u001b[1;34m'http_error_default'\u001b[0m\u001b[1;33m)\u001b[0m \u001b[1;33m+\u001b[0m \u001b[0morig_args\u001b[0m\u001b[1;33m\u001b[0m\u001b[1;33m\u001b[0m\u001b[0m\n\u001b[1;32m--> 569\u001b[1;33m             \u001b[1;32mreturn\u001b[0m \u001b[0mself\u001b[0m\u001b[1;33m.\u001b[0m\u001b[0m_call_chain\u001b[0m\u001b[1;33m(\u001b[0m\u001b[1;33m*\u001b[0m\u001b[0margs\u001b[0m\u001b[1;33m)\u001b[0m\u001b[1;33m\u001b[0m\u001b[1;33m\u001b[0m\u001b[0m\n\u001b[0m\u001b[0;32m    570\u001b[0m \u001b[1;33m\u001b[0m\u001b[0m\n\u001b[0;32m    571\u001b[0m \u001b[1;31m# XXX probably also want an abstract factory that knows when it makes\u001b[0m\u001b[1;33m\u001b[0m\u001b[1;33m\u001b[0m\u001b[1;33m\u001b[0m\u001b[0m\n",
      "\u001b[1;32m~\\anaconda3\\lib\\urllib\\request.py\u001b[0m in \u001b[0;36m_call_chain\u001b[1;34m(self, chain, kind, meth_name, *args)\u001b[0m\n\u001b[0;32m    500\u001b[0m         \u001b[1;32mfor\u001b[0m \u001b[0mhandler\u001b[0m \u001b[1;32min\u001b[0m \u001b[0mhandlers\u001b[0m\u001b[1;33m:\u001b[0m\u001b[1;33m\u001b[0m\u001b[1;33m\u001b[0m\u001b[0m\n\u001b[0;32m    501\u001b[0m             \u001b[0mfunc\u001b[0m \u001b[1;33m=\u001b[0m \u001b[0mgetattr\u001b[0m\u001b[1;33m(\u001b[0m\u001b[0mhandler\u001b[0m\u001b[1;33m,\u001b[0m \u001b[0mmeth_name\u001b[0m\u001b[1;33m)\u001b[0m\u001b[1;33m\u001b[0m\u001b[1;33m\u001b[0m\u001b[0m\n\u001b[1;32m--> 502\u001b[1;33m             \u001b[0mresult\u001b[0m \u001b[1;33m=\u001b[0m \u001b[0mfunc\u001b[0m\u001b[1;33m(\u001b[0m\u001b[1;33m*\u001b[0m\u001b[0margs\u001b[0m\u001b[1;33m)\u001b[0m\u001b[1;33m\u001b[0m\u001b[1;33m\u001b[0m\u001b[0m\n\u001b[0m\u001b[0;32m    503\u001b[0m             \u001b[1;32mif\u001b[0m \u001b[0mresult\u001b[0m \u001b[1;32mis\u001b[0m \u001b[1;32mnot\u001b[0m \u001b[1;32mNone\u001b[0m\u001b[1;33m:\u001b[0m\u001b[1;33m\u001b[0m\u001b[1;33m\u001b[0m\u001b[0m\n\u001b[0;32m    504\u001b[0m                 \u001b[1;32mreturn\u001b[0m \u001b[0mresult\u001b[0m\u001b[1;33m\u001b[0m\u001b[1;33m\u001b[0m\u001b[0m\n",
      "\u001b[1;32m~\\anaconda3\\lib\\urllib\\request.py\u001b[0m in \u001b[0;36mhttp_error_default\u001b[1;34m(self, req, fp, code, msg, hdrs)\u001b[0m\n\u001b[0;32m    647\u001b[0m \u001b[1;32mclass\u001b[0m \u001b[0mHTTPDefaultErrorHandler\u001b[0m\u001b[1;33m(\u001b[0m\u001b[0mBaseHandler\u001b[0m\u001b[1;33m)\u001b[0m\u001b[1;33m:\u001b[0m\u001b[1;33m\u001b[0m\u001b[1;33m\u001b[0m\u001b[0m\n\u001b[0;32m    648\u001b[0m     \u001b[1;32mdef\u001b[0m \u001b[0mhttp_error_default\u001b[0m\u001b[1;33m(\u001b[0m\u001b[0mself\u001b[0m\u001b[1;33m,\u001b[0m \u001b[0mreq\u001b[0m\u001b[1;33m,\u001b[0m \u001b[0mfp\u001b[0m\u001b[1;33m,\u001b[0m \u001b[0mcode\u001b[0m\u001b[1;33m,\u001b[0m \u001b[0mmsg\u001b[0m\u001b[1;33m,\u001b[0m \u001b[0mhdrs\u001b[0m\u001b[1;33m)\u001b[0m\u001b[1;33m:\u001b[0m\u001b[1;33m\u001b[0m\u001b[1;33m\u001b[0m\u001b[0m\n\u001b[1;32m--> 649\u001b[1;33m         \u001b[1;32mraise\u001b[0m \u001b[0mHTTPError\u001b[0m\u001b[1;33m(\u001b[0m\u001b[0mreq\u001b[0m\u001b[1;33m.\u001b[0m\u001b[0mfull_url\u001b[0m\u001b[1;33m,\u001b[0m \u001b[0mcode\u001b[0m\u001b[1;33m,\u001b[0m \u001b[0mmsg\u001b[0m\u001b[1;33m,\u001b[0m \u001b[0mhdrs\u001b[0m\u001b[1;33m,\u001b[0m \u001b[0mfp\u001b[0m\u001b[1;33m)\u001b[0m\u001b[1;33m\u001b[0m\u001b[1;33m\u001b[0m\u001b[0m\n\u001b[0m\u001b[0;32m    650\u001b[0m \u001b[1;33m\u001b[0m\u001b[0m\n\u001b[0;32m    651\u001b[0m \u001b[1;32mclass\u001b[0m \u001b[0mHTTPRedirectHandler\u001b[0m\u001b[1;33m(\u001b[0m\u001b[0mBaseHandler\u001b[0m\u001b[1;33m)\u001b[0m\u001b[1;33m:\u001b[0m\u001b[1;33m\u001b[0m\u001b[1;33m\u001b[0m\u001b[0m\n",
      "\u001b[1;31mHTTPError\u001b[0m: HTTP Error 404: Not Found"
     ]
    }
   ],
   "source": [
    "violencia = pd.read_csv('https://github.com/Joaron4/team211_bucaramanga/blob/main/Violenciager.csv?raw=true',encoding=\"utf-8\")\n",
    "violencia.head(1)"
   ]
  },
  {
   "cell_type": "markdown",
   "id": "d55a4753",
   "metadata": {
    "id": "d55a4753"
   },
   "source": [
    "<h3 align=left style=\"font-size:1.5vw\"><span style=\"color:#2E7DA1\">B) Exploring our Dataset:</span></h3>"
   ]
  },
  {
   "cell_type": "markdown",
   "id": "3a9e7f47",
   "metadata": {},
   "source": [
    "## - Dataset columns:"
   ]
  },
  {
   "cell_type": "code",
   "execution_count": 5,
   "id": "9577199e",
   "metadata": {
    "id": "9577199e",
    "outputId": "eb0888f5-4ac5-489d-d123-e6fdc9745e49"
   },
   "outputs": [
    {
     "data": {
      "text/plain": [
       "Index(['Orden', 'Departamento', 'Municipio', 'semana', 'año', 'Grupo edad',\n",
       "       'Ciclo de vida', 'sexo_', 'area_', 'Barrio', 'Comuna',\n",
       "       'Tipo de Seguridad Social', 'pac_hos_', 'con_fin_', 'version',\n",
       "       'naturaleza', 'def_naturaleza', 'actividad', 'nom_actividad',\n",
       "       'edad_agre', 'sexo_agre', 'parentezco_vict', 'sust_vict', 'fec_hecho',\n",
       "       'hora_hecho', 'escenario', 'zona_conf', 'nom_eve', 'nom_upgd',\n",
       "       'ndep_resi', 'nmun_resi', 'MES'],\n",
       "      dtype='object')"
      ]
     },
     "execution_count": 5,
     "metadata": {},
     "output_type": "execute_result"
    }
   ],
   "source": [
    "violencia.columns"
   ]
  },
  {
   "cell_type": "markdown",
   "id": "ba76eed8",
   "metadata": {
    "id": "ba76eed8"
   },
   "source": [
    "## - Filtering by deparment: Santander"
   ]
  },
  {
   "cell_type": "markdown",
   "id": "67fe5471",
   "metadata": {
    "id": "67fe5471"
   },
   "source": [
    "We chose the deparment of santander instead of just the city of Bucaramanga aiming to complete the missing values"
   ]
  },
  {
   "cell_type": "code",
   "execution_count": 6,
   "id": "7a135dea",
   "metadata": {
    "id": "7a135dea"
   },
   "outputs": [],
   "source": [
    "violencia = violencia[violencia['Departamento'] == 'SANTANDER']\n",
    "violencia['Departamento'] = violencia['Departamento'].str.lower()\n",
    "violencia['Municipio'] =violencia['Municipio'].str.lower()"
   ]
  },
  {
   "cell_type": "code",
   "execution_count": 7,
   "id": "ff8bf012",
   "metadata": {},
   "outputs": [],
   "source": [
    "violencia.columns= violencia.columns.str.lower()"
   ]
  },
  {
   "cell_type": "markdown",
   "id": "50c79744",
   "metadata": {
    "id": "50c79744"
   },
   "source": [
    "## - Missing Values"
   ]
  },
  {
   "cell_type": "code",
   "execution_count": 8,
   "id": "36067c72",
   "metadata": {
    "id": "36067c72",
    "outputId": "70f03f83-ddfd-4577-93a2-597329d469a0",
    "scrolled": true
   },
   "outputs": [
    {
     "data": {
      "text/html": [
       "<div>\n",
       "<style scoped>\n",
       "    .dataframe tbody tr th:only-of-type {\n",
       "        vertical-align: middle;\n",
       "    }\n",
       "\n",
       "    .dataframe tbody tr th {\n",
       "        vertical-align: top;\n",
       "    }\n",
       "\n",
       "    .dataframe thead th {\n",
       "        text-align: right;\n",
       "    }\n",
       "</style>\n",
       "<table border=\"1\" class=\"dataframe\">\n",
       "  <thead>\n",
       "    <tr style=\"text-align: right;\">\n",
       "      <th></th>\n",
       "      <th>label</th>\n",
       "      <th>missing</th>\n",
       "    </tr>\n",
       "  </thead>\n",
       "  <tbody>\n",
       "    <tr>\n",
       "      <th>naturaleza</th>\n",
       "      <td>naturaleza</td>\n",
       "      <td>1.445030</td>\n",
       "    </tr>\n",
       "    <tr>\n",
       "      <th>def_naturaleza</th>\n",
       "      <td>def_naturaleza</td>\n",
       "      <td>1.445030</td>\n",
       "    </tr>\n",
       "    <tr>\n",
       "      <th>edad_agre</th>\n",
       "      <td>edad_agre</td>\n",
       "      <td>24.585042</td>\n",
       "    </tr>\n",
       "    <tr>\n",
       "      <th>sexo_agre</th>\n",
       "      <td>sexo_agre</td>\n",
       "      <td>0.068346</td>\n",
       "    </tr>\n",
       "    <tr>\n",
       "      <th>fec_hecho</th>\n",
       "      <td>fec_hecho</td>\n",
       "      <td>0.048819</td>\n",
       "    </tr>\n",
       "    <tr>\n",
       "      <th>hora_hecho</th>\n",
       "      <td>hora_hecho</td>\n",
       "      <td>44.727592</td>\n",
       "    </tr>\n",
       "    <tr>\n",
       "      <th>escenario</th>\n",
       "      <td>escenario</td>\n",
       "      <td>0.029291</td>\n",
       "    </tr>\n",
       "  </tbody>\n",
       "</table>\n",
       "</div>"
      ],
      "text/plain": [
       "                         label    missing\n",
       "naturaleza          naturaleza   1.445030\n",
       "def_naturaleza  def_naturaleza   1.445030\n",
       "edad_agre            edad_agre  24.585042\n",
       "sexo_agre            sexo_agre   0.068346\n",
       "fec_hecho            fec_hecho   0.048819\n",
       "hora_hecho          hora_hecho  44.727592\n",
       "escenario            escenario   0.029291"
      ]
     },
     "execution_count": 8,
     "metadata": {},
     "output_type": "execute_result"
    }
   ],
   "source": [
    "percent_missing = violencia.isnull().sum() * 100 / len(violencia)\n",
    "miss_values = pd.DataFrame({'label': violencia.columns,\n",
    "                            'missing': percent_missing})\n",
    "miss_values[miss_values['missing']> 0]"
   ]
  },
  {
   "cell_type": "markdown",
   "id": "c647c934",
   "metadata": {
    "id": "c647c934"
   },
   "source": [
    "<h3 align=left style=\"font-size:1.5vw\"><span style=\"color:#2E7DA1\">C) Giving consistency to our dataset and data cleaning:</span></h3>"
   ]
  },
  {
   "cell_type": "markdown",
   "id": "2442d451",
   "metadata": {},
   "source": [
    "Firstly, These are the colums and their data type:"
   ]
  },
  {
   "cell_type": "code",
   "execution_count": 9,
   "id": "9c5ab5f4",
   "metadata": {
    "id": "9c5ab5f4",
    "outputId": "09982ff2-96dc-4d3d-c13d-0bd4d19ac1cc",
    "scrolled": false
   },
   "outputs": [
    {
     "name": "stdout",
     "output_type": "stream",
     "text": [
      "<class 'pandas.core.frame.DataFrame'>\n",
      "Int64Index: 10242 entries, 0 to 10334\n",
      "Data columns (total 32 columns):\n",
      " #   Column                    Non-Null Count  Dtype  \n",
      "---  ------                    --------------  -----  \n",
      " 0   orden                     10242 non-null  int64  \n",
      " 1   departamento              10242 non-null  object \n",
      " 2   municipio                 10242 non-null  object \n",
      " 3   semana                    10242 non-null  int64  \n",
      " 4   año                       10242 non-null  int64  \n",
      " 5   grupo edad                10242 non-null  object \n",
      " 6   ciclo de vida             10242 non-null  object \n",
      " 7   sexo_                     10242 non-null  object \n",
      " 8   area_                     10242 non-null  object \n",
      " 9   barrio                    10242 non-null  object \n",
      " 10  comuna                    10242 non-null  object \n",
      " 11  tipo de seguridad social  10242 non-null  object \n",
      " 12  pac_hos_                  10242 non-null  int64  \n",
      " 13  con_fin_                  10242 non-null  int64  \n",
      " 14  version                   10242 non-null  object \n",
      " 15  naturaleza                10094 non-null  float64\n",
      " 16  def_naturaleza            10094 non-null  object \n",
      " 17  actividad                 10242 non-null  int64  \n",
      " 18  nom_actividad             10242 non-null  object \n",
      " 19  edad_agre                 7724 non-null   float64\n",
      " 20  sexo_agre                 10235 non-null  object \n",
      " 21  parentezco_vict           10242 non-null  object \n",
      " 22  sust_vict                 10242 non-null  int64  \n",
      " 23  fec_hecho                 10237 non-null  object \n",
      " 24  hora_hecho                5661 non-null   object \n",
      " 25  escenario                 10239 non-null  float64\n",
      " 26  zona_conf                 10242 non-null  int64  \n",
      " 27  nom_eve                   10242 non-null  object \n",
      " 28  nom_upgd                  10242 non-null  object \n",
      " 29  ndep_resi                 10242 non-null  object \n",
      " 30  nmun_resi                 10242 non-null  object \n",
      " 31  mes                       10242 non-null  object \n",
      "dtypes: float64(3), int64(8), object(21)\n",
      "memory usage: 2.6+ MB\n"
     ]
    }
   ],
   "source": [
    "violencia.info()"
   ]
  },
  {
   "cell_type": "markdown",
   "id": "9f737951",
   "metadata": {},
   "source": [
    "## - Year and week"
   ]
  },
  {
   "cell_type": "markdown",
   "id": "50dd8afc",
   "metadata": {
    "id": "50dd8afc"
   },
   "source": [
    "We'll convert the week and Year int 64 columns to date time"
   ]
  },
  {
   "cell_type": "code",
   "execution_count": 10,
   "id": "4052cd26",
   "metadata": {
    "id": "4052cd26"
   },
   "outputs": [],
   "source": [
    "violencia['semana'] = pd.to_datetime(violencia['semana'], format=\"%w\",errors='ignore')"
   ]
  },
  {
   "cell_type": "markdown",
   "id": "201366c1",
   "metadata": {},
   "source": [
    "- there are 3 unconvertable week values, so for the time being we'll ignore it"
   ]
  },
  {
   "cell_type": "code",
   "execution_count": 11,
   "id": "8155247a",
   "metadata": {
    "id": "8155247a"
   },
   "outputs": [],
   "source": [
    "\n",
    "violencia['año'] = pd.to_datetime(violencia['año'], format=\"%Y\")"
   ]
  },
  {
   "cell_type": "markdown",
   "id": "894ed5a6",
   "metadata": {},
   "source": [
    "## - Age group and lifecycle"
   ]
  },
  {
   "cell_type": "markdown",
   "id": "2f408d17",
   "metadata": {
    "id": "2f408d17"
   },
   "source": [
    "We converted these two data objects to categories, Also we change some error excel values to np.nan "
   ]
  },
  {
   "cell_type": "code",
   "execution_count": 12,
   "id": "e04bde70",
   "metadata": {
    "id": "e04bde70",
    "scrolled": true
   },
   "outputs": [],
   "source": [
    "violencia['grupo edad'] =violencia['grupo edad'].replace('ERROR: #N/A',np.nan).astype('category') "
   ]
  },
  {
   "cell_type": "code",
   "execution_count": 13,
   "id": "bdda0cba",
   "metadata": {
    "id": "bdda0cba",
    "scrolled": false
   },
   "outputs": [],
   "source": [
    "violencia['ciclo de vida']= violencia['ciclo de vida'].replace('ERROR: #N/A',np.nan).str.lower()"
   ]
  },
  {
   "cell_type": "markdown",
   "id": "96dfaf2c",
   "metadata": {},
   "source": [
    "## - Sex"
   ]
  },
  {
   "cell_type": "markdown",
   "id": "6e109338",
   "metadata": {},
   "source": [
    "There are only two values F and M, so we coverted it to two categories, and lowered their case"
   ]
  },
  {
   "cell_type": "code",
   "execution_count": 14,
   "id": "a5fbc515",
   "metadata": {
    "id": "a5fbc515"
   },
   "outputs": [],
   "source": [
    "violencia['sexo_'] = violencia['sexo_'].astype('category').str.lower()"
   ]
  },
  {
   "cell_type": "markdown",
   "id": "1b5bc0c7",
   "metadata": {},
   "source": [
    "## - Neighboorhoods"
   ]
  },
  {
   "cell_type": "markdown",
   "id": "8f99cb3b",
   "metadata": {
    "id": "8f99cb3b"
   },
   "source": [
    "We lowered the case of the neighboorhoods "
   ]
  },
  {
   "cell_type": "code",
   "execution_count": 15,
   "id": "da90f9e7",
   "metadata": {
    "id": "da90f9e7"
   },
   "outputs": [],
   "source": [
    "violencia['barrio'] = violencia['barrio'].str.lower()"
   ]
  },
  {
   "cell_type": "markdown",
   "id": "3215f0e7",
   "metadata": {},
   "source": [
    "## - Boroughs"
   ]
  },
  {
   "cell_type": "markdown",
   "id": "cf0ba8e9",
   "metadata": {},
   "source": [
    "The boroughs were quite a challenge as they had points and numbers in each entry.\n",
    "\n",
    "- First we lowered the case"
   ]
  },
  {
   "cell_type": "code",
   "execution_count": 16,
   "id": "36fff568",
   "metadata": {
    "id": "36fff568"
   },
   "outputs": [],
   "source": [
    "violencia['comuna']= violencia['comuna'].str.lower()"
   ]
  },
  {
   "cell_type": "markdown",
   "id": "b3879c65",
   "metadata": {
    "id": "b3879c65"
   },
   "source": [
    "- Then ussing re we got rid of those points and numbers, and appended it to a list"
   ]
  },
  {
   "cell_type": "code",
   "execution_count": 17,
   "id": "8e6173ce",
   "metadata": {
    "id": "8e6173ce"
   },
   "outputs": [],
   "source": [
    "\n",
    "order = r'[0-9,.]'\n",
    "comunas = list(violencia['comuna'].str.lower())\n",
    "comunas_clean = []\n",
    "for i in range(len(comunas)):\n",
    "    \n",
    "    filtered_string = re.sub(order,'',comunas[i])\n",
    "    comunas_clean.append(filtered_string.lstrip())        \n",
    "\n",
    "comunas_clean = pd.Series(comunas_clean)"
   ]
  },
  {
   "cell_type": "markdown",
   "id": "51ab05bd",
   "metadata": {
    "id": "51ab05bd"
   },
   "source": [
    "- Finally we replace the *Comuna* colums with our cleaned list "
   ]
  },
  {
   "cell_type": "code",
   "execution_count": 18,
   "id": "b0d795fe",
   "metadata": {
    "id": "b0d795fe"
   },
   "outputs": [],
   "source": [
    "violencia['comuna'] =comunas_clean"
   ]
  },
  {
   "cell_type": "markdown",
   "id": "15f82250",
   "metadata": {},
   "source": [
    "## - Social security"
   ]
  },
  {
   "cell_type": "markdown",
   "id": "1e4a7a48",
   "metadata": {
    "id": "1e4a7a48"
   },
   "source": [
    "We only lowered its case"
   ]
  },
  {
   "cell_type": "code",
   "execution_count": 19,
   "id": "e05f3be3",
   "metadata": {
    "id": "e05f3be3"
   },
   "outputs": [],
   "source": [
    "violencia['tipo de seguridad social']=violencia['tipo de seguridad social'].str.lower()"
   ]
  },
  {
   "cell_type": "markdown",
   "id": "0a4d910e",
   "metadata": {},
   "source": [
    "## - Death or alive arrival state"
   ]
  },
  {
   "cell_type": "markdown",
   "id": "2c2f7377",
   "metadata": {
    "id": "2c2f7377"
   },
   "source": [
    "CoWe converted it to a category, but there was a strange categoy '0' which din´t corresponded to death or alive so we replaced it with nan values"
   ]
  },
  {
   "cell_type": "code",
   "execution_count": 20,
   "id": "e93d585e",
   "metadata": {},
   "outputs": [
    {
     "data": {
      "text/plain": [
       "orden                       4\n",
       "departamento                4\n",
       "municipio                   4\n",
       "semana                      4\n",
       "año                         4\n",
       "grupo edad                  4\n",
       "ciclo de vida               4\n",
       "sexo_                       4\n",
       "area_                       4\n",
       "barrio                      4\n",
       "comuna                      4\n",
       "tipo de seguridad social    4\n",
       "pac_hos_                    4\n",
       "con_fin_                    4\n",
       "version                     4\n",
       "naturaleza                  4\n",
       "def_naturaleza              4\n",
       "actividad                   4\n",
       "nom_actividad               4\n",
       "edad_agre                   3\n",
       "sexo_agre                   4\n",
       "parentezco_vict             4\n",
       "sust_vict                   4\n",
       "fec_hecho                   4\n",
       "hora_hecho                  3\n",
       "escenario                   4\n",
       "zona_conf                   4\n",
       "nom_eve                     4\n",
       "nom_upgd                    4\n",
       "ndep_resi                   4\n",
       "nmun_resi                   4\n",
       "mes                         4\n",
       "dtype: int64"
      ]
     },
     "execution_count": 20,
     "metadata": {},
     "output_type": "execute_result"
    }
   ],
   "source": [
    "violencia[violencia['con_fin_']==0].count()"
   ]
  },
  {
   "cell_type": "code",
   "execution_count": 21,
   "id": "07f972ee",
   "metadata": {
    "id": "07f972ee"
   },
   "outputs": [],
   "source": [
    "violencia['con_fin_'] = violencia['con_fin_'].astype('category').replace(0,np.nan)"
   ]
  },
  {
   "cell_type": "markdown",
   "id": "33d2d7ee",
   "metadata": {},
   "source": [
    "## - Type of violence and description"
   ]
  },
  {
   "cell_type": "markdown",
   "id": "9c15fe24",
   "metadata": {
    "id": "9c15fe24"
   },
   "source": [
    "There was a category ('99') that meant 'no information', so we converted it to a nan to perform interpolation in this column, then it was categorized"
   ]
  },
  {
   "cell_type": "code",
   "execution_count": 22,
   "id": "45af2d44",
   "metadata": {
    "id": "45af2d44"
   },
   "outputs": [],
   "source": [
    "violencia['naturaleza'] = violencia['naturaleza'].replace(99.0,np.nan)\n",
    "violencia['naturaleza']=violencia['naturaleza'].astype('category')"
   ]
  },
  {
   "cell_type": "markdown",
   "id": "e17a384a",
   "metadata": {
    "id": "e17a384a"
   },
   "source": [
    "'no information' was replaced by a nan"
   ]
  },
  {
   "cell_type": "code",
   "execution_count": 23,
   "id": "538cc38c",
   "metadata": {
    "id": "538cc38c"
   },
   "outputs": [],
   "source": [
    "\n",
    "\n",
    "violencia['def_naturaleza'] =violencia['def_naturaleza'].replace('Sin información',np.nan)\n",
    "violencia['def_naturaleza']=violencia['def_naturaleza'].str.lower().astype('category')"
   ]
  },
  {
   "cell_type": "markdown",
   "id": "36c9774e",
   "metadata": {},
   "source": [
    "## - Type of activity and description"
   ]
  },
  {
   "cell_type": "markdown",
   "id": "d20bc4a7",
   "metadata": {
    "id": "d20bc4a7"
   },
   "source": [
    "we categorized the activities"
   ]
  },
  {
   "cell_type": "code",
   "execution_count": 24,
   "id": "003819f5",
   "metadata": {
    "id": "003819f5"
   },
   "outputs": [],
   "source": [
    "violencia['actividad']\n",
    "violencia['actividad'] =violencia['actividad'].astype('category')"
   ]
  },
  {
   "cell_type": "markdown",
   "id": "cf6fb248",
   "metadata": {
    "id": "cf6fb248"
   },
   "source": [
    "there was what seemend to be a excel error we changed it to a nan value"
   ]
  },
  {
   "cell_type": "code",
   "execution_count": 25,
   "id": "56f20f2e",
   "metadata": {
    "id": "56f20f2e",
    "scrolled": false
   },
   "outputs": [],
   "source": [
    "violencia['nom_actividad']= violencia['nom_actividad'].replace('ERROR: #N/A',np.nan).str.lower()\n",
    "violencia['nom_actividad'] =violencia['nom_actividad'].astype('category')"
   ]
  },
  {
   "cell_type": "code",
   "execution_count": 26,
   "id": "ffc1f6f6",
   "metadata": {
    "id": "ffc1f6f6",
    "outputId": "de8b47bf-65be-47c9-caaa-f066a34262c0",
    "scrolled": true
   },
   "outputs": [
    {
     "data": {
      "text/plain": [
       "['otro', 'estudiante', 'reciclador', 'trabajadora domestica', 'servidor publico', ..., 'persona dedicada al cuidado del hogar', 'líder cívico', 'persona en situación de prostitución', NaN, 'persona que cuida a otros']\n",
       "Length: 13\n",
       "Categories (12, object): ['otro', 'estudiante', 'reciclador', 'trabajadora domestica', ..., 'persona dedicada al cuidado del hogar', 'líder cívico', 'persona en situación de prostitución', 'persona que cuida a otros']"
      ]
     },
     "execution_count": 26,
     "metadata": {},
     "output_type": "execute_result"
    }
   ],
   "source": [
    "violencia['nom_actividad'].unique()"
   ]
  },
  {
   "cell_type": "markdown",
   "id": "7a75f296",
   "metadata": {},
   "source": [
    "## - Agressor age"
   ]
  },
  {
   "cell_type": "markdown",
   "id": "57c332a5",
   "metadata": {},
   "source": [
    "We change this float64 to a category in order to replace its missing values (which were around 24%), also it seemed a little nonsensical that that there were 2000 agressors with age 0 so we remplaced those values with a nan.\n",
    "\n",
    "This provoked that the missing values skyrocketed from 24% to 50%"
   ]
  },
  {
   "cell_type": "code",
   "execution_count": 27,
   "id": "b10a1f9d",
   "metadata": {
    "id": "b10a1f9d",
    "scrolled": false
   },
   "outputs": [],
   "source": [
    "\n",
    "violencia['edad_agre']=violencia['edad_agre'].astype('category')\n"
   ]
  },
  {
   "cell_type": "code",
   "execution_count": 28,
   "id": "909aab6b",
   "metadata": {
    "id": "909aab6b"
   },
   "outputs": [],
   "source": [
    "violencia['edad_agre'] = violencia['edad_agre'].replace(0.0,np.nan)"
   ]
  },
  {
   "cell_type": "code",
   "execution_count": 29,
   "id": "54b9b5b2",
   "metadata": {},
   "outputs": [],
   "source": [
    "violencia['edad_agre']=violencia['edad_agre'].astype('float64')"
   ]
  },
  {
   "cell_type": "markdown",
   "id": "ea9d8122",
   "metadata": {},
   "source": [
    "## - Agressor sex"
   ]
  },
  {
   "cell_type": "markdown",
   "id": "fe017324",
   "metadata": {
    "id": "fe017324"
   },
   "source": [
    "It has 4 categories M,MF SD e I"
   ]
  },
  {
   "cell_type": "code",
   "execution_count": 30,
   "id": "2e0ec82e",
   "metadata": {
    "id": "2e0ec82e"
   },
   "outputs": [],
   "source": [
    "violencia['sexo_agre'] =violencia['sexo_agre'].astype('category')"
   ]
  },
  {
   "cell_type": "markdown",
   "id": "09c9a28e",
   "metadata": {},
   "source": [
    "## - Victim kinship"
   ]
  },
  {
   "cell_type": "markdown",
   "id": "854d3dee",
   "metadata": {
    "id": "854d3dee"
   },
   "source": [
    "we lowered its case"
   ]
  },
  {
   "cell_type": "code",
   "execution_count": 31,
   "id": "dae5f8a7",
   "metadata": {
    "id": "dae5f8a7"
   },
   "outputs": [],
   "source": [
    "violencia['parentezco_vict'] = violencia['parentezco_vict'].str.lower()\n"
   ]
  },
  {
   "cell_type": "markdown",
   "id": "69d38174",
   "metadata": {},
   "source": [
    "## - Ocurrence date"
   ]
  },
  {
   "cell_type": "markdown",
   "id": "db209eae",
   "metadata": {
    "id": "db209eae"
   },
   "source": [
    "We changed the ocurrence date to date time, we had to split the original object date\n"
   ]
  },
  {
   "cell_type": "code",
   "execution_count": 32,
   "id": "aa43560d",
   "metadata": {
    "id": "aa43560d"
   },
   "outputs": [],
   "source": [
    "violencia['fec_hecho']=pd.to_datetime(violencia['fec_hecho'].str.split('T00').str[0],format='%Y-%m-%d')"
   ]
  },
  {
   "cell_type": "markdown",
   "id": "b2a6d504",
   "metadata": {},
   "source": [
    "## - Ocurrence Hour"
   ]
  },
  {
   "cell_type": "markdown",
   "id": "3e518020",
   "metadata": {
    "id": "3e518020"
   },
   "source": [
    "We are missing 44% of hour data but we hadn´t any feasible way of interpolating these valeus so we had to only convert the complete values that we had to date time.\n"
   ]
  },
  {
   "cell_type": "code",
   "execution_count": 33,
   "id": "19181739",
   "metadata": {
    "id": "19181739"
   },
   "outputs": [],
   "source": [
    "violencia['hora_hecho'] = pd.to_datetime(violencia['hora_hecho'],format='%H:%M',errors= 'ignore')"
   ]
  },
  {
   "cell_type": "markdown",
   "id": "0e337d36",
   "metadata": {
    "id": "0e337d36"
   },
   "source": [
    "## - Residence deparment"
   ]
  },
  {
   "cell_type": "markdown",
   "id": "e08d8c01",
   "metadata": {},
   "source": [
    "We lowered its case"
   ]
  },
  {
   "cell_type": "code",
   "execution_count": 34,
   "id": "ff7b9419",
   "metadata": {
    "id": "ff7b9419"
   },
   "outputs": [],
   "source": [
    "violencia['ndep_resi'] = violencia['ndep_resi'].str.lower()"
   ]
  },
  {
   "cell_type": "markdown",
   "id": "ceea6831",
   "metadata": {
    "id": "ceea6831"
   },
   "source": [
    "## - Month"
   ]
  },
  {
   "cell_type": "markdown",
   "id": "df6ea396",
   "metadata": {},
   "source": [
    "We changed the month to datetime"
   ]
  },
  {
   "cell_type": "code",
   "execution_count": 37,
   "id": "f1b05092",
   "metadata": {
    "id": "f1b05092"
   },
   "outputs": [],
   "source": [
    "violencia['mes'] = pd.to_datetime(violencia['mes'].str.split('.').str[0],format='%m').dt.month"
   ]
  },
  {
   "cell_type": "markdown",
   "id": "07104ac5",
   "metadata": {
    "id": "07104ac5"
   },
   "source": [
    "# Final result"
   ]
  },
  {
   "cell_type": "code",
   "execution_count": 38,
   "id": "28ccbdeb",
   "metadata": {
    "id": "28ccbdeb",
    "outputId": "237fc752-495b-4494-b6ae-ac069c1c9ce5",
    "scrolled": false
   },
   "outputs": [
    {
     "name": "stdout",
     "output_type": "stream",
     "text": [
      "<class 'pandas.core.frame.DataFrame'>\n",
      "Int64Index: 10242 entries, 0 to 10334\n",
      "Data columns (total 32 columns):\n",
      " #   Column                    Non-Null Count  Dtype         \n",
      "---  ------                    --------------  -----         \n",
      " 0   orden                     10242 non-null  int64         \n",
      " 1   departamento              10242 non-null  object        \n",
      " 2   municipio                 10242 non-null  object        \n",
      " 3   semana                    10242 non-null  int64         \n",
      " 4   año                       10242 non-null  datetime64[ns]\n",
      " 5   grupo edad                10241 non-null  category      \n",
      " 6   ciclo de vida             10241 non-null  object        \n",
      " 7   sexo_                     10242 non-null  object        \n",
      " 8   area_                     10242 non-null  object        \n",
      " 9   barrio                    10242 non-null  object        \n",
      " 10  comuna                    10153 non-null  object        \n",
      " 11  tipo de seguridad social  10242 non-null  object        \n",
      " 12  pac_hos_                  10242 non-null  int64         \n",
      " 13  con_fin_                  10238 non-null  category      \n",
      " 14  version                   10242 non-null  object        \n",
      " 15  naturaleza                9471 non-null   category      \n",
      " 16  def_naturaleza            9471 non-null   category      \n",
      " 17  actividad                 10242 non-null  category      \n",
      " 18  nom_actividad             10237 non-null  category      \n",
      " 19  edad_agre                 5081 non-null   float64       \n",
      " 20  sexo_agre                 10235 non-null  category      \n",
      " 21  parentezco_vict           10242 non-null  object        \n",
      " 22  sust_vict                 10242 non-null  int64         \n",
      " 23  fec_hecho                 10237 non-null  datetime64[ns]\n",
      " 24  hora_hecho                5661 non-null   object        \n",
      " 25  escenario                 10239 non-null  float64       \n",
      " 26  zona_conf                 10242 non-null  int64         \n",
      " 27  nom_eve                   10242 non-null  object        \n",
      " 28  nom_upgd                  10242 non-null  object        \n",
      " 29  ndep_resi                 10242 non-null  object        \n",
      " 30  nmun_resi                 10242 non-null  object        \n",
      " 31  mes                       10242 non-null  int64         \n",
      "dtypes: category(7), datetime64[ns](2), float64(2), int64(6), object(15)\n",
      "memory usage: 2.1+ MB\n"
     ]
    }
   ],
   "source": [
    "violencia.info()"
   ]
  },
  {
   "cell_type": "markdown",
   "id": "80fa4902",
   "metadata": {
    "id": "80fa4902"
   },
   "source": [
    "<h3 align=left style=\"font-size:1.5vw\"><span style=\"color:#2E7DA1\">D) Interpolating missing values:</span></h3>"
   ]
  },
  {
   "cell_type": "markdown",
   "id": "74a94f58",
   "metadata": {},
   "source": [
    "## New missing values percentage:"
   ]
  },
  {
   "cell_type": "code",
   "execution_count": 39,
   "id": "2620a0a8",
   "metadata": {
    "id": "2620a0a8",
    "outputId": "01c7f786-e93a-43cb-8693-ea2dd181b2fd",
    "scrolled": false
   },
   "outputs": [
    {
     "data": {
      "text/html": [
       "<div>\n",
       "<style scoped>\n",
       "    .dataframe tbody tr th:only-of-type {\n",
       "        vertical-align: middle;\n",
       "    }\n",
       "\n",
       "    .dataframe tbody tr th {\n",
       "        vertical-align: top;\n",
       "    }\n",
       "\n",
       "    .dataframe thead th {\n",
       "        text-align: right;\n",
       "    }\n",
       "</style>\n",
       "<table border=\"1\" class=\"dataframe\">\n",
       "  <thead>\n",
       "    <tr style=\"text-align: right;\">\n",
       "      <th></th>\n",
       "      <th>label</th>\n",
       "      <th>missing</th>\n",
       "    </tr>\n",
       "  </thead>\n",
       "  <tbody>\n",
       "    <tr>\n",
       "      <th>grupo edad</th>\n",
       "      <td>grupo edad</td>\n",
       "      <td>0.009764</td>\n",
       "    </tr>\n",
       "    <tr>\n",
       "      <th>ciclo de vida</th>\n",
       "      <td>ciclo de vida</td>\n",
       "      <td>0.009764</td>\n",
       "    </tr>\n",
       "    <tr>\n",
       "      <th>comuna</th>\n",
       "      <td>comuna</td>\n",
       "      <td>0.868971</td>\n",
       "    </tr>\n",
       "    <tr>\n",
       "      <th>con_fin_</th>\n",
       "      <td>con_fin_</td>\n",
       "      <td>0.039055</td>\n",
       "    </tr>\n",
       "    <tr>\n",
       "      <th>naturaleza</th>\n",
       "      <td>naturaleza</td>\n",
       "      <td>7.527827</td>\n",
       "    </tr>\n",
       "    <tr>\n",
       "      <th>def_naturaleza</th>\n",
       "      <td>def_naturaleza</td>\n",
       "      <td>7.527827</td>\n",
       "    </tr>\n",
       "    <tr>\n",
       "      <th>nom_actividad</th>\n",
       "      <td>nom_actividad</td>\n",
       "      <td>0.048819</td>\n",
       "    </tr>\n",
       "    <tr>\n",
       "      <th>edad_agre</th>\n",
       "      <td>edad_agre</td>\n",
       "      <td>50.390549</td>\n",
       "    </tr>\n",
       "    <tr>\n",
       "      <th>sexo_agre</th>\n",
       "      <td>sexo_agre</td>\n",
       "      <td>0.068346</td>\n",
       "    </tr>\n",
       "    <tr>\n",
       "      <th>fec_hecho</th>\n",
       "      <td>fec_hecho</td>\n",
       "      <td>0.048819</td>\n",
       "    </tr>\n",
       "    <tr>\n",
       "      <th>hora_hecho</th>\n",
       "      <td>hora_hecho</td>\n",
       "      <td>44.727592</td>\n",
       "    </tr>\n",
       "    <tr>\n",
       "      <th>escenario</th>\n",
       "      <td>escenario</td>\n",
       "      <td>0.029291</td>\n",
       "    </tr>\n",
       "  </tbody>\n",
       "</table>\n",
       "</div>"
      ],
      "text/plain": [
       "                         label    missing\n",
       "grupo edad          grupo edad   0.009764\n",
       "ciclo de vida    ciclo de vida   0.009764\n",
       "comuna                  comuna   0.868971\n",
       "con_fin_              con_fin_   0.039055\n",
       "naturaleza          naturaleza   7.527827\n",
       "def_naturaleza  def_naturaleza   7.527827\n",
       "nom_actividad    nom_actividad   0.048819\n",
       "edad_agre            edad_agre  50.390549\n",
       "sexo_agre            sexo_agre   0.068346\n",
       "fec_hecho            fec_hecho   0.048819\n",
       "hora_hecho          hora_hecho  44.727592\n",
       "escenario            escenario   0.029291"
      ]
     },
     "execution_count": 39,
     "metadata": {},
     "output_type": "execute_result"
    }
   ],
   "source": [
    "percent_missing = violencia.isnull().sum() * 100 / len(violencia)\n",
    "miss_values = pd.DataFrame({'label': violencia.columns,\n",
    "                            'missing': percent_missing})\n",
    "miss_values[miss_values['missing']> 0]"
   ]
  },
  {
   "cell_type": "markdown",
   "id": "1d5390b7",
   "metadata": {},
   "source": [
    "## -Type of violence"
   ]
  },
  {
   "cell_type": "markdown",
   "id": "3df46ad8",
   "metadata": {
    "id": "3df46ad8"
   },
   "source": [
    "Firstly we interpolated the ktypes of violence"
   ]
  },
  {
   "cell_type": "code",
   "execution_count": 40,
   "id": "8e25bbaa",
   "metadata": {
    "id": "8e25bbaa"
   },
   "outputs": [],
   "source": [
    "cat_codes_num = violencia['naturaleza'].cat.codes.replace(-1, np.nan)\n",
    "cat_codes_num = cat_codes_num.interpolate()\n",
    "cat_codes_num = cat_codes_num.astype(int).astype('category')\n",
    "#-------------------------------\n",
    "violencia['naturaleza'] = cat_codes_num"
   ]
  },
  {
   "cell_type": "markdown",
   "id": "b65d918c",
   "metadata": {},
   "source": [
    "As the 'naturaleza' categories correspond to a code of type of violence, we took the name of the violent act and assinged it to its  interpolated category value."
   ]
  },
  {
   "cell_type": "code",
   "execution_count": 41,
   "id": "42b968a8",
   "metadata": {
    "id": "42b968a8"
   },
   "outputs": [],
   "source": [
    "dicnat = {0:'violencia fisica',\n",
    "          1:'violencia psicologica',\n",
    "          2:'negligencia y abandono',\n",
    "          3:'abuso sexual',\n",
    "          4:'acoso sexual',\n",
    "          5:'violacion',\n",
    "          6:'explotacion sexual, comercial niños, adolescentes',\n",
    "          7:'actos sexuales violencia',\n",
    "          8:'otros actos sexuales'    \n",
    "}\n",
    "numbers = list(violencia[violencia['def_naturaleza'].isna()].index)\n",
    "for i in range(len(numbers)):\n",
    "    violencia['def_naturaleza'].loc[numbers[i]] = dicnat[violencia['naturaleza'].loc[i] ]"
   ]
  },
  {
   "cell_type": "markdown",
   "id": "c6db5c02",
   "metadata": {},
   "source": [
    "## - Agressor age"
   ]
  },
  {
   "cell_type": "markdown",
   "id": "480b2617",
   "metadata": {
    "id": "480b2617"
   },
   "source": [
    "We had about a 50% missing values, regardless of this we proceeded to interpolating this value"
   ]
  },
  {
   "cell_type": "code",
   "execution_count": 42,
   "id": "fac4615c",
   "metadata": {
    "id": "fac4615c"
   },
   "outputs": [],
   "source": [
    "\n",
    "cat_codes_age= violencia['edad_agre'].interpolate()\n",
    "cat_codes_age = round(cat_codes_age.astype(float),1)\n",
    "#--------------\n",
    "violencia['edad_agre'] = cat_codes_age"
   ]
  },
  {
   "cell_type": "code",
   "execution_count": null,
   "id": "537390e6",
   "metadata": {},
   "outputs": [],
   "source": []
  },
  {
   "cell_type": "markdown",
   "id": "59d56bae",
   "metadata": {},
   "source": [
    "## - Activities"
   ]
  },
  {
   "cell_type": "markdown",
   "id": "d8d3c334",
   "metadata": {
    "id": "d8d3c334"
   },
   "source": [
    "We did the same as in type of violence"
   ]
  },
  {
   "cell_type": "code",
   "execution_count": 43,
   "id": "2f78536c",
   "metadata": {
    "id": "2f78536c"
   },
   "outputs": [],
   "source": [
    "cat_codes_act = violencia['actividad'].cat.codes.replace(-1, np.nan)\n",
    "cat_codes_act= cat_codes_act.interpolate()\n",
    "cat_codes_act=cat_codes_act.astype(int).astype('category')\n",
    "# #--------------\n",
    "violencia['actividad'] = cat_codes_act"
   ]
  },
  {
   "cell_type": "markdown",
   "id": "2b803124",
   "metadata": {
    "id": "2b803124"
   },
   "source": [
    "This colums were mostly complete it only missed a few 9 category = nan values, we chose to replace thes values to ninguno and its corresponding category '12'\n"
   ]
  },
  {
   "cell_type": "code",
   "execution_count": 44,
   "id": "2b0d4b22",
   "metadata": {
    "id": "2b0d4b22"
   },
   "outputs": [],
   "source": [
    "dicact = {9: 'ninguna'   \n",
    "}\n",
    "#12\n",
    "numbers_act = list(violencia[violencia['nom_actividad'].isna()].index)\n",
    "for i in range(len(numbers_act)):\n",
    "   \n",
    "    violencia['nom_actividad'].loc[numbers_act[i]] = dicact[9]\n",
    "    violencia['actividad'].loc[numbers_act[i]] = 12"
   ]
  },
  {
   "cell_type": "markdown",
   "id": "530e82db",
   "metadata": {},
   "source": [
    "# Final result"
   ]
  },
  {
   "cell_type": "code",
   "execution_count": 45,
   "id": "1f4ba0af",
   "metadata": {
    "id": "1f4ba0af",
    "outputId": "6e437969-8105-43df-96e9-55203dba4bcd",
    "scrolled": false
   },
   "outputs": [
    {
     "data": {
      "text/html": [
       "<div>\n",
       "<style scoped>\n",
       "    .dataframe tbody tr th:only-of-type {\n",
       "        vertical-align: middle;\n",
       "    }\n",
       "\n",
       "    .dataframe tbody tr th {\n",
       "        vertical-align: top;\n",
       "    }\n",
       "\n",
       "    .dataframe thead th {\n",
       "        text-align: right;\n",
       "    }\n",
       "</style>\n",
       "<table border=\"1\" class=\"dataframe\">\n",
       "  <thead>\n",
       "    <tr style=\"text-align: right;\">\n",
       "      <th></th>\n",
       "      <th>label</th>\n",
       "      <th>missing</th>\n",
       "    </tr>\n",
       "  </thead>\n",
       "  <tbody>\n",
       "    <tr>\n",
       "      <th>grupo edad</th>\n",
       "      <td>grupo edad</td>\n",
       "      <td>0.009764</td>\n",
       "    </tr>\n",
       "    <tr>\n",
       "      <th>ciclo de vida</th>\n",
       "      <td>ciclo de vida</td>\n",
       "      <td>0.009764</td>\n",
       "    </tr>\n",
       "    <tr>\n",
       "      <th>comuna</th>\n",
       "      <td>comuna</td>\n",
       "      <td>0.868971</td>\n",
       "    </tr>\n",
       "    <tr>\n",
       "      <th>con_fin_</th>\n",
       "      <td>con_fin_</td>\n",
       "      <td>0.039055</td>\n",
       "    </tr>\n",
       "    <tr>\n",
       "      <th>sexo_agre</th>\n",
       "      <td>sexo_agre</td>\n",
       "      <td>0.068346</td>\n",
       "    </tr>\n",
       "    <tr>\n",
       "      <th>fec_hecho</th>\n",
       "      <td>fec_hecho</td>\n",
       "      <td>0.048819</td>\n",
       "    </tr>\n",
       "    <tr>\n",
       "      <th>hora_hecho</th>\n",
       "      <td>hora_hecho</td>\n",
       "      <td>44.727592</td>\n",
       "    </tr>\n",
       "    <tr>\n",
       "      <th>escenario</th>\n",
       "      <td>escenario</td>\n",
       "      <td>0.029291</td>\n",
       "    </tr>\n",
       "  </tbody>\n",
       "</table>\n",
       "</div>"
      ],
      "text/plain": [
       "                       label    missing\n",
       "grupo edad        grupo edad   0.009764\n",
       "ciclo de vida  ciclo de vida   0.009764\n",
       "comuna                comuna   0.868971\n",
       "con_fin_            con_fin_   0.039055\n",
       "sexo_agre          sexo_agre   0.068346\n",
       "fec_hecho          fec_hecho   0.048819\n",
       "hora_hecho        hora_hecho  44.727592\n",
       "escenario          escenario   0.029291"
      ]
     },
     "execution_count": 45,
     "metadata": {},
     "output_type": "execute_result"
    }
   ],
   "source": [
    "percent_missing = violencia.isnull().sum() * 100 / len(violencia)\n",
    "miss_values = pd.DataFrame({'label': violencia.columns,\n",
    "                            'missing': percent_missing})\n",
    "miss_values[miss_values['missing']> 0]"
   ]
  },
  {
   "cell_type": "markdown",
   "id": "30e8f062",
   "metadata": {},
   "source": [
    "<h3 align=left style=\"font-size:1.5vw\"><span style=\"color:#2E7DA1\">E) EDA:</span></h3>"
   ]
  },
  {
   "cell_type": "markdown",
   "id": "fd74e1ac",
   "metadata": {},
   "source": [
    "We comenced our EDA by describing some values of our dataset"
   ]
  },
  {
   "cell_type": "code",
   "execution_count": 46,
   "id": "8f6c3c93",
   "metadata": {
    "scrolled": true
   },
   "outputs": [
    {
     "data": {
      "text/plain": [
       "count    10242.000000\n",
       "mean        29.331722\n",
       "std          9.242218\n",
       "min          5.000000\n",
       "25%         25.000000\n",
       "50%         27.700000\n",
       "75%         32.000000\n",
       "max         99.000000\n",
       "Name: edad_agre, dtype: float64"
      ]
     },
     "execution_count": 46,
     "metadata": {},
     "output_type": "execute_result"
    }
   ],
   "source": [
    "violencia['edad_agre'].describe()"
   ]
  },
  {
   "cell_type": "code",
   "execution_count": 47,
   "id": "d071ff71",
   "metadata": {
    "scrolled": false
   },
   "outputs": [
    {
     "data": {
      "text/plain": [
       "count    10242.000000\n",
       "mean        24.828842\n",
       "std         15.020856\n",
       "min          1.000000\n",
       "25%         11.000000\n",
       "50%         24.000000\n",
       "75%         38.000000\n",
       "max         53.000000\n",
       "Name: semana, dtype: float64"
      ]
     },
     "execution_count": 47,
     "metadata": {},
     "output_type": "execute_result"
    }
   ],
   "source": [
    "violencia['semana'].describe()"
   ]
  },
  {
   "cell_type": "code",
   "execution_count": 48,
   "id": "9890ac65",
   "metadata": {
    "scrolled": true
   },
   "outputs": [
    {
     "data": {
      "text/plain": [
       "count     10241\n",
       "unique        6\n",
       "top       0 a 6\n",
       "freq       3268\n",
       "Name: grupo edad, dtype: object"
      ]
     },
     "execution_count": 48,
     "metadata": {},
     "output_type": "execute_result"
    }
   ],
   "source": [
    "violencia['grupo edad'].describe()"
   ]
  },
  {
   "cell_type": "code",
   "execution_count": 49,
   "id": "e7d70158",
   "metadata": {
    "scrolled": true
   },
   "outputs": [
    {
     "data": {
      "text/plain": [
       "count                10241\n",
       "unique                   6\n",
       "top       primera infancia\n",
       "freq                  3268\n",
       "Name: ciclo de vida, dtype: object"
      ]
     },
     "execution_count": 49,
     "metadata": {},
     "output_type": "execute_result"
    }
   ],
   "source": [
    "violencia['ciclo de vida'].describe()"
   ]
  },
  {
   "cell_type": "code",
   "execution_count": 50,
   "id": "d84e4910",
   "metadata": {
    "scrolled": true
   },
   "outputs": [
    {
     "data": {
      "text/plain": [
       "count     10153\n",
       "unique       64\n",
       "top       norte\n",
       "freq       1685\n",
       "Name: comuna, dtype: object"
      ]
     },
     "execution_count": 50,
     "metadata": {},
     "output_type": "execute_result"
    }
   ],
   "source": [
    "violencia['comuna'].describe()"
   ]
  },
  {
   "cell_type": "code",
   "execution_count": 51,
   "id": "ab64368c",
   "metadata": {
    "scrolled": true
   },
   "outputs": [
    {
     "data": {
      "text/plain": [
       "count     10242\n",
       "unique       12\n",
       "top        otro\n",
       "freq       4820\n",
       "Name: nom_actividad, dtype: object"
      ]
     },
     "execution_count": 51,
     "metadata": {},
     "output_type": "execute_result"
    }
   ],
   "source": [
    "violencia['nom_actividad'].describe()"
   ]
  },
  {
   "cell_type": "code",
   "execution_count": 52,
   "id": "f78a4d32",
   "metadata": {
    "scrolled": false
   },
   "outputs": [
    {
     "data": {
      "text/plain": [
       "count     10242\n",
       "unique       25\n",
       "top       madre\n",
       "freq       3554\n",
       "Name: parentezco_vict, dtype: object"
      ]
     },
     "execution_count": 52,
     "metadata": {},
     "output_type": "execute_result"
    }
   ],
   "source": [
    "violencia['parentezco_vict'].describe()"
   ]
  },
  {
   "cell_type": "markdown",
   "id": "2bf3ae20",
   "metadata": {},
   "source": [
    "## - Searching for correlation"
   ]
  },
  {
   "cell_type": "markdown",
   "id": "21a38243",
   "metadata": {},
   "source": [
    "We tried to find some correlation between our variables"
   ]
  },
  {
   "cell_type": "code",
   "execution_count": 53,
   "id": "e39cfbdf",
   "metadata": {
    "scrolled": true
   },
   "outputs": [
    {
     "data": {
      "text/html": [
       "<div>\n",
       "<style scoped>\n",
       "    .dataframe tbody tr th:only-of-type {\n",
       "        vertical-align: middle;\n",
       "    }\n",
       "\n",
       "    .dataframe tbody tr th {\n",
       "        vertical-align: top;\n",
       "    }\n",
       "\n",
       "    .dataframe thead th {\n",
       "        text-align: right;\n",
       "    }\n",
       "</style>\n",
       "<table border=\"1\" class=\"dataframe\">\n",
       "  <thead>\n",
       "    <tr style=\"text-align: right;\">\n",
       "      <th></th>\n",
       "      <th>orden</th>\n",
       "      <th>semana</th>\n",
       "      <th>pac_hos_</th>\n",
       "      <th>edad_agre</th>\n",
       "      <th>sust_vict</th>\n",
       "      <th>escenario</th>\n",
       "      <th>zona_conf</th>\n",
       "      <th>mes</th>\n",
       "    </tr>\n",
       "  </thead>\n",
       "  <tbody>\n",
       "    <tr>\n",
       "      <th>orden</th>\n",
       "      <td>1.000000</td>\n",
       "      <td>-0.066544</td>\n",
       "      <td>0.007827</td>\n",
       "      <td>-0.092318</td>\n",
       "      <td>0.016887</td>\n",
       "      <td>0.085436</td>\n",
       "      <td>0.028320</td>\n",
       "      <td>-0.084658</td>\n",
       "    </tr>\n",
       "    <tr>\n",
       "      <th>semana</th>\n",
       "      <td>-0.066544</td>\n",
       "      <td>1.000000</td>\n",
       "      <td>0.001193</td>\n",
       "      <td>0.009107</td>\n",
       "      <td>0.001932</td>\n",
       "      <td>0.001861</td>\n",
       "      <td>-0.009106</td>\n",
       "      <td>0.905272</td>\n",
       "    </tr>\n",
       "    <tr>\n",
       "      <th>pac_hos_</th>\n",
       "      <td>0.007827</td>\n",
       "      <td>0.001193</td>\n",
       "      <td>1.000000</td>\n",
       "      <td>0.042076</td>\n",
       "      <td>0.031254</td>\n",
       "      <td>-0.017909</td>\n",
       "      <td>-0.018543</td>\n",
       "      <td>0.015861</td>\n",
       "    </tr>\n",
       "    <tr>\n",
       "      <th>edad_agre</th>\n",
       "      <td>-0.092318</td>\n",
       "      <td>0.009107</td>\n",
       "      <td>0.042076</td>\n",
       "      <td>1.000000</td>\n",
       "      <td>-0.007190</td>\n",
       "      <td>-0.042778</td>\n",
       "      <td>-0.007466</td>\n",
       "      <td>0.023012</td>\n",
       "    </tr>\n",
       "    <tr>\n",
       "      <th>sust_vict</th>\n",
       "      <td>0.016887</td>\n",
       "      <td>0.001932</td>\n",
       "      <td>0.031254</td>\n",
       "      <td>-0.007190</td>\n",
       "      <td>1.000000</td>\n",
       "      <td>-0.016889</td>\n",
       "      <td>0.040347</td>\n",
       "      <td>-0.007642</td>\n",
       "    </tr>\n",
       "    <tr>\n",
       "      <th>escenario</th>\n",
       "      <td>0.085436</td>\n",
       "      <td>0.001861</td>\n",
       "      <td>-0.017909</td>\n",
       "      <td>-0.042778</td>\n",
       "      <td>-0.016889</td>\n",
       "      <td>1.000000</td>\n",
       "      <td>0.007305</td>\n",
       "      <td>0.014107</td>\n",
       "    </tr>\n",
       "    <tr>\n",
       "      <th>zona_conf</th>\n",
       "      <td>0.028320</td>\n",
       "      <td>-0.009106</td>\n",
       "      <td>-0.018543</td>\n",
       "      <td>-0.007466</td>\n",
       "      <td>0.040347</td>\n",
       "      <td>0.007305</td>\n",
       "      <td>1.000000</td>\n",
       "      <td>-0.000865</td>\n",
       "    </tr>\n",
       "    <tr>\n",
       "      <th>mes</th>\n",
       "      <td>-0.084658</td>\n",
       "      <td>0.905272</td>\n",
       "      <td>0.015861</td>\n",
       "      <td>0.023012</td>\n",
       "      <td>-0.007642</td>\n",
       "      <td>0.014107</td>\n",
       "      <td>-0.000865</td>\n",
       "      <td>1.000000</td>\n",
       "    </tr>\n",
       "  </tbody>\n",
       "</table>\n",
       "</div>"
      ],
      "text/plain": [
       "              orden    semana  pac_hos_  edad_agre  sust_vict  escenario  \\\n",
       "orden      1.000000 -0.066544  0.007827  -0.092318   0.016887   0.085436   \n",
       "semana    -0.066544  1.000000  0.001193   0.009107   0.001932   0.001861   \n",
       "pac_hos_   0.007827  0.001193  1.000000   0.042076   0.031254  -0.017909   \n",
       "edad_agre -0.092318  0.009107  0.042076   1.000000  -0.007190  -0.042778   \n",
       "sust_vict  0.016887  0.001932  0.031254  -0.007190   1.000000  -0.016889   \n",
       "escenario  0.085436  0.001861 -0.017909  -0.042778  -0.016889   1.000000   \n",
       "zona_conf  0.028320 -0.009106 -0.018543  -0.007466   0.040347   0.007305   \n",
       "mes       -0.084658  0.905272  0.015861   0.023012  -0.007642   0.014107   \n",
       "\n",
       "           zona_conf       mes  \n",
       "orden       0.028320 -0.084658  \n",
       "semana     -0.009106  0.905272  \n",
       "pac_hos_   -0.018543  0.015861  \n",
       "edad_agre  -0.007466  0.023012  \n",
       "sust_vict   0.040347 -0.007642  \n",
       "escenario   0.007305  0.014107  \n",
       "zona_conf   1.000000 -0.000865  \n",
       "mes        -0.000865  1.000000  "
      ]
     },
     "execution_count": 53,
     "metadata": {},
     "output_type": "execute_result"
    }
   ],
   "source": [
    "violencia.corr()"
   ]
  },
  {
   "cell_type": "code",
   "execution_count": 54,
   "id": "c559eb27",
   "metadata": {
    "scrolled": false
   },
   "outputs": [
    {
     "data": {
      "image/png": "[encoded data removed]",
      "text/plain": [
       "<Figure size 432x288 with 2 Axes>"
      ]
     },
     "metadata": {
      "needs_background": "light"
     },
     "output_type": "display_data"
    }
   ],
   "source": [
    "sns.heatmap(violencia.corr());"
   ]
  },
  {
   "cell_type": "markdown",
   "id": "01244849",
   "metadata": {},
   "source": [
    "As we can see there aren't many strongly correlated values, excepting the week and month variables"
   ]
  },
  {
   "cell_type": "markdown",
   "id": "5dd44a95",
   "metadata": {},
   "source": [
    "## - Plotting the data"
   ]
  },
  {
   "cell_type": "markdown",
   "id": "e8e3d520",
   "metadata": {},
   "source": [
    "First we'll plot the municipality with more ocurrences"
   ]
  },
  {
   "cell_type": "code",
   "execution_count": 55,
   "id": "6660f2bd",
   "metadata": {},
   "outputs": [],
   "source": [
    "violencia_ocurrences= violencia.groupby('municipio').count().reset_index().sort_values('naturaleza',ascending=False)"
   ]
  },
  {
   "cell_type": "code",
   "execution_count": 56,
   "id": "5eeea1a7",
   "metadata": {
    "scrolled": false
   },
   "outputs": [
    {
     "data": {
      "text/plain": [
       "[Text(0.5, 0, 'ocurrences')]"
      ]
     },
     "execution_count": 56,
     "metadata": {},
     "output_type": "execute_result"
    },
    {
     "data": {
      "image/png": "[encoded data removed]",
      "text/plain": [
       "<Figure size 432x288 with 1 Axes>"
      ]
     },
     "metadata": {
      "needs_background": "light"
     },
     "output_type": "display_data"
    }
   ],
   "source": [
    "sns.barplot(y='municipio',x='naturaleza',data = violencia_ocurrences, orient = 'h').set(xlabel='ocurrences')"
   ]
  },
  {
   "cell_type": "markdown",
   "id": "38d86244",
   "metadata": {},
   "source": [
    "Even though we use The Santander's cases, we still find that the majority of cases concurr in Bucaramanga"
   ]
  },
  {
   "cell_type": "code",
   "execution_count": 57,
   "id": "75b53c18",
   "metadata": {},
   "outputs": [],
   "source": [
    "voilencia_ocurrences_outside_buc = violencia_ocurrences[violencia_ocurrences['municipio'] != 'bucaramanga']"
   ]
  },
  {
   "cell_type": "code",
   "execution_count": 58,
   "id": "3987e581",
   "metadata": {
    "scrolled": false
   },
   "outputs": [
    {
     "data": {
      "text/plain": [
       "[Text(0.5, 0, 'ocurrences')]"
      ]
     },
     "execution_count": 58,
     "metadata": {},
     "output_type": "execute_result"
    },
    {
     "data": {
      "image/png": "[encoded data removed]",
      "text/plain": [
       "<Figure size 432x288 with 1 Axes>"
      ]
     },
     "metadata": {
      "needs_background": "light"
     },
     "output_type": "display_data"
    }
   ],
   "source": [
    "sns.barplot(y='municipio',x='naturaleza',data = voilencia_ocurrences_outside_buc, orient = 'h').set(xlabel='ocurrences')"
   ]
  },
  {
   "cell_type": "code",
   "execution_count": 59,
   "id": "f1a6eb5d",
   "metadata": {},
   "outputs": [],
   "source": [
    "violencia_comuna= violencia.groupby('comuna').count().reset_index().sort_values('naturaleza',ascending=False)"
   ]
  },
  {
   "cell_type": "markdown",
   "id": "38b978ae",
   "metadata": {},
   "source": [
    "Then we plotted the number of ocurrences per borough"
   ]
  },
  {
   "cell_type": "code",
   "execution_count": 60,
   "id": "20ebfd5a",
   "metadata": {
    "scrolled": false
   },
   "outputs": [
    {
     "data": {
      "text/plain": [
       "<Figure size 7200x1440 with 0 Axes>"
      ]
     },
     "execution_count": 60,
     "metadata": {},
     "output_type": "execute_result"
    },
    {
     "data": {
      "image/png": "[encoded data removed]",
      "text/plain": [
       "<Figure size 432x288 with 1 Axes>"
      ]
     },
     "metadata": {
      "needs_background": "light"
     },
     "output_type": "display_data"
    },
    {
     "data": {
      "text/plain": [
       "<Figure size 7200x1440 with 0 Axes>"
      ]
     },
     "metadata": {},
     "output_type": "display_data"
    }
   ],
   "source": [
    "violencia_ocurrences_bucaramanga = violencia[violencia['municipio'] == 'bucaramanga']\n",
    "#violencia_ocurrences_bucaramanga =violencia.groupby('orden').count().reset_index().sort_values('naturaleza',ascending=False).head(10)\n",
    "\n",
    "\n",
    "ax= sns.boxplot(y='comuna',x='orden',data = violencia_ocurrences_bucaramanga,orient='h',palette='husl').set(xlabel='domestic and gender violence ocurrences',title='Gender and domestic violence ocurrences per borough\\n');\n",
    "plt.figure(figsize=(100,20))\n"
   ]
  },
  {
   "cell_type": "code",
   "execution_count": 61,
   "id": "74de6565",
   "metadata": {
    "scrolled": true
   },
   "outputs": [],
   "source": [
    "violencia_nat= violencia.groupby('def_naturaleza').count().reset_index().sort_values('orden',ascending=False)"
   ]
  },
  {
   "cell_type": "markdown",
   "id": "42387a16",
   "metadata": {},
   "source": [
    "Then we plotted the number of kinds of violence"
   ]
  },
  {
   "cell_type": "code",
   "execution_count": 62,
   "id": "1b8eece1",
   "metadata": {},
   "outputs": [
    {
     "data": {
      "text/plain": [
       "[Text(0.5, 0, 'ocurrences')]"
      ]
     },
     "execution_count": 62,
     "metadata": {},
     "output_type": "execute_result"
    },
    {
     "data": {
      "image/png": "[encoded data removed]",
      "text/plain": [
       "<Figure size 432x288 with 1 Axes>"
      ]
     },
     "metadata": {
      "needs_background": "light"
     },
     "output_type": "display_data"
    }
   ],
   "source": [
    "sns.barplot(x='def_naturaleza',y='orden',data = violencia_nat).set(xlabel='ocurrences')"
   ]
  },
  {
   "cell_type": "markdown",
   "id": "ffca40c0",
   "metadata": {},
   "source": [
    "Finally, we plotted the ocurrences by year"
   ]
  },
  {
   "cell_type": "code",
   "execution_count": 63,
   "id": "1482c315",
   "metadata": {},
   "outputs": [],
   "source": [
    "violencia_año= violencia.groupby('año').count().reset_index().sort_values('orden',ascending=False)"
   ]
  },
  {
   "cell_type": "code",
   "execution_count": 64,
   "id": "14e1c60d",
   "metadata": {
    "scrolled": false
   },
   "outputs": [
    {
     "data": {
      "text/plain": [
       "<AxesSubplot:xlabel='año', ylabel='naturaleza'>"
      ]
     },
     "execution_count": 64,
     "metadata": {},
     "output_type": "execute_result"
    },
    {
     "data": {
      "image/png": "[encoded data removed]",
      "text/plain": [
       "<Figure size 432x288 with 1 Axes>"
      ]
     },
     "metadata": {
      "needs_background": "light"
     },
     "output_type": "display_data"
    }
   ],
   "source": [
    "sns.lineplot(x='año',y= 'naturaleza',data = violencia_año)"
   ]
  },
  {
   "cell_type": "markdown",
   "id": "f2c9d369",
   "metadata": {
    "id": "962603d5"
   },
   "source": [
    "<h1 align=left style=\"font-size:1.5vw\"><span style=\"color:#2EA18C\">2. Dataset: Censo de Habitantes de Calle </span></h1> "
   ]
  },
  {
   "cell_type": "markdown",
   "id": "b8d2bd39",
   "metadata": {},
   "source": [
    "<h3 align=left style=\"font-size:1.5vw\"><span style=\"color:#2E7DA1\">A) Importing the dataset:</span></h3>"
   ]
  },
  {
   "cell_type": "code",
   "execution_count": 80,
   "id": "9bY9YOlNN3Kr",
   "metadata": {
    "id": "9bY9YOlNN3Kr"
   },
   "outputs": [
    {
     "data": {
      "text/html": [
       "<div>\n",
       "<style scoped>\n",
       "    .dataframe tbody tr th:only-of-type {\n",
       "        vertical-align: middle;\n",
       "    }\n",
       "\n",
       "    .dataframe tbody tr th {\n",
       "        vertical-align: top;\n",
       "    }\n",
       "\n",
       "    .dataframe thead th {\n",
       "        text-align: right;\n",
       "    }\n",
       "</style>\n",
       "<table border=\"1\" class=\"dataframe\">\n",
       "  <thead>\n",
       "    <tr style=\"text-align: right;\">\n",
       "      <th></th>\n",
       "      <th>DIRECTORIO</th>\n",
       "      <th>Formulario aplicado en:</th>\n",
       "      <th>1. Departamento</th>\n",
       "      <th>1.1 Municipio o Área no municipalizada</th>\n",
       "      <th>2. Clase</th>\n",
       "      <th>Localidad/Comuna</th>\n",
       "      <th>5. Lugar de la entrevista</th>\n",
       "      <th>Tipo de diligenciamiento del cuestionario</th>\n",
       "      <th>8. ¿Cuántos años cumplidos tiene usted?</th>\n",
       "      <th>9. ¿Usted es hombre, mujer o intersexual?</th>\n",
       "      <th>...</th>\n",
       "      <th>36. Edad estimada</th>\n",
       "      <th>37. La entrevista no se realizó porque la persona estaba:</th>\n",
       "      <th>1. muy alterada por el efecto de sustancias psicoactivas</th>\n",
       "      <th>1. dormida</th>\n",
       "      <th>1. con actitud agresiva</th>\n",
       "      <th>1. aparentemente con problemas de salud mental</th>\n",
       "      <th>1. totalmente desinteresada</th>\n",
       "      <th>1. hay condiciones de riesgo para los encuestadores</th>\n",
       "      <th>1. otra</th>\n",
       "      <th>Identificador de finalización de la encuesta</th>\n",
       "    </tr>\n",
       "  </thead>\n",
       "  <tbody>\n",
       "    <tr>\n",
       "      <th>1</th>\n",
       "      <td>112159</td>\n",
       "      <td>1</td>\n",
       "      <td>68</td>\n",
       "      <td>68001</td>\n",
       "      <td>1</td>\n",
       "      <td>03</td>\n",
       "      <td>2</td>\n",
       "      <td>1</td>\n",
       "      <td>31</td>\n",
       "      <td>1</td>\n",
       "      <td>...</td>\n",
       "      <td>NaN</td>\n",
       "      <td>NaN</td>\n",
       "      <td>NaN</td>\n",
       "      <td>NaN</td>\n",
       "      <td>NaN</td>\n",
       "      <td>NaN</td>\n",
       "      <td>NaN</td>\n",
       "      <td>NaN</td>\n",
       "      <td>NaN</td>\n",
       "      <td>1</td>\n",
       "    </tr>\n",
       "    <tr>\n",
       "      <th>2</th>\n",
       "      <td>112165</td>\n",
       "      <td>1</td>\n",
       "      <td>68</td>\n",
       "      <td>68001</td>\n",
       "      <td>1</td>\n",
       "      <td>03</td>\n",
       "      <td>2</td>\n",
       "      <td>1</td>\n",
       "      <td>38</td>\n",
       "      <td>2</td>\n",
       "      <td>...</td>\n",
       "      <td>NaN</td>\n",
       "      <td>NaN</td>\n",
       "      <td>NaN</td>\n",
       "      <td>NaN</td>\n",
       "      <td>NaN</td>\n",
       "      <td>NaN</td>\n",
       "      <td>NaN</td>\n",
       "      <td>NaN</td>\n",
       "      <td>NaN</td>\n",
       "      <td>1</td>\n",
       "    </tr>\n",
       "  </tbody>\n",
       "</table>\n",
       "<p>2 rows × 130 columns</p>\n",
       "</div>"
      ],
      "text/plain": [
       "  DIRECTORIO Formulario aplicado en: 1. Departamento  \\\n",
       "1     112159                       1              68   \n",
       "2     112165                       1              68   \n",
       "\n",
       "  1.1 Municipio o Área no municipalizada 2. Clase Localidad/Comuna  \\\n",
       "1                                  68001        1               03   \n",
       "2                                  68001        1               03   \n",
       "\n",
       "  5. Lugar de la entrevista Tipo de diligenciamiento del cuestionario  \\\n",
       "1                         2                                         1   \n",
       "2                         2                                         1   \n",
       "\n",
       "  8. ¿Cuántos años cumplidos tiene usted?  \\\n",
       "1                                      31   \n",
       "2                                      38   \n",
       "\n",
       "  9. ¿Usted es hombre, mujer o intersexual?  ... 36. Edad estimada  \\\n",
       "1                                         1  ...               NaN   \n",
       "2                                         2  ...               NaN   \n",
       "\n",
       "  37. La entrevista no se realizó porque la persona estaba:  \\\n",
       "1                                                NaN          \n",
       "2                                                NaN          \n",
       "\n",
       "  1. muy alterada por el efecto de sustancias psicoactivas 1. dormida  \\\n",
       "1                                                NaN              NaN   \n",
       "2                                                NaN              NaN   \n",
       "\n",
       "  1. con actitud agresiva 1. aparentemente con problemas de salud mental  \\\n",
       "1                     NaN                                            NaN   \n",
       "2                     NaN                                            NaN   \n",
       "\n",
       "  1. totalmente desinteresada  \\\n",
       "1                         NaN   \n",
       "2                         NaN   \n",
       "\n",
       "  1. hay condiciones de riesgo para los encuestadores 1. otra  \\\n",
       "1                                                NaN      NaN   \n",
       "2                                                NaN      NaN   \n",
       "\n",
       "  Identificador de finalización de la encuesta  \n",
       "1                                            1  \n",
       "2                                            1  \n",
       "\n",
       "[2 rows x 130 columns]"
      ]
     },
     "execution_count": 80,
     "metadata": {},
     "output_type": "execute_result"
    }
   ],
   "source": [
    "#dataset Censo de habitantes de calle\n",
    "chc    = pd.read_excel(\"https://github.com/Joaron4/team211_datasets/blob/main/Base_Datos_Anonimizada_CHC_Bucaramanga%20(3)v1.xlsx?raw=true\").drop(0)\n",
    "chc.head(2)"
   ]
  },
  {
   "cell_type": "markdown",
   "id": "357f6c49",
   "metadata": {},
   "source": [
    "## - Dataset columns"
   ]
  },
  {
   "cell_type": "code",
   "execution_count": 68,
   "id": "T3zebtluOhFg",
   "metadata": {
    "colab": {
     "base_uri": "https://localhost:8080/",
     "height": 167
    },
    "id": "T3zebtluOhFg",
    "outputId": "bfe02f3d-360d-4b4f-ead5-f06a2f1b5f74"
   },
   "outputs": [
    {
     "name": "stdout",
     "output_type": "stream",
     "text": [
      "The column values of the dataset 'Censo de habitantes de calle (chc)' is: \n",
      "\n",
      " DIRECTORIO                                             object\n",
      "Formulario aplicado en:                                object\n",
      "1. Departamento                                        object\n",
      "1.1 Municipio o Área no municipalizada                 object\n",
      "2. Clase                                               object\n",
      "                                                        ...  \n",
      "1. aparentemente con problemas de salud mental         object\n",
      "1. totalmente desinteresada                            object\n",
      "1. hay condiciones de riesgo para los encuestadores    object\n",
      "1. otra                                                object\n",
      "Identificador de finalización de la encuesta           object\n",
      "Length: 130, dtype: object\n"
     ]
    }
   ],
   "source": [
    "#columns of chc\n",
    "columns_chc    = chc.dtypes\n",
    "print(\"The column values of the dataset 'Censo de habitantes de calle (chc)' is: \\n\\n\", columns_chc)"
   ]
  },
  {
   "cell_type": "markdown",
   "id": "00f424c1",
   "metadata": {},
   "source": [
    "<h3 align=left style=\"font-size:1.5vw\"><span style=\"color:#2E7DA1\">B) Missing values:</span></h3>"
   ]
  },
  {
   "cell_type": "code",
   "execution_count": 69,
   "id": "4eLTIvV7QCtp",
   "metadata": {
    "id": "4eLTIvV7QCtp"
   },
   "outputs": [
    {
     "data": {
      "text/plain": [
       "8. ¿Cuántos años cumplidos tiene usted?                  348\n",
       "9. ¿Usted es hombre, mujer o intersexual?                348\n",
       "10. ¿Qué tipo de documento de identidad tiene usted?     351\n",
       "11. ¿Dónde nació usted?                                  351\n",
       "12. ¿En qué municipio duerme usted habitualmente?        351\n",
       "                                                        ... \n",
       "1. con actitud agresiva                                 1431\n",
       "1. aparentemente con problemas de salud mental          1334\n",
       "1. totalmente desinteresada                             1343\n",
       "1. hay condiciones de riesgo para los encuestadores     1443\n",
       "1. otra                                                 1429\n",
       "Length: 121, dtype: int64"
      ]
     },
     "execution_count": 69,
     "metadata": {},
     "output_type": "execute_result"
    }
   ],
   "source": [
    "#the columns with missing values\n",
    "chc.isna().sum()[chc.isna().sum() > 0]"
   ]
  },
  {
   "cell_type": "markdown",
   "id": "9VHLT_GSPoyg",
   "metadata": {
    "id": "9VHLT_GSPoyg"
   },
   "source": [
    "The chc dataset has a lot of rows (about 130), and some of missing values. The missing value have to be handled carfully, however, because some correspond to data that was supposed to be boolean, but not all of the missing values correspond to zero.\n",
    "\n",
    "The data types are all of the object type, which does not mach the real data type.\n",
    "\n",
    "We need to highlight that a lot of the numerical values in the colums correspond to qualitative data of both ordinal and nominal type. This categorical data, as well, represents more complex answers. For example, for one question, the anser 1 can represent \"cédula de ciudadanía\" and the answer 2 can mean \"registr civil de nacimiento\".\n",
    "\n",
    "Some numerical values are discrete (age of the interviewed, years they have been living on the streets, age of onset of substances consumption, etc).\n"
   ]
  },
  {
   "cell_type": "markdown",
   "id": "1b7231b1",
   "metadata": {},
   "source": [
    "<h3 align=left style=\"font-size:1.5vw\"><span style=\"color:#2E7DA1\">C) Giving consistency to our dataset and data cleaning:</span></h3>"
   ]
  },
  {
   "cell_type": "code",
   "execution_count": 70,
   "id": "ornw4rUuO_dh",
   "metadata": {
    "id": "ornw4rUuO_dh"
   },
   "outputs": [],
   "source": [
    "#changing data types of chc to numerical\n",
    "\n",
    "chc_cols = list(chc.columns)\n",
    "\n",
    "for colname in chc_cols:\n",
    "    chc[str(colname)] = pd.to_numeric(chc[str(colname)])\n",
    "\n",
    "#Renaming the columns of chc datset\n",
    "\n",
    "chc_cols = list(chc.columns)\n",
    "chc_ = [i.strip() for i in chc_cols]\n",
    "chc.columns = chc_"
   ]
  },
  {
   "cell_type": "markdown",
   "id": "c4822296",
   "metadata": {},
   "source": [
    "<h3 align=left style=\"font-size:1.5vw\"><span style=\"color:#2E7DA1\">D) EDA:</span></h3>"
   ]
  },
  {
   "cell_type": "markdown",
   "id": "b5dedfc8",
   "metadata": {},
   "source": [
    "## - Describing our dataset:"
   ]
  },
  {
   "cell_type": "code",
   "execution_count": 71,
   "id": "SIGIuWXJQ28s",
   "metadata": {
    "id": "SIGIuWXJQ28s"
   },
   "outputs": [
    {
     "data": {
      "text/html": [
       "<div>\n",
       "<style scoped>\n",
       "    .dataframe tbody tr th:only-of-type {\n",
       "        vertical-align: middle;\n",
       "    }\n",
       "\n",
       "    .dataframe tbody tr th {\n",
       "        vertical-align: top;\n",
       "    }\n",
       "\n",
       "    .dataframe thead th {\n",
       "        text-align: right;\n",
       "    }\n",
       "</style>\n",
       "<table border=\"1\" class=\"dataframe\">\n",
       "  <thead>\n",
       "    <tr style=\"text-align: right;\">\n",
       "      <th></th>\n",
       "      <th>8. ¿Cuántos años cumplidos tiene usted?</th>\n",
       "      <th>Años</th>\n",
       "      <th>Edad inicio del consumo    \\n 1. cigarrillo</th>\n",
       "      <th>Edad inicio del consumo    \\n 3. marihuana</th>\n",
       "      <th>Edad inicio del consumo           \\n 5. cocaína</th>\n",
       "    </tr>\n",
       "  </thead>\n",
       "  <tbody>\n",
       "    <tr>\n",
       "      <th>count</th>\n",
       "      <td>1100.000000</td>\n",
       "      <td>1087.000000</td>\n",
       "      <td>718.000000</td>\n",
       "      <td>559.000000</td>\n",
       "      <td>191.000000</td>\n",
       "    </tr>\n",
       "    <tr>\n",
       "      <th>mean</th>\n",
       "      <td>39.863636</td>\n",
       "      <td>13.068997</td>\n",
       "      <td>13.878830</td>\n",
       "      <td>14.763864</td>\n",
       "      <td>15.460733</td>\n",
       "    </tr>\n",
       "    <tr>\n",
       "      <th>std</th>\n",
       "      <td>13.383799</td>\n",
       "      <td>11.290319</td>\n",
       "      <td>4.719534</td>\n",
       "      <td>5.669327</td>\n",
       "      <td>5.108020</td>\n",
       "    </tr>\n",
       "    <tr>\n",
       "      <th>min</th>\n",
       "      <td>15.000000</td>\n",
       "      <td>0.000000</td>\n",
       "      <td>5.000000</td>\n",
       "      <td>5.000000</td>\n",
       "      <td>5.000000</td>\n",
       "    </tr>\n",
       "    <tr>\n",
       "      <th>25%</th>\n",
       "      <td>29.000000</td>\n",
       "      <td>4.000000</td>\n",
       "      <td>11.000000</td>\n",
       "      <td>12.000000</td>\n",
       "      <td>12.000000</td>\n",
       "    </tr>\n",
       "    <tr>\n",
       "      <th>50%</th>\n",
       "      <td>38.000000</td>\n",
       "      <td>10.000000</td>\n",
       "      <td>13.000000</td>\n",
       "      <td>14.000000</td>\n",
       "      <td>15.000000</td>\n",
       "    </tr>\n",
       "    <tr>\n",
       "      <th>75%</th>\n",
       "      <td>50.000000</td>\n",
       "      <td>20.000000</td>\n",
       "      <td>15.000000</td>\n",
       "      <td>17.000000</td>\n",
       "      <td>18.000000</td>\n",
       "    </tr>\n",
       "    <tr>\n",
       "      <th>max</th>\n",
       "      <td>75.000000</td>\n",
       "      <td>58.000000</td>\n",
       "      <td>50.000000</td>\n",
       "      <td>50.000000</td>\n",
       "      <td>44.000000</td>\n",
       "    </tr>\n",
       "  </tbody>\n",
       "</table>\n",
       "</div>"
      ],
      "text/plain": [
       "       8. ¿Cuántos años cumplidos tiene usted?         Años  \\\n",
       "count                              1100.000000  1087.000000   \n",
       "mean                                 39.863636    13.068997   \n",
       "std                                  13.383799    11.290319   \n",
       "min                                  15.000000     0.000000   \n",
       "25%                                  29.000000     4.000000   \n",
       "50%                                  38.000000    10.000000   \n",
       "75%                                  50.000000    20.000000   \n",
       "max                                  75.000000    58.000000   \n",
       "\n",
       "       Edad inicio del consumo    \\n 1. cigarrillo  \\\n",
       "count                                   718.000000   \n",
       "mean                                     13.878830   \n",
       "std                                       4.719534   \n",
       "min                                       5.000000   \n",
       "25%                                      11.000000   \n",
       "50%                                      13.000000   \n",
       "75%                                      15.000000   \n",
       "max                                      50.000000   \n",
       "\n",
       "       Edad inicio del consumo    \\n 3. marihuana  \\\n",
       "count                                  559.000000   \n",
       "mean                                    14.763864   \n",
       "std                                      5.669327   \n",
       "min                                      5.000000   \n",
       "25%                                     12.000000   \n",
       "50%                                     14.000000   \n",
       "75%                                     17.000000   \n",
       "max                                     50.000000   \n",
       "\n",
       "       Edad inicio del consumo           \\n 5. cocaína  \n",
       "count                                       191.000000  \n",
       "mean                                         15.460733  \n",
       "std                                           5.108020  \n",
       "min                                           5.000000  \n",
       "25%                                          12.000000  \n",
       "50%                                          15.000000  \n",
       "75%                                          18.000000  \n",
       "max                                          44.000000  "
      ]
     },
     "execution_count": 71,
     "metadata": {},
     "output_type": "execute_result"
    }
   ],
   "source": [
    "#some of the oclumns that we can analyze numerically in the chc dataset are the following\n",
    "\n",
    "chc[[\"8. ¿Cuántos años cumplidos tiene usted?\",\n",
    "    \"Años\",\n",
    "    \"Edad inicio del consumo    \\n 1. cigarrillo\",\n",
    "    \"Edad inicio del consumo    \\n 3. marihuana\",\n",
    "    \"Edad inicio del consumo           \\n 5. cocaína\"]].describe()"
   ]
  },
  {
   "cell_type": "markdown",
   "id": "wBFJDFYKRBVe",
   "metadata": {
    "id": "wBFJDFYKRBVe"
   },
   "source": [
    "The age distributin of the people interviewed is right skewed, with a mean of 39.8 years. The average years the interviewed peole had spent on the streets is 13, this distribution is also left skewed. We can also see that the onset of consumption fo the substances showed is concerningly early.\n",
    "\n",
    "The data in the chc dataset is better described using plots like the following:\n",
    "\n",
    "First, lets do some examples with the categorical data."
   ]
  },
  {
   "cell_type": "markdown",
   "id": "31b5932d",
   "metadata": {},
   "source": [
    "## - Ploting the data"
   ]
  },
  {
   "cell_type": "code",
   "execution_count": 72,
   "id": "xuxDzDkfQ-MN",
   "metadata": {
    "id": "xuxDzDkfQ-MN"
   },
   "outputs": [
    {
     "data": {
      "image/png": "[encoded data removed]",
      "text/plain": [
       "<Figure size 504x360 with 1 Axes>"
      ]
     },
     "metadata": {
      "needs_background": "light"
     },
     "output_type": "display_data"
    }
   ],
   "source": [
    "#bar plots for some of the variables that provide information about the physica state of the person interviewed\n",
    "\n",
    "plt.figure(figsize=(7,5))\n",
    "\n",
    "q16a = chc[\"16. Dada su condición física y mental, y sin ningún tipo de ayuda, ¿usted puede: \\n 1. oír la voz o los sonidos?\"].value_counts().sort_index()\n",
    "q16b = chc[\"16. Dada su condición física y mental, y sin ningún tipo de ayuda, ¿usted puede: \\n 3. ver de cerca, de lejos o alrededor?\"].value_counts().sort_index()\n",
    "q16c = chc[\"16. Dada su condición física y mental, y sin ningún tipo de ayuda, ¿usted puede: \\n 4. mover el cuerpo, caminar?\"].value_counts().sort_index()\n",
    "\n",
    "plt.title(\"Indicadores de la condición física de los entrevistados\")\n",
    "plt.bar(q16a.index - 0.2, q16a,  width=0.2, label = '¿Puede usted oír la voz o los sonidos?')\n",
    "plt.bar(q16b.index, q16b,  width=0.2, label = '¿Puede usted ver de cerca, de lejos o alrededor?')\n",
    "plt.bar(q16c.index + 0.2, q16c,  width=0.2, label = '¿Puede usted mover el cuerpo, caminar?')\n",
    "\n",
    "plt.xticks([1,2,3,4], \n",
    "           [\"No puede hacerlo\", \"Sí, con mucha dificultad\", \"Sí, con alguna dificultad\", \"Sin dificultad\"],\n",
    "          rotation=45, ha=\"right\");\n",
    "\n",
    "plt.legend()\n",
    "plt.show()"
   ]
  },
  {
   "cell_type": "code",
   "execution_count": 73,
   "id": "fjy8n8-bRuAI",
   "metadata": {
    "id": "fjy8n8-bRuAI"
   },
   "outputs": [
    {
     "data": {
      "image/png": "[encoded data removed]",
      "text/plain": [
       "<Figure size 504x360 with 1 Axes>"
      ]
     },
     "metadata": {
      "needs_background": "light"
     },
     "output_type": "display_data"
    }
   ],
   "source": [
    "plt.figure(figsize=(7,5))\n",
    "\n",
    "q26a = chc[\"1. De algún familiar?\"].value_counts().sort_index()\n",
    "q26b = chc[\"2. De amigos?\"].value_counts().sort_index()\n",
    "q26c = chc[\"3. De instituciones oficiales?\"].value_counts().sort_index()\n",
    "\n",
    "plt.title(\"¿Usted recibe algún tipo de ayuda?\")\n",
    "plt.bar(q26a.index - 0.2, q26a,  width=0.2, label = 'De un familiar')\n",
    "plt.bar(q26b.index, q26b,  width=0.2, label = 'De un amigo')\n",
    "plt.bar(q26c.index + 0.2, q26c,  width=0.2, label = 'De instituciones oficiales')\n",
    "\n",
    "plt.xticks([1,2],[\"Sí\",\"No\"])\n",
    "\n",
    "plt.legend();"
   ]
  },
  {
   "cell_type": "markdown",
   "id": "RLb-DSt2RyU-",
   "metadata": {
    "id": "RLb-DSt2RyU-"
   },
   "source": [
    "Some of the numerical variables."
   ]
  },
  {
   "cell_type": "code",
   "execution_count": 74,
   "id": "uZcY2-Z8R6Xx",
   "metadata": {
    "id": "uZcY2-Z8R6Xx"
   },
   "outputs": [
    {
     "data": {
      "image/png": "[encoded data removed]",
      "text/plain": [
       "<Figure size 504x360 with 1 Axes>"
      ]
     },
     "metadata": {
      "needs_background": "light"
     },
     "output_type": "display_data"
    }
   ],
   "source": [
    "plt.figure(figsize=(7,5))\n",
    "\n",
    "plt.hist([chc[\"Edad inicio del consumo    \\n 1. cigarrillo\"],\n",
    "         chc[\"Edad inicio del consumo    \\n 3. marihuana\"],\n",
    "         chc[\"Edad inicio del consumo           \\n 5. cocaína\"]], \n",
    "           label = [\"Cigarrillo\",\"Marihuana\",\"Cocaína\"])\n",
    "plt.title(\"Histograma para la edad inicial del consumo de sustancias\")\n",
    "plt.xlabel(\"Edad (años)\")\n",
    "plt.legend();"
   ]
  },
  {
   "cell_type": "markdown",
   "id": "a691a37a",
   "metadata": {},
   "source": [
    "<h1 align=left style=\"font-size:1.5vw\"><span style=\"color:#2EA18C\">3. Información de medidas correctivas enero 2017 a febrero 2022 </span></h1>  "
   ]
  },
  {
   "cell_type": "markdown",
   "id": "7c470b71",
   "metadata": {},
   "source": [
    "<h3 align=left style=\"font-size:1.5vw\"><span style=\"color:#2E7DA1\">A) Importing the dataset:</span></h3>"
   ]
  },
  {
   "cell_type": "code",
   "execution_count": 76,
   "id": "bIdclVf0OeGG",
   "metadata": {
    "id": "bIdclVf0OeGG",
    "scrolled": true
   },
   "outputs": [
    {
     "ename": "FileNotFoundError",
     "evalue": "[Errno 2] No such file or directory: './93._Informaci_n_de_medidas_correctivas_enero_2017_a_febrero_2022.csv'",
     "output_type": "error",
     "traceback": [
      "\u001b[1;31m---------------------------------------------------------------------------\u001b[0m",
      "\u001b[1;31mFileNotFoundError\u001b[0m                         Traceback (most recent call last)",
      "\u001b[1;32m<ipython-input-76-cef2681d83b5>\u001b[0m in \u001b[0;36m<module>\u001b[1;34m\u001b[0m\n\u001b[0;32m      1\u001b[0m \u001b[1;31m#datset Información de medidas correctivas enero 2017 a febrero 2022\u001b[0m\u001b[1;33m\u001b[0m\u001b[1;33m\u001b[0m\u001b[1;33m\u001b[0m\u001b[0m\n\u001b[1;32m----> 2\u001b[1;33m \u001b[0mcorrec\u001b[0m \u001b[1;33m=\u001b[0m \u001b[0mpd\u001b[0m\u001b[1;33m.\u001b[0m\u001b[0mread_csv\u001b[0m\u001b[1;33m(\u001b[0m\u001b[1;34m\"./93._Informaci_n_de_medidas_correctivas_enero_2017_a_febrero_2022.csv\"\u001b[0m\u001b[1;33m)\u001b[0m\u001b[1;33m\u001b[0m\u001b[1;33m\u001b[0m\u001b[0m\n\u001b[0m\u001b[0;32m      3\u001b[0m \u001b[0mcorrec\u001b[0m\u001b[1;33m.\u001b[0m\u001b[0mhead\u001b[0m\u001b[1;33m(\u001b[0m\u001b[1;36m2\u001b[0m\u001b[1;33m)\u001b[0m\u001b[1;33m\u001b[0m\u001b[1;33m\u001b[0m\u001b[0m\n",
      "\u001b[1;32m~\\anaconda3\\lib\\site-packages\\pandas\\io\\parsers.py\u001b[0m in \u001b[0;36mread_csv\u001b[1;34m(filepath_or_buffer, sep, delimiter, header, names, index_col, usecols, squeeze, prefix, mangle_dupe_cols, dtype, engine, converters, true_values, false_values, skipinitialspace, skiprows, skipfooter, nrows, na_values, keep_default_na, na_filter, verbose, skip_blank_lines, parse_dates, infer_datetime_format, keep_date_col, date_parser, dayfirst, cache_dates, iterator, chunksize, compression, thousands, decimal, lineterminator, quotechar, quoting, doublequote, escapechar, comment, encoding, dialect, error_bad_lines, warn_bad_lines, delim_whitespace, low_memory, memory_map, float_precision, storage_options)\u001b[0m\n\u001b[0;32m    608\u001b[0m     \u001b[0mkwds\u001b[0m\u001b[1;33m.\u001b[0m\u001b[0mupdate\u001b[0m\u001b[1;33m(\u001b[0m\u001b[0mkwds_defaults\u001b[0m\u001b[1;33m)\u001b[0m\u001b[1;33m\u001b[0m\u001b[1;33m\u001b[0m\u001b[0m\n\u001b[0;32m    609\u001b[0m \u001b[1;33m\u001b[0m\u001b[0m\n\u001b[1;32m--> 610\u001b[1;33m     \u001b[1;32mreturn\u001b[0m \u001b[0m_read\u001b[0m\u001b[1;33m(\u001b[0m\u001b[0mfilepath_or_buffer\u001b[0m\u001b[1;33m,\u001b[0m \u001b[0mkwds\u001b[0m\u001b[1;33m)\u001b[0m\u001b[1;33m\u001b[0m\u001b[1;33m\u001b[0m\u001b[0m\n\u001b[0m\u001b[0;32m    611\u001b[0m \u001b[1;33m\u001b[0m\u001b[0m\n\u001b[0;32m    612\u001b[0m \u001b[1;33m\u001b[0m\u001b[0m\n",
      "\u001b[1;32m~\\anaconda3\\lib\\site-packages\\pandas\\io\\parsers.py\u001b[0m in \u001b[0;36m_read\u001b[1;34m(filepath_or_buffer, kwds)\u001b[0m\n\u001b[0;32m    460\u001b[0m \u001b[1;33m\u001b[0m\u001b[0m\n\u001b[0;32m    461\u001b[0m     \u001b[1;31m# Create the parser.\u001b[0m\u001b[1;33m\u001b[0m\u001b[1;33m\u001b[0m\u001b[1;33m\u001b[0m\u001b[0m\n\u001b[1;32m--> 462\u001b[1;33m     \u001b[0mparser\u001b[0m \u001b[1;33m=\u001b[0m \u001b[0mTextFileReader\u001b[0m\u001b[1;33m(\u001b[0m\u001b[0mfilepath_or_buffer\u001b[0m\u001b[1;33m,\u001b[0m \u001b[1;33m**\u001b[0m\u001b[0mkwds\u001b[0m\u001b[1;33m)\u001b[0m\u001b[1;33m\u001b[0m\u001b[1;33m\u001b[0m\u001b[0m\n\u001b[0m\u001b[0;32m    463\u001b[0m \u001b[1;33m\u001b[0m\u001b[0m\n\u001b[0;32m    464\u001b[0m     \u001b[1;32mif\u001b[0m \u001b[0mchunksize\u001b[0m \u001b[1;32mor\u001b[0m \u001b[0miterator\u001b[0m\u001b[1;33m:\u001b[0m\u001b[1;33m\u001b[0m\u001b[1;33m\u001b[0m\u001b[0m\n",
      "\u001b[1;32m~\\anaconda3\\lib\\site-packages\\pandas\\io\\parsers.py\u001b[0m in \u001b[0;36m__init__\u001b[1;34m(self, f, engine, **kwds)\u001b[0m\n\u001b[0;32m    817\u001b[0m             \u001b[0mself\u001b[0m\u001b[1;33m.\u001b[0m\u001b[0moptions\u001b[0m\u001b[1;33m[\u001b[0m\u001b[1;34m\"has_index_names\"\u001b[0m\u001b[1;33m]\u001b[0m \u001b[1;33m=\u001b[0m \u001b[0mkwds\u001b[0m\u001b[1;33m[\u001b[0m\u001b[1;34m\"has_index_names\"\u001b[0m\u001b[1;33m]\u001b[0m\u001b[1;33m\u001b[0m\u001b[1;33m\u001b[0m\u001b[0m\n\u001b[0;32m    818\u001b[0m \u001b[1;33m\u001b[0m\u001b[0m\n\u001b[1;32m--> 819\u001b[1;33m         \u001b[0mself\u001b[0m\u001b[1;33m.\u001b[0m\u001b[0m_engine\u001b[0m \u001b[1;33m=\u001b[0m \u001b[0mself\u001b[0m\u001b[1;33m.\u001b[0m\u001b[0m_make_engine\u001b[0m\u001b[1;33m(\u001b[0m\u001b[0mself\u001b[0m\u001b[1;33m.\u001b[0m\u001b[0mengine\u001b[0m\u001b[1;33m)\u001b[0m\u001b[1;33m\u001b[0m\u001b[1;33m\u001b[0m\u001b[0m\n\u001b[0m\u001b[0;32m    820\u001b[0m \u001b[1;33m\u001b[0m\u001b[0m\n\u001b[0;32m    821\u001b[0m     \u001b[1;32mdef\u001b[0m \u001b[0mclose\u001b[0m\u001b[1;33m(\u001b[0m\u001b[0mself\u001b[0m\u001b[1;33m)\u001b[0m\u001b[1;33m:\u001b[0m\u001b[1;33m\u001b[0m\u001b[1;33m\u001b[0m\u001b[0m\n",
      "\u001b[1;32m~\\anaconda3\\lib\\site-packages\\pandas\\io\\parsers.py\u001b[0m in \u001b[0;36m_make_engine\u001b[1;34m(self, engine)\u001b[0m\n\u001b[0;32m   1048\u001b[0m             )\n\u001b[0;32m   1049\u001b[0m         \u001b[1;31m# error: Too many arguments for \"ParserBase\"\u001b[0m\u001b[1;33m\u001b[0m\u001b[1;33m\u001b[0m\u001b[1;33m\u001b[0m\u001b[0m\n\u001b[1;32m-> 1050\u001b[1;33m         \u001b[1;32mreturn\u001b[0m \u001b[0mmapping\u001b[0m\u001b[1;33m[\u001b[0m\u001b[0mengine\u001b[0m\u001b[1;33m]\u001b[0m\u001b[1;33m(\u001b[0m\u001b[0mself\u001b[0m\u001b[1;33m.\u001b[0m\u001b[0mf\u001b[0m\u001b[1;33m,\u001b[0m \u001b[1;33m**\u001b[0m\u001b[0mself\u001b[0m\u001b[1;33m.\u001b[0m\u001b[0moptions\u001b[0m\u001b[1;33m)\u001b[0m  \u001b[1;31m# type: ignore[call-arg]\u001b[0m\u001b[1;33m\u001b[0m\u001b[1;33m\u001b[0m\u001b[0m\n\u001b[0m\u001b[0;32m   1051\u001b[0m \u001b[1;33m\u001b[0m\u001b[0m\n\u001b[0;32m   1052\u001b[0m     \u001b[1;32mdef\u001b[0m \u001b[0m_failover_to_python\u001b[0m\u001b[1;33m(\u001b[0m\u001b[0mself\u001b[0m\u001b[1;33m)\u001b[0m\u001b[1;33m:\u001b[0m\u001b[1;33m\u001b[0m\u001b[1;33m\u001b[0m\u001b[0m\n",
      "\u001b[1;32m~\\anaconda3\\lib\\site-packages\\pandas\\io\\parsers.py\u001b[0m in \u001b[0;36m__init__\u001b[1;34m(self, src, **kwds)\u001b[0m\n\u001b[0;32m   1865\u001b[0m \u001b[1;33m\u001b[0m\u001b[0m\n\u001b[0;32m   1866\u001b[0m         \u001b[1;31m# open handles\u001b[0m\u001b[1;33m\u001b[0m\u001b[1;33m\u001b[0m\u001b[1;33m\u001b[0m\u001b[0m\n\u001b[1;32m-> 1867\u001b[1;33m         \u001b[0mself\u001b[0m\u001b[1;33m.\u001b[0m\u001b[0m_open_handles\u001b[0m\u001b[1;33m(\u001b[0m\u001b[0msrc\u001b[0m\u001b[1;33m,\u001b[0m \u001b[0mkwds\u001b[0m\u001b[1;33m)\u001b[0m\u001b[1;33m\u001b[0m\u001b[1;33m\u001b[0m\u001b[0m\n\u001b[0m\u001b[0;32m   1868\u001b[0m         \u001b[1;32massert\u001b[0m \u001b[0mself\u001b[0m\u001b[1;33m.\u001b[0m\u001b[0mhandles\u001b[0m \u001b[1;32mis\u001b[0m \u001b[1;32mnot\u001b[0m \u001b[1;32mNone\u001b[0m\u001b[1;33m\u001b[0m\u001b[1;33m\u001b[0m\u001b[0m\n\u001b[0;32m   1869\u001b[0m         \u001b[1;32mfor\u001b[0m \u001b[0mkey\u001b[0m \u001b[1;32min\u001b[0m \u001b[1;33m(\u001b[0m\u001b[1;34m\"storage_options\"\u001b[0m\u001b[1;33m,\u001b[0m \u001b[1;34m\"encoding\"\u001b[0m\u001b[1;33m,\u001b[0m \u001b[1;34m\"memory_map\"\u001b[0m\u001b[1;33m,\u001b[0m \u001b[1;34m\"compression\"\u001b[0m\u001b[1;33m)\u001b[0m\u001b[1;33m:\u001b[0m\u001b[1;33m\u001b[0m\u001b[1;33m\u001b[0m\u001b[0m\n",
      "\u001b[1;32m~\\anaconda3\\lib\\site-packages\\pandas\\io\\parsers.py\u001b[0m in \u001b[0;36m_open_handles\u001b[1;34m(self, src, kwds)\u001b[0m\n\u001b[0;32m   1360\u001b[0m         \u001b[0mLet\u001b[0m \u001b[0mthe\u001b[0m \u001b[0mreaders\u001b[0m \u001b[0mopen\u001b[0m \u001b[0mIOHanldes\u001b[0m \u001b[0mafter\u001b[0m \u001b[0mthey\u001b[0m \u001b[0mare\u001b[0m \u001b[0mdone\u001b[0m \u001b[1;32mwith\u001b[0m \u001b[0mtheir\u001b[0m \u001b[0mpotential\u001b[0m \u001b[0mraises\u001b[0m\u001b[1;33m.\u001b[0m\u001b[1;33m\u001b[0m\u001b[1;33m\u001b[0m\u001b[0m\n\u001b[0;32m   1361\u001b[0m         \"\"\"\n\u001b[1;32m-> 1362\u001b[1;33m         self.handles = get_handle(\n\u001b[0m\u001b[0;32m   1363\u001b[0m             \u001b[0msrc\u001b[0m\u001b[1;33m,\u001b[0m\u001b[1;33m\u001b[0m\u001b[1;33m\u001b[0m\u001b[0m\n\u001b[0;32m   1364\u001b[0m             \u001b[1;34m\"r\"\u001b[0m\u001b[1;33m,\u001b[0m\u001b[1;33m\u001b[0m\u001b[1;33m\u001b[0m\u001b[0m\n",
      "\u001b[1;32m~\\anaconda3\\lib\\site-packages\\pandas\\io\\common.py\u001b[0m in \u001b[0;36mget_handle\u001b[1;34m(path_or_buf, mode, encoding, compression, memory_map, is_text, errors, storage_options)\u001b[0m\n\u001b[0;32m    645\u001b[0m                 \u001b[0merrors\u001b[0m \u001b[1;33m=\u001b[0m \u001b[1;34m\"replace\"\u001b[0m\u001b[1;33m\u001b[0m\u001b[1;33m\u001b[0m\u001b[0m\n\u001b[0;32m    646\u001b[0m             \u001b[1;31m# Encoding\u001b[0m\u001b[1;33m\u001b[0m\u001b[1;33m\u001b[0m\u001b[1;33m\u001b[0m\u001b[0m\n\u001b[1;32m--> 647\u001b[1;33m             handle = open(\n\u001b[0m\u001b[0;32m    648\u001b[0m                 \u001b[0mhandle\u001b[0m\u001b[1;33m,\u001b[0m\u001b[1;33m\u001b[0m\u001b[1;33m\u001b[0m\u001b[0m\n\u001b[0;32m    649\u001b[0m                 \u001b[0mioargs\u001b[0m\u001b[1;33m.\u001b[0m\u001b[0mmode\u001b[0m\u001b[1;33m,\u001b[0m\u001b[1;33m\u001b[0m\u001b[1;33m\u001b[0m\u001b[0m\n",
      "\u001b[1;31mFileNotFoundError\u001b[0m: [Errno 2] No such file or directory: './93._Informaci_n_de_medidas_correctivas_enero_2017_a_febrero_2022.csv'"
     ]
    }
   ],
   "source": [
    "#datset Información de medidas correctivas enero 2017 a febrero 2022\n",
    "correc = pd.read_csv(\"./93._Informaci_n_de_medidas_correctivas_enero_2017_a_febrero_2022.csv\")\n",
    "correc.head(2)"
   ]
  },
  {
   "cell_type": "markdown",
   "id": "899fb359",
   "metadata": {},
   "source": [
    "## - Columns"
   ]
  },
  {
   "cell_type": "code",
   "execution_count": null,
   "id": "7SSP1DyIO1PU",
   "metadata": {
    "colab": {
     "base_uri": "https://localhost:8080/",
     "height": 167
    },
    "id": "7SSP1DyIO1PU",
    "outputId": "945ee956-694f-4788-808d-a87fc190e777"
   },
   "outputs": [],
   "source": [
    "correc.info()"
   ]
  },
  {
   "cell_type": "markdown",
   "id": "e2d25987",
   "metadata": {},
   "source": [
    "<h3 align=left style=\"font-size:1.5vw\"><span style=\"color:#2E7DA1\">B) Missing values:</span></h3>"
   ]
  },
  {
   "cell_type": "code",
   "execution_count": null,
   "id": "VaifbQLIQIX-",
   "metadata": {
    "id": "VaifbQLIQIX-"
   },
   "outputs": [],
   "source": [
    "#the columns with missing values\n",
    "correc.isna().sum()[correc.isna().sum() > 0]"
   ]
  },
  {
   "cell_type": "markdown",
   "id": "vn_nxXPyP5LJ",
   "metadata": {
    "id": "vn_nxXPyP5LJ"
   },
   "source": [
    "This dataset has far less missing values than the previous one, and the data type seems to be correct. A lot of data is of the type string. Some columns are numerical but most are categoricl (represent a day of the week, for example).\n",
    "\n"
   ]
  },
  {
   "cell_type": "markdown",
   "id": "3af7d451",
   "metadata": {},
   "source": [
    "<h3 align=left style=\"font-size:1.5vw\"><span style=\"color:#2E7DA1\">C) Giving consistency to our dataset and data cleaning:</span></h3>"
   ]
  },
  {
   "cell_type": "code",
   "execution_count": null,
   "id": "wJ--UFHXP2jH",
   "metadata": {
    "id": "wJ--UFHXP2jH"
   },
   "outputs": [],
   "source": [
    "#making the respective columns into datetime type\n",
    "\n",
    "correc[\"FECHA_HECHOS\"]= pd.to_datetime(correc[\"FECHA_HECHOS\"],  format='%dd/%mm/%YYYY', errors='ignore')\n",
    "correc[\"HORA_HECHOS\"]= pd.to_datetime(correc[\"HORA_HECHOS\"])"
   ]
  },
  {
   "cell_type": "markdown",
   "id": "3c746fdc",
   "metadata": {},
   "source": [
    "<h3 align=left style=\"font-size:1.5vw\"><span style=\"color:#2E7DA1\">D) EDA:</span></h3>"
   ]
  },
  {
   "cell_type": "code",
   "execution_count": null,
   "id": "gM2VMRgbRNgW",
   "metadata": {
    "id": "gM2VMRgbRNgW"
   },
   "outputs": [],
   "source": [
    "#describng some of the numerical columns\n",
    "\n",
    "correc[[\"EDAD\",\"CURSO VIDA ORDEN\",\"RANGO_HORARIO_ORDEN\"]].describe()"
   ]
  },
  {
   "cell_type": "markdown",
   "id": "4PNawtvbRV32",
   "metadata": {
    "id": "4PNawtvbRV32"
   },
   "source": [
    "In the correc dataset we can see that the mean age of the people on this dataset is 28.3 years. We see, though, that thre must be some incorrect data, since the minimum age of one of the people in this dataset is 1 yer old. Thi dataset is \"Georreferenciación de las medidas correctivas impuestas en el municipio según los comportamientos contrarios a la convivencia estipulados en la Ley 1801 de 2016, según el capítulo, artículo, numeral, curso de vida, etc.\", a one year old data point is missplaced here. \n",
    "\n",
    "CURSO_VIDA_ORDEN o the category five represents the age group 25-29, the mos common one among the subjects on the dataset. This column is a little right skewed.\n",
    "\n",
    "Finally, the hour where most of the correctiv measurements are executed is 1pm.\n",
    "\n",
    "Now, showing the daily aomunt of correctional measures imposed:"
   ]
  },
  {
   "cell_type": "markdown",
   "id": "564bfaf1",
   "metadata": {},
   "source": [
    "## -Plotting the data"
   ]
  },
  {
   "cell_type": "code",
   "execution_count": null,
   "id": "OYxHLLMSSJM0",
   "metadata": {
    "id": "OYxHLLMSSJM0"
   },
   "outputs": [],
   "source": [
    "def plot_time( df, time_var, title, rot = 0):\n",
    "    \n",
    "    res = df.groupby([time_var])['ID'].count().reset_index(name=\"count\")\n",
    "    p = res.plot(x = time_var, y = \"count\", title = title, rot = rot)\n",
    "    return p"
   ]
  },
  {
   "cell_type": "code",
   "execution_count": null,
   "id": "xuOSQuT3SUdF",
   "metadata": {
    "id": "xuOSQuT3SUdF"
   },
   "outputs": [],
   "source": [
    "p_daily = plot_time( correc, \"FECHA_HECHOS\", \"Daily amount of crimes 2019\", rot = 45)\n",
    "_ = plt.ylabel(\"Daily total incidents\")"
   ]
  },
  {
   "cell_type": "code",
   "execution_count": null,
   "id": "b2787df0",
   "metadata": {},
   "outputs": [],
   "source": []
  },
  {
   "cell_type": "code",
   "execution_count": null,
   "id": "4a16d960",
   "metadata": {},
   "outputs": [],
   "source": []
  },
  {
   "cell_type": "code",
   "execution_count": null,
   "id": "c4519b40",
   "metadata": {},
   "outputs": [],
   "source": []
  },
  {
   "cell_type": "code",
   "execution_count": null,
   "id": "16a85630",
   "metadata": {},
   "outputs": [],
   "source": []
  },
  {
   "cell_type": "code",
   "execution_count": null,
   "id": "c98d8202",
   "metadata": {},
   "outputs": [],
   "source": []
  },
  {
   "cell_type": "code",
   "execution_count": null,
   "id": "435ebf8e",
   "metadata": {},
   "outputs": [],
   "source": []
  },
  {
   "cell_type": "code",
   "execution_count": null,
   "id": "4628b4f0",
   "metadata": {},
   "outputs": [],
   "source": []
  }
 ],
 "metadata": {
  "colab": {
   "name": "Untitled.ipynb",
   "provenance": []
  },
  "kernelspec": {
   "display_name": "Python 3",
   "language": "python",
   "name": "python3"
  },
  "language_info": {
   "codemirror_mode": {
    "name": "ipython",
    "version": 3
   },
   "file_extension": ".py",
   "mimetype": "text/x-python",
   "name": "python",
   "nbconvert_exporter": "python",
   "pygments_lexer": "ipython3",
   "version": "3.8.8"
  }
 },
 "nbformat": 4,
 "nbformat_minor": 5
}
