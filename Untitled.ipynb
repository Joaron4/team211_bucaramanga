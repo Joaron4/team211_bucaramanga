{
 "cells": [
  {
   "cell_type": "markdown",
   "id": "ed4a0391",
   "metadata": {},
   "source": [
    "<h1 align=center style=\"font-size:2vw\"><span style=\"color:#2EA18C\">Proyecto alcaldía de Bucaramanga - Team 211</span></h1>"
   ]
  },
  {
   "cell_type": "markdown",
   "id": "f08aa06f",
   "metadata": {},
   "source": [
    "<h2 align=left ><span style=\"color:#A12E43\">Integrantes:</span></h2> \n",
    "\n",
    "- Cesar Marín\n",
    "- Angie Nicole Hernández \n",
    "- Giovanny De La Cruz\n",
    "- Jairo David Chia Bejarano\n",
    "- Juan Sebastian Rojas Sabogal\n",
    "- Michael Leonardo Gómez Gómez\n",
    "- José Joaquín Rondón Rubiano"
   ]
  },
  {
   "cell_type": "code",
   "execution_count": 1,
   "id": "88fb1e44",
   "metadata": {},
   "outputs": [],
   "source": [
    "import pandas as pd\n",
    "import numpy as np\n",
    "import re"
   ]
  },
  {
   "cell_type": "markdown",
   "id": "9984328d",
   "metadata": {},
   "source": [
    "# Importando data frame"
   ]
  },
  {
   "cell_type": "code",
   "execution_count": 2,
   "id": "e3a5721e",
   "metadata": {
    "scrolled": true
   },
   "outputs": [
    {
     "data": {
      "text/html": [
       "<div>\n",
       "<style scoped>\n",
       "    .dataframe tbody tr th:only-of-type {\n",
       "        vertical-align: middle;\n",
       "    }\n",
       "\n",
       "    .dataframe tbody tr th {\n",
       "        vertical-align: top;\n",
       "    }\n",
       "\n",
       "    .dataframe thead th {\n",
       "        text-align: right;\n",
       "    }\n",
       "</style>\n",
       "<table border=\"1\" class=\"dataframe\">\n",
       "  <thead>\n",
       "    <tr style=\"text-align: right;\">\n",
       "      <th></th>\n",
       "      <th>Orden</th>\n",
       "      <th>Departamento</th>\n",
       "      <th>Municipio</th>\n",
       "      <th>semana</th>\n",
       "      <th>año</th>\n",
       "      <th>Grupo edad</th>\n",
       "      <th>Ciclo de vida</th>\n",
       "      <th>sexo_</th>\n",
       "      <th>area_</th>\n",
       "      <th>Barrio</th>\n",
       "      <th>...</th>\n",
       "      <th>sust_vict</th>\n",
       "      <th>fec_hecho</th>\n",
       "      <th>hora_hecho</th>\n",
       "      <th>escenario</th>\n",
       "      <th>zona_conf</th>\n",
       "      <th>nom_eve</th>\n",
       "      <th>nom_upgd</th>\n",
       "      <th>ndep_resi</th>\n",
       "      <th>nmun_resi</th>\n",
       "      <th>MES</th>\n",
       "    </tr>\n",
       "  </thead>\n",
       "  <tbody>\n",
       "    <tr>\n",
       "      <th>0</th>\n",
       "      <td>1</td>\n",
       "      <td>SANTANDER</td>\n",
       "      <td>BUCARAMANGA</td>\n",
       "      <td>23</td>\n",
       "      <td>2015</td>\n",
       "      <td>12 a 17</td>\n",
       "      <td>Adolescencia</td>\n",
       "      <td>Masculino</td>\n",
       "      <td>CABECERA MUNICIPAL</td>\n",
       "      <td>Transición</td>\n",
       "      <td>...</td>\n",
       "      <td>2</td>\n",
       "      <td>2015-06-12T00:00:00.000</td>\n",
       "      <td>06:30</td>\n",
       "      <td>1.0</td>\n",
       "      <td>2</td>\n",
       "      <td>VIGILANCIA EN SALUD PÚBLICA DE LAS VIOLENCIAS ...</td>\n",
       "      <td>SERVICLINICOS DROMEDICA SA</td>\n",
       "      <td>SANTANDER</td>\n",
       "      <td>BUCARAMANGA</td>\n",
       "      <td>06. Junio</td>\n",
       "    </tr>\n",
       "  </tbody>\n",
       "</table>\n",
       "<p>1 rows × 32 columns</p>\n",
       "</div>"
      ],
      "text/plain": [
       "   Orden Departamento    Municipio  semana   año Grupo edad Ciclo de vida  \\\n",
       "0      1    SANTANDER  BUCARAMANGA      23  2015    12 a 17  Adolescencia   \n",
       "\n",
       "       sexo_               area_      Barrio  ... sust_vict  \\\n",
       "0  Masculino  CABECERA MUNICIPAL  Transición  ...         2   \n",
       "\n",
       "                 fec_hecho  hora_hecho  escenario zona_conf  \\\n",
       "0  2015-06-12T00:00:00.000       06:30        1.0         2   \n",
       "\n",
       "                                             nom_eve  \\\n",
       "0  VIGILANCIA EN SALUD PÚBLICA DE LAS VIOLENCIAS ...   \n",
       "\n",
       "                     nom_upgd  ndep_resi    nmun_resi        MES  \n",
       "0  SERVICLINICOS DROMEDICA SA  SANTANDER  BUCARAMANGA  06. Junio  \n",
       "\n",
       "[1 rows x 32 columns]"
      ]
     },
     "execution_count": 2,
     "metadata": {},
     "output_type": "execute_result"
    }
   ],
   "source": [
    "violencia = pd.read_csv('.\\Violenciager.csv',encoding=\"utf-8\")\n",
    "violencia.head(1)"
   ]
  },
  {
   "cell_type": "markdown",
   "id": "26a02cd6",
   "metadata": {},
   "source": [
    "Exploring our columns"
   ]
  },
  {
   "cell_type": "code",
   "execution_count": 3,
   "id": "e92826b0",
   "metadata": {},
   "outputs": [
    {
     "data": {
      "text/plain": [
       "Index(['Orden', 'Departamento', 'Municipio', 'semana', 'año', 'Grupo edad',\n",
       "       'Ciclo de vida', 'sexo_', 'area_', 'Barrio', 'Comuna',\n",
       "       'Tipo de Seguridad Social', 'pac_hos_', 'con_fin_', 'version',\n",
       "       'naturaleza', 'def_naturaleza', 'actividad', 'nom_actividad',\n",
       "       'edad_agre', 'sexo_agre', 'parentezco_vict', 'sust_vict', 'fec_hecho',\n",
       "       'hora_hecho', 'escenario', 'zona_conf', 'nom_eve', 'nom_upgd',\n",
       "       'ndep_resi', 'nmun_resi', 'MES'],\n",
       "      dtype='object')"
      ]
     },
     "execution_count": 3,
     "metadata": {},
     "output_type": "execute_result"
    }
   ],
   "source": [
    "violencia.columns"
   ]
  },
  {
   "cell_type": "markdown",
   "id": "528e359d",
   "metadata": {},
   "source": [
    "## - Filtrando por santander"
   ]
  },
  {
   "cell_type": "markdown",
   "id": "73faaff0",
   "metadata": {},
   "source": [
    "deje todo Santander y no sólo bucaramanda para llenar despues los valores faltantes"
   ]
  },
  {
   "cell_type": "code",
   "execution_count": 4,
   "id": "76f688d2",
   "metadata": {},
   "outputs": [],
   "source": [
    "violencia = violencia[violencia['Departamento'] == 'SANTANDER']\n",
    "violencia['Departamento'] = violencia['Departamento'].str.lower()"
   ]
  },
  {
   "cell_type": "markdown",
   "id": "5c692742",
   "metadata": {},
   "source": [
    "## - Datos faltantes"
   ]
  },
  {
   "cell_type": "code",
   "execution_count": 5,
   "id": "5082ee10",
   "metadata": {
    "scrolled": true
   },
   "outputs": [
    {
     "data": {
      "text/html": [
       "<div>\n",
       "<style scoped>\n",
       "    .dataframe tbody tr th:only-of-type {\n",
       "        vertical-align: middle;\n",
       "    }\n",
       "\n",
       "    .dataframe tbody tr th {\n",
       "        vertical-align: top;\n",
       "    }\n",
       "\n",
       "    .dataframe thead th {\n",
       "        text-align: right;\n",
       "    }\n",
       "</style>\n",
       "<table border=\"1\" class=\"dataframe\">\n",
       "  <thead>\n",
       "    <tr style=\"text-align: right;\">\n",
       "      <th></th>\n",
       "      <th>label</th>\n",
       "      <th>missing</th>\n",
       "    </tr>\n",
       "  </thead>\n",
       "  <tbody>\n",
       "    <tr>\n",
       "      <th>naturaleza</th>\n",
       "      <td>naturaleza</td>\n",
       "      <td>1.445030</td>\n",
       "    </tr>\n",
       "    <tr>\n",
       "      <th>def_naturaleza</th>\n",
       "      <td>def_naturaleza</td>\n",
       "      <td>1.445030</td>\n",
       "    </tr>\n",
       "    <tr>\n",
       "      <th>edad_agre</th>\n",
       "      <td>edad_agre</td>\n",
       "      <td>24.585042</td>\n",
       "    </tr>\n",
       "    <tr>\n",
       "      <th>sexo_agre</th>\n",
       "      <td>sexo_agre</td>\n",
       "      <td>0.068346</td>\n",
       "    </tr>\n",
       "    <tr>\n",
       "      <th>fec_hecho</th>\n",
       "      <td>fec_hecho</td>\n",
       "      <td>0.048819</td>\n",
       "    </tr>\n",
       "    <tr>\n",
       "      <th>hora_hecho</th>\n",
       "      <td>hora_hecho</td>\n",
       "      <td>44.727592</td>\n",
       "    </tr>\n",
       "    <tr>\n",
       "      <th>escenario</th>\n",
       "      <td>escenario</td>\n",
       "      <td>0.029291</td>\n",
       "    </tr>\n",
       "  </tbody>\n",
       "</table>\n",
       "</div>"
      ],
      "text/plain": [
       "                         label    missing\n",
       "naturaleza          naturaleza   1.445030\n",
       "def_naturaleza  def_naturaleza   1.445030\n",
       "edad_agre            edad_agre  24.585042\n",
       "sexo_agre            sexo_agre   0.068346\n",
       "fec_hecho            fec_hecho   0.048819\n",
       "hora_hecho          hora_hecho  44.727592\n",
       "escenario            escenario   0.029291"
      ]
     },
     "execution_count": 5,
     "metadata": {},
     "output_type": "execute_result"
    }
   ],
   "source": [
    "percent_missing = violencia.isnull().sum() * 100 / len(violencia)\n",
    "miss_values = pd.DataFrame({'label': violencia.columns,\n",
    "                            'missing': percent_missing})\n",
    "miss_values[miss_values['missing']> 0]"
   ]
  },
  {
   "cell_type": "markdown",
   "id": "f9d01581",
   "metadata": {},
   "source": [
    "# Dando consistencia a las columnas"
   ]
  },
  {
   "cell_type": "code",
   "execution_count": 6,
   "id": "31063d53",
   "metadata": {
    "scrolled": true
   },
   "outputs": [
    {
     "name": "stdout",
     "output_type": "stream",
     "text": [
      "<class 'pandas.core.frame.DataFrame'>\n",
      "Int64Index: 10242 entries, 0 to 10334\n",
      "Data columns (total 32 columns):\n",
      " #   Column                    Non-Null Count  Dtype  \n",
      "---  ------                    --------------  -----  \n",
      " 0   Orden                     10242 non-null  int64  \n",
      " 1   Departamento              10242 non-null  object \n",
      " 2   Municipio                 10242 non-null  object \n",
      " 3   semana                    10242 non-null  int64  \n",
      " 4   año                       10242 non-null  int64  \n",
      " 5   Grupo edad                10242 non-null  object \n",
      " 6   Ciclo de vida             10242 non-null  object \n",
      " 7   sexo_                     10242 non-null  object \n",
      " 8   area_                     10242 non-null  object \n",
      " 9   Barrio                    10242 non-null  object \n",
      " 10  Comuna                    10242 non-null  object \n",
      " 11  Tipo de Seguridad Social  10242 non-null  object \n",
      " 12  pac_hos_                  10242 non-null  int64  \n",
      " 13  con_fin_                  10242 non-null  int64  \n",
      " 14  version                   10242 non-null  object \n",
      " 15  naturaleza                10094 non-null  float64\n",
      " 16  def_naturaleza            10094 non-null  object \n",
      " 17  actividad                 10242 non-null  int64  \n",
      " 18  nom_actividad             10242 non-null  object \n",
      " 19  edad_agre                 7724 non-null   float64\n",
      " 20  sexo_agre                 10235 non-null  object \n",
      " 21  parentezco_vict           10242 non-null  object \n",
      " 22  sust_vict                 10242 non-null  int64  \n",
      " 23  fec_hecho                 10237 non-null  object \n",
      " 24  hora_hecho                5661 non-null   object \n",
      " 25  escenario                 10239 non-null  float64\n",
      " 26  zona_conf                 10242 non-null  int64  \n",
      " 27  nom_eve                   10242 non-null  object \n",
      " 28  nom_upgd                  10242 non-null  object \n",
      " 29  ndep_resi                 10242 non-null  object \n",
      " 30  nmun_resi                 10242 non-null  object \n",
      " 31  MES                       10242 non-null  object \n",
      "dtypes: float64(3), int64(8), object(21)\n",
      "memory usage: 2.6+ MB\n"
     ]
    }
   ],
   "source": [
    "violencia.info()"
   ]
  },
  {
   "cell_type": "markdown",
   "id": "f94619bf",
   "metadata": {},
   "source": [
    "año y semana to datetime\n",
    "\n",
    "- tres valores en semana no s epudieron convertir"
   ]
  },
  {
   "cell_type": "code",
   "execution_count": 7,
   "id": "b1635119",
   "metadata": {},
   "outputs": [],
   "source": [
    "violencia['semana'] = pd.to_datetime(violencia['semana'], format=\"%w\",errors='ignore')"
   ]
  },
  {
   "cell_type": "code",
   "execution_count": 8,
   "id": "f6d09c11",
   "metadata": {},
   "outputs": [],
   "source": [
    "\n",
    "violencia['año'] = pd.to_datetime(violencia['año'], format=\"%Y\")"
   ]
  },
  {
   "cell_type": "markdown",
   "id": "fbb077c2",
   "metadata": {},
   "source": [
    "convertí ciclo de vida y grupo de edad a un tipo categórico, además le quite unos valores que parecen ser un error de excel"
   ]
  },
  {
   "cell_type": "code",
   "execution_count": 9,
   "id": "e35aa313",
   "metadata": {},
   "outputs": [],
   "source": [
    "violencia['Grupo edad'] =violencia['Grupo edad'].replace('ERROR: #N/A',np.nan).astype('category') "
   ]
  },
  {
   "cell_type": "code",
   "execution_count": 10,
   "id": "e12095c8",
   "metadata": {
    "scrolled": false
   },
   "outputs": [],
   "source": [
    "violencia['Ciclo de vida']= violencia['Ciclo de vida'].replace('ERROR: #N/A',np.nan).str.lower()"
   ]
  },
  {
   "cell_type": "markdown",
   "id": "399198b8",
   "metadata": {},
   "source": [
    "Spolo hay F y M entonces fue muy directo volverlo una categoria"
   ]
  },
  {
   "cell_type": "code",
   "execution_count": 11,
   "id": "cdb648a6",
   "metadata": {},
   "outputs": [],
   "source": [
    "violencia['sexo_'] = violencia['sexo_'].astype('category')"
   ]
  },
  {
   "cell_type": "markdown",
   "id": "cb2a1584",
   "metadata": {},
   "source": [
    "A los barrios los puse en minúscula"
   ]
  },
  {
   "cell_type": "code",
   "execution_count": 12,
   "id": "8530e4cf",
   "metadata": {},
   "outputs": [],
   "source": [
    "violencia['Barrio'] = violencia['Barrio'].str.lower()"
   ]
  },
  {
   "cell_type": "markdown",
   "id": "3d582cc6",
   "metadata": {},
   "source": [
    "Las comunas fueron más dificiles porque venían con números y punbtos antes de decir la comuna respectiva\n",
    "\n",
    "- primero los puse en minuscula"
   ]
  },
  {
   "cell_type": "code",
   "execution_count": 13,
   "id": "2925d456",
   "metadata": {},
   "outputs": [],
   "source": [
    "violencia['Comuna']= violencia['Comuna'].str.lower()"
   ]
  },
  {
   "cell_type": "markdown",
   "id": "522b8c9c",
   "metadata": {},
   "source": [
    "- luego los squé a todos en una lista y con re le quité los puntos y números que tenía"
   ]
  },
  {
   "cell_type": "code",
   "execution_count": 14,
   "id": "76a38d5b",
   "metadata": {},
   "outputs": [],
   "source": [
    "\n",
    "order = r'[0-9,.]'\n",
    "comunas = list(violencia['Comuna'].str.lower())\n",
    "comunas_clean = []\n",
    "for i in range(len(comunas)):\n",
    "    \n",
    "    filtered_string = re.sub(order,'',comunas[i])\n",
    "    comunas_clean.append(filtered_string.lstrip())        \n",
    "\n",
    "comunas_clean = pd.Series(comunas_clean)"
   ]
  },
  {
   "cell_type": "markdown",
   "id": "d0db4e72",
   "metadata": {},
   "source": [
    "- finalmente lo puse en la columna ya los datos limpios"
   ]
  },
  {
   "cell_type": "code",
   "execution_count": 15,
   "id": "2d2bd715",
   "metadata": {},
   "outputs": [],
   "source": [
    "violencia['Comuna'] =comunas_clean"
   ]
  },
  {
   "cell_type": "markdown",
   "id": "8ea2fb53",
   "metadata": {},
   "source": [
    "A los de ss sólo les bajé la fuente"
   ]
  },
  {
   "cell_type": "code",
   "execution_count": 16,
   "id": "45bad705",
   "metadata": {},
   "outputs": [],
   "source": [
    "violencia['Tipo de Seguridad Social']=violencia['Tipo de Seguridad Social'].str.lower()"
   ]
  },
  {
   "cell_type": "markdown",
   "id": "d755f0eb",
   "metadata": {},
   "source": [
    "Con fin es si entro vivo o muerto pero había unos cuantos en 0 envez de 1 y 2"
   ]
  },
  {
   "cell_type": "code",
   "execution_count": 17,
   "id": "58a963f6",
   "metadata": {},
   "outputs": [],
   "source": [
    "violencia['con_fin_'] = violencia['con_fin_'].astype('category').replace(0,np.nan)"
   ]
  },
  {
   "cell_type": "markdown",
   "id": "f1bb5e8f",
   "metadata": {},
   "source": [
    "En la naturaleza de la violencia la categoría 99 significaba 'sin información' po loq eu la convertí a un nan"
   ]
  },
  {
   "cell_type": "code",
   "execution_count": 18,
   "id": "304692c0",
   "metadata": {},
   "outputs": [],
   "source": [
    "violencia['naturaleza'] = violencia['naturaleza'].replace(99.0,np.nan)\n",
    "violencia['naturaleza']=violencia['naturaleza'].astype('category')"
   ]
  },
  {
   "cell_type": "markdown",
   "id": "90537e84",
   "metadata": {},
   "source": [
    "Sin información lo convertí en un nan"
   ]
  },
  {
   "cell_type": "code",
   "execution_count": 19,
   "id": "0257f042",
   "metadata": {},
   "outputs": [],
   "source": [
    "\n",
    "\n",
    "violencia['def_naturaleza'] =violencia['def_naturaleza'].replace('Sin información',np.nan)\n",
    "violencia['def_naturaleza']=violencia['def_naturaleza'].str.lower().astype('category')"
   ]
  },
  {
   "cell_type": "markdown",
   "id": "43bf053f",
   "metadata": {},
   "source": [
    "categoricé las actividades que se corresponden con un número"
   ]
  },
  {
   "cell_type": "code",
   "execution_count": 20,
   "id": "b6b3f099",
   "metadata": {},
   "outputs": [],
   "source": [
    "violencia['actividad']\n",
    "violencia['actividad'] =violencia['actividad'].astype('category')"
   ]
  },
  {
   "cell_type": "markdown",
   "id": "7526203f",
   "metadata": {},
   "source": [
    "Deje la categoría ninguno puesot que puede ser que no se dedicque a nada"
   ]
  },
  {
   "cell_type": "code",
   "execution_count": 21,
   "id": "ba1ba7a5",
   "metadata": {
    "scrolled": false
   },
   "outputs": [],
   "source": [
    "violencia['nom_actividad']= violencia['nom_actividad'].replace('ERROR: #N/A',np.nan).str.lower()\n",
    "violencia['nom_actividad'] =violencia['nom_actividad'].astype('category')"
   ]
  },
  {
   "cell_type": "code",
   "execution_count": 22,
   "id": "3316720f",
   "metadata": {},
   "outputs": [
    {
     "data": {
      "text/plain": [
       "['otro', 'estudiante', 'reciclador', 'trabajadora domestica', 'servidor publico', ..., 'persona dedicada al cuidado del hogar', 'líder cívico', 'persona en situación de prostitución', NaN, 'persona que cuida a otros']\n",
       "Length: 13\n",
       "Categories (12, object): ['otro', 'estudiante', 'reciclador', 'trabajadora domestica', ..., 'persona dedicada al cuidado del hogar', 'líder cívico', 'persona en situación de prostitución', 'persona que cuida a otros']"
      ]
     },
     "execution_count": 22,
     "metadata": {},
     "output_type": "execute_result"
    }
   ],
   "source": [
    "violencia['nom_actividad'].unique()"
   ]
  },
  {
   "cell_type": "markdown",
   "id": "8e6c605e",
   "metadata": {},
   "source": [
    " La edad la deje cómo una categoría para reemplazar los valores faltantes, además los que tenían edad 0 los reemplace con nan, esto elebó el valor de datos faltantes de 24% a 50%\n",
    "\n",
    "\n",
    "\n",
    "\n",
    "\n"
   ]
  },
  {
   "cell_type": "code",
   "execution_count": 23,
   "id": "a684de11",
   "metadata": {
    "scrolled": false
   },
   "outputs": [],
   "source": [
    "\n",
    "violencia['edad_agre']=violencia['edad_agre'].astype('category')\n"
   ]
  },
  {
   "cell_type": "code",
   "execution_count": 24,
   "id": "f51dba4a",
   "metadata": {},
   "outputs": [],
   "source": [
    "violencia['edad_agre'] = violencia['edad_agre'].replace(0.0,np.nan)"
   ]
  },
  {
   "cell_type": "markdown",
   "id": "179a4eb4",
   "metadata": {},
   "source": [
    "Tiene 4 categorías M,MF SD e I"
   ]
  },
  {
   "cell_type": "code",
   "execution_count": 25,
   "id": "a061f97e",
   "metadata": {},
   "outputs": [],
   "source": [
    "violencia['sexo_agre'] =violencia['sexo_agre'].astype('category')"
   ]
  },
  {
   "cell_type": "markdown",
   "id": "4ab24809",
   "metadata": {},
   "source": [
    "Lo puse en minúsculas"
   ]
  },
  {
   "cell_type": "code",
   "execution_count": 26,
   "id": "d13861b8",
   "metadata": {},
   "outputs": [],
   "source": [
    "violencia['parentezco_vict'] = violencia['parentezco_vict'].str.lower()\n"
   ]
  },
  {
   "cell_type": "markdown",
   "id": "20305914",
   "metadata": {},
   "source": [
    "Canvié la fecha del hecho a datetime"
   ]
  },
  {
   "cell_type": "code",
   "execution_count": 27,
   "id": "84f4f7f3",
   "metadata": {},
   "outputs": [],
   "source": [
    "violencia['fec_hecho']=pd.to_datetime(violencia['fec_hecho'].str.split('T00').str[0],format='%Y-%m-%d')"
   ]
  },
  {
   "cell_type": "markdown",
   "id": "b1be718f",
   "metadata": {},
   "source": [
    "Con la hora hacían falta el 44% de los datos por lo tanto tuve que ignorar los valores restantes"
   ]
  },
  {
   "cell_type": "code",
   "execution_count": 28,
   "id": "ea7a260a",
   "metadata": {},
   "outputs": [],
   "source": [
    "violencia['hora_hecho'] = pd.to_datetime(violencia['hora_hecho'],format='%H:%M',errors= 'ignore')"
   ]
  },
  {
   "cell_type": "markdown",
   "id": "996be221",
   "metadata": {},
   "source": [
    "departamento de residencia minúsculas"
   ]
  },
  {
   "cell_type": "code",
   "execution_count": 29,
   "id": "8f644dc3",
   "metadata": {},
   "outputs": [],
   "source": [
    "violencia['ndep_resi'] = violencia['ndep_resi'].str.lower()"
   ]
  },
  {
   "cell_type": "markdown",
   "id": "bb508dfc",
   "metadata": {},
   "source": [
    "mes a date time"
   ]
  },
  {
   "cell_type": "code",
   "execution_count": 30,
   "id": "11874f9d",
   "metadata": {},
   "outputs": [],
   "source": [
    "violencia['MES'] = pd.to_datetime(violencia['MES'].str.split('.').str[0],format='%m').dt.month"
   ]
  },
  {
   "cell_type": "markdown",
   "id": "c2de74cc",
   "metadata": {},
   "source": [
    "### Así queda la consistencia de la tabla"
   ]
  },
  {
   "cell_type": "code",
   "execution_count": 31,
   "id": "fe757de3",
   "metadata": {
    "scrolled": true
   },
   "outputs": [
    {
     "name": "stdout",
     "output_type": "stream",
     "text": [
      "<class 'pandas.core.frame.DataFrame'>\n",
      "Int64Index: 10242 entries, 0 to 10334\n",
      "Data columns (total 32 columns):\n",
      " #   Column                    Non-Null Count  Dtype         \n",
      "---  ------                    --------------  -----         \n",
      " 0   Orden                     10242 non-null  int64         \n",
      " 1   Departamento              10242 non-null  object        \n",
      " 2   Municipio                 10242 non-null  object        \n",
      " 3   semana                    10242 non-null  int64         \n",
      " 4   año                       10242 non-null  datetime64[ns]\n",
      " 5   Grupo edad                10241 non-null  category      \n",
      " 6   Ciclo de vida             10241 non-null  object        \n",
      " 7   sexo_                     10242 non-null  category      \n",
      " 8   area_                     10242 non-null  object        \n",
      " 9   Barrio                    10242 non-null  object        \n",
      " 10  Comuna                    10153 non-null  object        \n",
      " 11  Tipo de Seguridad Social  10242 non-null  object        \n",
      " 12  pac_hos_                  10242 non-null  int64         \n",
      " 13  con_fin_                  10238 non-null  category      \n",
      " 14  version                   10242 non-null  object        \n",
      " 15  naturaleza                9471 non-null   category      \n",
      " 16  def_naturaleza            9471 non-null   category      \n",
      " 17  actividad                 10242 non-null  category      \n",
      " 18  nom_actividad             10237 non-null  category      \n",
      " 19  edad_agre                 5081 non-null   category      \n",
      " 20  sexo_agre                 10235 non-null  category      \n",
      " 21  parentezco_vict           10242 non-null  object        \n",
      " 22  sust_vict                 10242 non-null  int64         \n",
      " 23  fec_hecho                 10237 non-null  datetime64[ns]\n",
      " 24  hora_hecho                5661 non-null   object        \n",
      " 25  escenario                 10239 non-null  float64       \n",
      " 26  zona_conf                 10242 non-null  int64         \n",
      " 27  nom_eve                   10242 non-null  object        \n",
      " 28  nom_upgd                  10242 non-null  object        \n",
      " 29  ndep_resi                 10242 non-null  object        \n",
      " 30  nmun_resi                 10242 non-null  object        \n",
      " 31  MES                       10242 non-null  int64         \n",
      "dtypes: category(9), datetime64[ns](2), float64(1), int64(6), object(14)\n",
      "memory usage: 2.0+ MB\n"
     ]
    }
   ],
   "source": [
    "violencia.info()"
   ]
  },
  {
   "cell_type": "markdown",
   "id": "25f3b182",
   "metadata": {},
   "source": [
    "## Interpolating missing values"
   ]
  },
  {
   "cell_type": "code",
   "execution_count": 32,
   "id": "71bd676d",
   "metadata": {
    "scrolled": true
   },
   "outputs": [
    {
     "data": {
      "text/html": [
       "<div>\n",
       "<style scoped>\n",
       "    .dataframe tbody tr th:only-of-type {\n",
       "        vertical-align: middle;\n",
       "    }\n",
       "\n",
       "    .dataframe tbody tr th {\n",
       "        vertical-align: top;\n",
       "    }\n",
       "\n",
       "    .dataframe thead th {\n",
       "        text-align: right;\n",
       "    }\n",
       "</style>\n",
       "<table border=\"1\" class=\"dataframe\">\n",
       "  <thead>\n",
       "    <tr style=\"text-align: right;\">\n",
       "      <th></th>\n",
       "      <th>label</th>\n",
       "      <th>missing</th>\n",
       "    </tr>\n",
       "  </thead>\n",
       "  <tbody>\n",
       "    <tr>\n",
       "      <th>Grupo edad</th>\n",
       "      <td>Grupo edad</td>\n",
       "      <td>0.009764</td>\n",
       "    </tr>\n",
       "    <tr>\n",
       "      <th>Ciclo de vida</th>\n",
       "      <td>Ciclo de vida</td>\n",
       "      <td>0.009764</td>\n",
       "    </tr>\n",
       "    <tr>\n",
       "      <th>Comuna</th>\n",
       "      <td>Comuna</td>\n",
       "      <td>0.868971</td>\n",
       "    </tr>\n",
       "    <tr>\n",
       "      <th>con_fin_</th>\n",
       "      <td>con_fin_</td>\n",
       "      <td>0.039055</td>\n",
       "    </tr>\n",
       "    <tr>\n",
       "      <th>naturaleza</th>\n",
       "      <td>naturaleza</td>\n",
       "      <td>7.527827</td>\n",
       "    </tr>\n",
       "    <tr>\n",
       "      <th>def_naturaleza</th>\n",
       "      <td>def_naturaleza</td>\n",
       "      <td>7.527827</td>\n",
       "    </tr>\n",
       "    <tr>\n",
       "      <th>nom_actividad</th>\n",
       "      <td>nom_actividad</td>\n",
       "      <td>0.048819</td>\n",
       "    </tr>\n",
       "    <tr>\n",
       "      <th>edad_agre</th>\n",
       "      <td>edad_agre</td>\n",
       "      <td>50.390549</td>\n",
       "    </tr>\n",
       "    <tr>\n",
       "      <th>sexo_agre</th>\n",
       "      <td>sexo_agre</td>\n",
       "      <td>0.068346</td>\n",
       "    </tr>\n",
       "    <tr>\n",
       "      <th>fec_hecho</th>\n",
       "      <td>fec_hecho</td>\n",
       "      <td>0.048819</td>\n",
       "    </tr>\n",
       "    <tr>\n",
       "      <th>hora_hecho</th>\n",
       "      <td>hora_hecho</td>\n",
       "      <td>44.727592</td>\n",
       "    </tr>\n",
       "    <tr>\n",
       "      <th>escenario</th>\n",
       "      <td>escenario</td>\n",
       "      <td>0.029291</td>\n",
       "    </tr>\n",
       "  </tbody>\n",
       "</table>\n",
       "</div>"
      ],
      "text/plain": [
       "                         label    missing\n",
       "Grupo edad          Grupo edad   0.009764\n",
       "Ciclo de vida    Ciclo de vida   0.009764\n",
       "Comuna                  Comuna   0.868971\n",
       "con_fin_              con_fin_   0.039055\n",
       "naturaleza          naturaleza   7.527827\n",
       "def_naturaleza  def_naturaleza   7.527827\n",
       "nom_actividad    nom_actividad   0.048819\n",
       "edad_agre            edad_agre  50.390549\n",
       "sexo_agre            sexo_agre   0.068346\n",
       "fec_hecho            fec_hecho   0.048819\n",
       "hora_hecho          hora_hecho  44.727592\n",
       "escenario            escenario   0.029291"
      ]
     },
     "execution_count": 32,
     "metadata": {},
     "output_type": "execute_result"
    }
   ],
   "source": [
    "percent_missing = violencia.isnull().sum() * 100 / len(violencia)\n",
    "miss_values = pd.DataFrame({'label': violencia.columns,\n",
    "                            'missing': percent_missing})\n",
    "miss_values[miss_values['missing']> 0]"
   ]
  },
  {
   "cell_type": "markdown",
   "id": "b7429869",
   "metadata": {},
   "source": [
    "primer interpolé las categorías del tipo de violencia"
   ]
  },
  {
   "cell_type": "code",
   "execution_count": 33,
   "id": "cd1f02c0",
   "metadata": {},
   "outputs": [],
   "source": [
    "cat_codes_num = violencia['naturaleza'].cat.codes.replace(-1, np.nan)\n",
    "cat_codes_num = cat_codes_num.interpolate()\n",
    "cat_codes_num = cat_codes_num.astype(int).astype('category')\n",
    "#-------------------------------\n",
    "violencia['naturaleza'] = cat_codes_num"
   ]
  },
  {
   "cell_type": "markdown",
   "id": "9684cfd4",
   "metadata": {},
   "source": [
    "como las categorias de violencia se corresponden con un tipod e violencia en als filas que hacía falta ese dato puse el nombre del tipod e violencia según la categoríua qeu hab´pia sido intepolada"
   ]
  },
  {
   "cell_type": "code",
   "execution_count": 34,
   "id": "c81e6f43",
   "metadata": {},
   "outputs": [],
   "source": [
    "dicnat = {0:'violencia fisica',\n",
    "          1:'violencia psicologica',\n",
    "          2:'negligencia y abandono',\n",
    "          3:'abuso sexual',\n",
    "          4:'acoso sexual',\n",
    "          5:'violacion',\n",
    "          6:'explotacion sexual, comercial niños, adolescentes',\n",
    "          7:'actos sexuales violencia',\n",
    "          8:'otros actos sexuales'    \n",
    "}\n",
    "numbers = list(violencia[violencia['def_naturaleza'].isna()].index)\n",
    "for i in range(len(numbers)):\n",
    "    violencia['def_naturaleza'].loc[numbers[i]] = dicnat[violencia['naturaleza'].loc[i] ]"
   ]
  },
  {
   "cell_type": "markdown",
   "id": "eb810347",
   "metadata": {},
   "source": [
    "en la edad faltaba el 50% de los datos hice lo mejor que pude y lso interpolé"
   ]
  },
  {
   "cell_type": "code",
   "execution_count": 35,
   "id": "bd697537",
   "metadata": {},
   "outputs": [],
   "source": [
    "cat_codes_age = violencia['edad_agre'].cat.codes.replace(-1, np.nan).replace(0, np.nan)\n",
    "cat_codes_age= cat_codes_age.interpolate()\n",
    "cat_codes_age = round(cat_codes_age.astype(float),1)\n",
    "#--------------\n",
    "violencia['edad_agre'] = cat_codes_age"
   ]
  },
  {
   "cell_type": "markdown",
   "id": "6f3e8244",
   "metadata": {},
   "source": [
    "lo mismo del paso 1 pero con activbidad"
   ]
  },
  {
   "cell_type": "code",
   "execution_count": 36,
   "id": "9b841b64",
   "metadata": {},
   "outputs": [],
   "source": [
    "cat_codes_act = violencia['actividad'].cat.codes.replace(-1, np.nan)\n",
    "cat_codes_act= cat_codes_act.interpolate()\n",
    "cat_codes_act=cat_codes_act.astype(int).astype('category')\n",
    "# #--------------\n",
    "violencia['actividad'] = cat_codes_act"
   ]
  },
  {
   "cell_type": "markdown",
   "id": "5094c6c9",
   "metadata": {},
   "source": [
    "Faltaban pococs valores y todos eran de la categoría 9 = nan por loq eu hice la decisión de jearlos en ninguno cat = 12\n"
   ]
  },
  {
   "cell_type": "code",
   "execution_count": 41,
   "id": "5f16fb34",
   "metadata": {},
   "outputs": [],
   "source": [
    "dicact = {9: 'ninguna'   \n",
    "}\n",
    "#12\n",
    "numbers_act = list(violencia[violencia['nom_actividad'].isna()].index)\n",
    "for i in range(len(numbers_act)):\n",
    "   \n",
    "    violencia['nom_actividad'].loc[numbers_act[i]] = dicact[9]\n",
    "    violencia['actividad'].loc[numbers_act[i]] = 12"
   ]
  },
  {
   "cell_type": "code",
   "execution_count": 43,
   "id": "0c5966d7",
   "metadata": {
    "scrolled": true
   },
   "outputs": [
    {
     "data": {
      "text/html": [
       "<div>\n",
       "<style scoped>\n",
       "    .dataframe tbody tr th:only-of-type {\n",
       "        vertical-align: middle;\n",
       "    }\n",
       "\n",
       "    .dataframe tbody tr th {\n",
       "        vertical-align: top;\n",
       "    }\n",
       "\n",
       "    .dataframe thead th {\n",
       "        text-align: right;\n",
       "    }\n",
       "</style>\n",
       "<table border=\"1\" class=\"dataframe\">\n",
       "  <thead>\n",
       "    <tr style=\"text-align: right;\">\n",
       "      <th></th>\n",
       "      <th>label</th>\n",
       "      <th>missing</th>\n",
       "    </tr>\n",
       "  </thead>\n",
       "  <tbody>\n",
       "    <tr>\n",
       "      <th>Grupo edad</th>\n",
       "      <td>Grupo edad</td>\n",
       "      <td>0.009764</td>\n",
       "    </tr>\n",
       "    <tr>\n",
       "      <th>Ciclo de vida</th>\n",
       "      <td>Ciclo de vida</td>\n",
       "      <td>0.009764</td>\n",
       "    </tr>\n",
       "    <tr>\n",
       "      <th>Comuna</th>\n",
       "      <td>Comuna</td>\n",
       "      <td>0.868971</td>\n",
       "    </tr>\n",
       "    <tr>\n",
       "      <th>con_fin_</th>\n",
       "      <td>con_fin_</td>\n",
       "      <td>0.039055</td>\n",
       "    </tr>\n",
       "    <tr>\n",
       "      <th>sexo_agre</th>\n",
       "      <td>sexo_agre</td>\n",
       "      <td>0.068346</td>\n",
       "    </tr>\n",
       "    <tr>\n",
       "      <th>fec_hecho</th>\n",
       "      <td>fec_hecho</td>\n",
       "      <td>0.048819</td>\n",
       "    </tr>\n",
       "    <tr>\n",
       "      <th>hora_hecho</th>\n",
       "      <td>hora_hecho</td>\n",
       "      <td>44.727592</td>\n",
       "    </tr>\n",
       "    <tr>\n",
       "      <th>escenario</th>\n",
       "      <td>escenario</td>\n",
       "      <td>0.029291</td>\n",
       "    </tr>\n",
       "  </tbody>\n",
       "</table>\n",
       "</div>"
      ],
      "text/plain": [
       "                       label    missing\n",
       "Grupo edad        Grupo edad   0.009764\n",
       "Ciclo de vida  Ciclo de vida   0.009764\n",
       "Comuna                Comuna   0.868971\n",
       "con_fin_            con_fin_   0.039055\n",
       "sexo_agre          sexo_agre   0.068346\n",
       "fec_hecho          fec_hecho   0.048819\n",
       "hora_hecho        hora_hecho  44.727592\n",
       "escenario          escenario   0.029291"
      ]
     },
     "execution_count": 43,
     "metadata": {},
     "output_type": "execute_result"
    }
   ],
   "source": [
    "percent_missing = violencia.isnull().sum() * 100 / len(violencia)\n",
    "miss_values = pd.DataFrame({'label': violencia.columns,\n",
    "                            'missing': percent_missing})\n",
    "miss_values[miss_values['missing']> 0]"
   ]
  },
  {
   "cell_type": "code",
   "execution_count": 44,
   "id": "b2e21af3",
   "metadata": {},
   "outputs": [],
   "source": [
    "violencia.to_csv('.\\Violencia_clean.csv',encoding=\"utf-8\")"
   ]
  },
  {
   "cell_type": "code",
   "execution_count": 59,
   "id": "f1653807",
   "metadata": {},
   "outputs": [
    {
     "data": {
      "text/plain": [
       "0        Masculino\n",
       "1        Masculino\n",
       "2         Femenino\n",
       "3         Femenino\n",
       "4         Femenino\n",
       "           ...    \n",
       "10330    Masculino\n",
       "10331    Masculino\n",
       "10332     Femenino\n",
       "10333     Femenino\n",
       "10334     Femenino\n",
       "Name: sexo_, Length: 10242, dtype: category\n",
       "Categories (2, object): ['Femenino', 'Masculino']"
      ]
     },
     "execution_count": 59,
     "metadata": {},
     "output_type": "execute_result"
    }
   ],
   "source": [
    "violencia['sexo_']"
   ]
  },
  {
   "cell_type": "code",
   "execution_count": 60,
   "id": "93f9144c",
   "metadata": {},
   "outputs": [
    {
     "data": {
      "text/plain": [
       "Orden                       7011\n",
       "Departamento                7011\n",
       "Municipio                   7011\n",
       "semana                      7011\n",
       "año                         7011\n",
       "Grupo edad                  7011\n",
       "Ciclo de vida               7011\n",
       "sexo_                       7011\n",
       "area_                       7011\n",
       "Barrio                      7011\n",
       "Comuna                      6942\n",
       "Tipo de Seguridad Social    7011\n",
       "pac_hos_                    7011\n",
       "con_fin_                    7009\n",
       "version                     7011\n",
       "naturaleza                  7011\n",
       "def_naturaleza              7011\n",
       "actividad                   7011\n",
       "nom_actividad               7011\n",
       "edad_agre                   7011\n",
       "sexo_agre                   7006\n",
       "parentezco_vict             7011\n",
       "sust_vict                   7011\n",
       "fec_hecho                   7006\n",
       "hora_hecho                  3726\n",
       "escenario                   7008\n",
       "zona_conf                   7011\n",
       "nom_eve                     7011\n",
       "nom_upgd                    7011\n",
       "ndep_resi                   7011\n",
       "nmun_resi                   7011\n",
       "MES                         7011\n",
       "dtype: int64"
      ]
     },
     "execution_count": 60,
     "metadata": {},
     "output_type": "execute_result"
    }
   ],
   "source": [
    "violencia[violencia['sexo_'] == 'Femenino'].count()"
   ]
  },
  {
   "cell_type": "code",
   "execution_count": 56,
   "id": "09da9a38",
   "metadata": {},
   "outputs": [
    {
     "data": {
      "text/html": [
       "<div>\n",
       "<style scoped>\n",
       "    .dataframe tbody tr th:only-of-type {\n",
       "        vertical-align: middle;\n",
       "    }\n",
       "\n",
       "    .dataframe tbody tr th {\n",
       "        vertical-align: top;\n",
       "    }\n",
       "\n",
       "    .dataframe thead th {\n",
       "        text-align: right;\n",
       "    }\n",
       "</style>\n",
       "<table border=\"1\" class=\"dataframe\">\n",
       "  <thead>\n",
       "    <tr style=\"text-align: right;\">\n",
       "      <th></th>\n",
       "      <th>Orden</th>\n",
       "      <th>semana</th>\n",
       "      <th>pac_hos_</th>\n",
       "      <th>edad_agre</th>\n",
       "      <th>sust_vict</th>\n",
       "      <th>escenario</th>\n",
       "      <th>zona_conf</th>\n",
       "      <th>MES</th>\n",
       "    </tr>\n",
       "  </thead>\n",
       "  <tbody>\n",
       "    <tr>\n",
       "      <th>Orden</th>\n",
       "      <td>1.000000</td>\n",
       "      <td>-0.066544</td>\n",
       "      <td>0.007827</td>\n",
       "      <td>-0.094755</td>\n",
       "      <td>0.016887</td>\n",
       "      <td>0.085436</td>\n",
       "      <td>0.028320</td>\n",
       "      <td>-0.084658</td>\n",
       "    </tr>\n",
       "    <tr>\n",
       "      <th>semana</th>\n",
       "      <td>-0.066544</td>\n",
       "      <td>1.000000</td>\n",
       "      <td>0.001193</td>\n",
       "      <td>0.010014</td>\n",
       "      <td>0.001932</td>\n",
       "      <td>0.001861</td>\n",
       "      <td>-0.009106</td>\n",
       "      <td>0.905272</td>\n",
       "    </tr>\n",
       "    <tr>\n",
       "      <th>pac_hos_</th>\n",
       "      <td>0.007827</td>\n",
       "      <td>0.001193</td>\n",
       "      <td>1.000000</td>\n",
       "      <td>0.044179</td>\n",
       "      <td>0.031254</td>\n",
       "      <td>-0.017909</td>\n",
       "      <td>-0.018543</td>\n",
       "      <td>0.015861</td>\n",
       "    </tr>\n",
       "    <tr>\n",
       "      <th>edad_agre</th>\n",
       "      <td>-0.094755</td>\n",
       "      <td>0.010014</td>\n",
       "      <td>0.044179</td>\n",
       "      <td>1.000000</td>\n",
       "      <td>-0.005938</td>\n",
       "      <td>-0.040472</td>\n",
       "      <td>-0.013729</td>\n",
       "      <td>0.024698</td>\n",
       "    </tr>\n",
       "    <tr>\n",
       "      <th>sust_vict</th>\n",
       "      <td>0.016887</td>\n",
       "      <td>0.001932</td>\n",
       "      <td>0.031254</td>\n",
       "      <td>-0.005938</td>\n",
       "      <td>1.000000</td>\n",
       "      <td>-0.016889</td>\n",
       "      <td>0.040347</td>\n",
       "      <td>-0.007642</td>\n",
       "    </tr>\n",
       "    <tr>\n",
       "      <th>escenario</th>\n",
       "      <td>0.085436</td>\n",
       "      <td>0.001861</td>\n",
       "      <td>-0.017909</td>\n",
       "      <td>-0.040472</td>\n",
       "      <td>-0.016889</td>\n",
       "      <td>1.000000</td>\n",
       "      <td>0.007305</td>\n",
       "      <td>0.014107</td>\n",
       "    </tr>\n",
       "    <tr>\n",
       "      <th>zona_conf</th>\n",
       "      <td>0.028320</td>\n",
       "      <td>-0.009106</td>\n",
       "      <td>-0.018543</td>\n",
       "      <td>-0.013729</td>\n",
       "      <td>0.040347</td>\n",
       "      <td>0.007305</td>\n",
       "      <td>1.000000</td>\n",
       "      <td>-0.000865</td>\n",
       "    </tr>\n",
       "    <tr>\n",
       "      <th>MES</th>\n",
       "      <td>-0.084658</td>\n",
       "      <td>0.905272</td>\n",
       "      <td>0.015861</td>\n",
       "      <td>0.024698</td>\n",
       "      <td>-0.007642</td>\n",
       "      <td>0.014107</td>\n",
       "      <td>-0.000865</td>\n",
       "      <td>1.000000</td>\n",
       "    </tr>\n",
       "  </tbody>\n",
       "</table>\n",
       "</div>"
      ],
      "text/plain": [
       "              Orden    semana  pac_hos_  edad_agre  sust_vict  escenario  \\\n",
       "Orden      1.000000 -0.066544  0.007827  -0.094755   0.016887   0.085436   \n",
       "semana    -0.066544  1.000000  0.001193   0.010014   0.001932   0.001861   \n",
       "pac_hos_   0.007827  0.001193  1.000000   0.044179   0.031254  -0.017909   \n",
       "edad_agre -0.094755  0.010014  0.044179   1.000000  -0.005938  -0.040472   \n",
       "sust_vict  0.016887  0.001932  0.031254  -0.005938   1.000000  -0.016889   \n",
       "escenario  0.085436  0.001861 -0.017909  -0.040472  -0.016889   1.000000   \n",
       "zona_conf  0.028320 -0.009106 -0.018543  -0.013729   0.040347   0.007305   \n",
       "MES       -0.084658  0.905272  0.015861   0.024698  -0.007642   0.014107   \n",
       "\n",
       "           zona_conf       MES  \n",
       "Orden       0.028320 -0.084658  \n",
       "semana     -0.009106  0.905272  \n",
       "pac_hos_   -0.018543  0.015861  \n",
       "edad_agre  -0.013729  0.024698  \n",
       "sust_vict   0.040347 -0.007642  \n",
       "escenario   0.007305  0.014107  \n",
       "zona_conf   1.000000 -0.000865  \n",
       "MES        -0.000865  1.000000  "
      ]
     },
     "execution_count": 56,
     "metadata": {},
     "output_type": "execute_result"
    }
   ],
   "source": [
    "violencia.corr()"
   ]
  },
  {
   "cell_type": "code",
   "execution_count": null,
   "id": "ffc40ca6",
   "metadata": {},
   "outputs": [],
   "source": []
  }
 ],
 "metadata": {
  "kernelspec": {
   "display_name": "Python 3",
   "language": "python",
   "name": "python3"
  },
  "language_info": {
   "codemirror_mode": {
    "name": "ipython",
    "version": 3
   },
   "file_extension": ".py",
   "mimetype": "text/x-python",
   "name": "python",
   "nbconvert_exporter": "python",
   "pygments_lexer": "ipython3",
   "version": "3.8.8"
  }
 },
 "nbformat": 4,
 "nbformat_minor": 5
}
